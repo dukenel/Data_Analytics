{
  "nbformat": 4,
  "nbformat_minor": 0,
  "metadata": {
    "colab": {
      "name": "nlp_class_note_1206_Duke.ipynb",
      "provenance": [],
      "collapsed_sections": [],
      "include_colab_link": true
    },
    "kernelspec": {
      "name": "python3",
      "display_name": "Python 3"
    },
    "language_info": {
      "name": "python"
    }
  },
  "cells": [
    {
      "cell_type": "markdown",
      "metadata": {
        "id": "view-in-github",
        "colab_type": "text"
      },
      "source": [
        "<a href=\"https://colab.research.google.com/github/dukenel/Data_Analytics/blob/master/nlp_class_note_1206_Duke.ipynb\" target=\"_parent\"><img src=\"https://colab.research.google.com/assets/colab-badge.svg\" alt=\"Open In Colab\"/></a>"
      ]
    },
    {
      "cell_type": "code",
      "metadata": {
        "id": "qrCPR_06MdLa"
      },
      "source": [
        "from sklearn.feature_extraction.text import CountVectorizer"
      ],
      "execution_count": 54,
      "outputs": []
    },
    {
      "cell_type": "code",
      "metadata": {
        "id": "daFP4XOgNV9q"
      },
      "source": [
        "import numpy as np"
      ],
      "execution_count": 55,
      "outputs": []
    },
    {
      "cell_type": "code",
      "metadata": {
        "id": "ufYZhwEbNXtX"
      },
      "source": [
        "import pandas as pd"
      ],
      "execution_count": 56,
      "outputs": []
    },
    {
      "cell_type": "code",
      "metadata": {
        "id": "h6_v-BECNc--"
      },
      "source": [
        "# iniialize the vector\n",
        "cv = CountVectorizer()"
      ],
      "execution_count": 57,
      "outputs": []
    },
    {
      "cell_type": "code",
      "metadata": {
        "id": "c-skPOX0NsOU"
      },
      "source": [
        "document1= 'Hi Bruno, how are you?'"
      ],
      "execution_count": 58,
      "outputs": []
    },
    {
      "cell_type": "code",
      "metadata": {
        "id": "NXSYQuurOLt-"
      },
      "source": [
        "document2 = 'today is very very cloudy, but we are doing fine'"
      ],
      "execution_count": 59,
      "outputs": []
    },
    {
      "cell_type": "code",
      "metadata": {
        "id": "tU8n6HjoORTJ"
      },
      "source": [
        "document3 = 'NLP is fun fun fun'"
      ],
      "execution_count": 60,
      "outputs": []
    },
    {
      "cell_type": "code",
      "metadata": {
        "colab": {
          "base_uri": "https://localhost:8080/"
        },
        "id": "wqdN2dq0OXLC",
        "outputId": "994eb6d1-f0aa-4358-ee67-034cdf30ec19"
      },
      "source": [
        "type(document1)"
      ],
      "execution_count": 61,
      "outputs": [
        {
          "output_type": "execute_result",
          "data": {
            "text/plain": [
              "str"
            ]
          },
          "metadata": {},
          "execution_count": 61
        }
      ]
    },
    {
      "cell_type": "code",
      "metadata": {
        "id": "L906LbhGOfGl"
      },
      "source": [
        "list_of_document = [document1,document2,document3]"
      ],
      "execution_count": 62,
      "outputs": []
    },
    {
      "cell_type": "code",
      "metadata": {
        "colab": {
          "base_uri": "https://localhost:8080/"
        },
        "id": "1T3ZlACAOpuZ",
        "outputId": "6a2213e3-3f07-4fa6-fbd6-78207a52da50"
      },
      "source": [
        "list_of_document"
      ],
      "execution_count": 63,
      "outputs": [
        {
          "output_type": "execute_result",
          "data": {
            "text/plain": [
              "['Hi Bruno, how are you?',\n",
              " 'today is very very cloudy, but we are doing fine',\n",
              " 'NLP is fun fun fun']"
            ]
          },
          "metadata": {},
          "execution_count": 63
        }
      ]
    },
    {
      "cell_type": "code",
      "metadata": {
        "colab": {
          "base_uri": "https://localhost:8080/"
        },
        "id": "IEHSNxVUOuum",
        "outputId": "e4e24da6-5463-4245-98ce-f42f252d6525"
      },
      "source": [
        "type(list_of_document)"
      ],
      "execution_count": 64,
      "outputs": [
        {
          "output_type": "execute_result",
          "data": {
            "text/plain": [
              "list"
            ]
          },
          "metadata": {},
          "execution_count": 64
        }
      ]
    },
    {
      "cell_type": "code",
      "metadata": {
        "id": "Clk9ixPLOxsv"
      },
      "source": [
        "bag_of_words = cv.fit(list_of_document)"
      ],
      "execution_count": 65,
      "outputs": []
    },
    {
      "cell_type": "code",
      "metadata": {
        "colab": {
          "base_uri": "https://localhost:8080/"
        },
        "id": "D74FCGI6PdYT",
        "outputId": "11338556-edf4-4480-ddf5-78796f4484e1"
      },
      "source": [
        "bag_of_words"
      ],
      "execution_count": 66,
      "outputs": [
        {
          "output_type": "execute_result",
          "data": {
            "text/plain": [
              "CountVectorizer()"
            ]
          },
          "metadata": {},
          "execution_count": 66
        }
      ]
    },
    {
      "cell_type": "code",
      "metadata": {
        "id": "1KO_fZM9QRTe"
      },
      "source": [
        "bag_of_words = cv.transform(list_of_document)"
      ],
      "execution_count": 67,
      "outputs": []
    },
    {
      "cell_type": "code",
      "metadata": {
        "colab": {
          "base_uri": "https://localhost:8080/"
        },
        "id": "lHFxzK0NQknZ",
        "outputId": "ed8ddb04-4eed-4a5b-ccea-b04c76bd428e"
      },
      "source": [
        "bag_of_words"
      ],
      "execution_count": 68,
      "outputs": [
        {
          "output_type": "execute_result",
          "data": {
            "text/plain": [
              "<3x15 sparse matrix of type '<class 'numpy.int64'>'\n",
              "\twith 17 stored elements in Compressed Sparse Row format>"
            ]
          },
          "metadata": {},
          "execution_count": 68
        }
      ]
    },
    {
      "cell_type": "code",
      "metadata": {
        "colab": {
          "base_uri": "https://localhost:8080/"
        },
        "id": "cK1VrPvBQnTH",
        "outputId": "7700c197-2e15-407f-c104-122d80f7df33"
      },
      "source": [
        "print(bag_of_words)"
      ],
      "execution_count": 69,
      "outputs": [
        {
          "output_type": "stream",
          "name": "stdout",
          "text": [
            "  (0, 0)\t1\n",
            "  (0, 1)\t1\n",
            "  (0, 7)\t1\n",
            "  (0, 8)\t1\n",
            "  (0, 14)\t1\n",
            "  (1, 0)\t1\n",
            "  (1, 2)\t1\n",
            "  (1, 3)\t1\n",
            "  (1, 4)\t1\n",
            "  (1, 5)\t1\n",
            "  (1, 9)\t1\n",
            "  (1, 11)\t1\n",
            "  (1, 12)\t2\n",
            "  (1, 13)\t1\n",
            "  (2, 6)\t3\n",
            "  (2, 9)\t1\n",
            "  (2, 10)\t1\n"
          ]
        }
      ]
    },
    {
      "cell_type": "code",
      "metadata": {
        "colab": {
          "base_uri": "https://localhost:8080/"
        },
        "id": "RIxL2YrlQs14",
        "outputId": "8e83d6d2-6f7b-4914-f336-07fa6e94efa9"
      },
      "source": [
        "cv.vocabulary_.get('very')"
      ],
      "execution_count": 70,
      "outputs": [
        {
          "output_type": "execute_result",
          "data": {
            "text/plain": [
              "12"
            ]
          },
          "metadata": {},
          "execution_count": 70
        }
      ]
    },
    {
      "cell_type": "code",
      "metadata": {
        "colab": {
          "base_uri": "https://localhost:8080/"
        },
        "id": "5TxT9MZPRWE-",
        "outputId": "18f340c9-501d-4030-e002-49c2ddf34e9b"
      },
      "source": [
        "cv.vocabulary_.get('fun')"
      ],
      "execution_count": 71,
      "outputs": [
        {
          "output_type": "execute_result",
          "data": {
            "text/plain": [
              "6"
            ]
          },
          "metadata": {},
          "execution_count": 71
        }
      ]
    },
    {
      "cell_type": "code",
      "metadata": {
        "colab": {
          "base_uri": "https://localhost:8080/"
        },
        "id": "z-U17-ynRa4R",
        "outputId": "1a75fed9-72b8-41d8-80fe-e07c07bfb7ea"
      },
      "source": [
        "type(bag_of_words)"
      ],
      "execution_count": 72,
      "outputs": [
        {
          "output_type": "execute_result",
          "data": {
            "text/plain": [
              "scipy.sparse.csr.csr_matrix"
            ]
          },
          "metadata": {},
          "execution_count": 72
        }
      ]
    },
    {
      "cell_type": "code",
      "metadata": {
        "id": "UMhgPL_VRykG"
      },
      "source": [
        "bof_df = pd.DataFrame(bag_of_words.toarray(),columns=cv.get_feature_names_out())"
      ],
      "execution_count": 73,
      "outputs": []
    },
    {
      "cell_type": "code",
      "metadata": {
        "colab": {
          "base_uri": "https://localhost:8080/",
          "height": 143
        },
        "id": "rwLo7PGGSLy-",
        "outputId": "95d8ad01-de05-4199-b715-faf62e622ba7"
      },
      "source": [
        "bof_df"
      ],
      "execution_count": 74,
      "outputs": [
        {
          "output_type": "execute_result",
          "data": {
            "text/html": [
              "<div>\n",
              "<style scoped>\n",
              "    .dataframe tbody tr th:only-of-type {\n",
              "        vertical-align: middle;\n",
              "    }\n",
              "\n",
              "    .dataframe tbody tr th {\n",
              "        vertical-align: top;\n",
              "    }\n",
              "\n",
              "    .dataframe thead th {\n",
              "        text-align: right;\n",
              "    }\n",
              "</style>\n",
              "<table border=\"1\" class=\"dataframe\">\n",
              "  <thead>\n",
              "    <tr style=\"text-align: right;\">\n",
              "      <th></th>\n",
              "      <th>are</th>\n",
              "      <th>bruno</th>\n",
              "      <th>but</th>\n",
              "      <th>cloudy</th>\n",
              "      <th>doing</th>\n",
              "      <th>fine</th>\n",
              "      <th>fun</th>\n",
              "      <th>hi</th>\n",
              "      <th>how</th>\n",
              "      <th>is</th>\n",
              "      <th>nlp</th>\n",
              "      <th>today</th>\n",
              "      <th>very</th>\n",
              "      <th>we</th>\n",
              "      <th>you</th>\n",
              "    </tr>\n",
              "  </thead>\n",
              "  <tbody>\n",
              "    <tr>\n",
              "      <th>0</th>\n",
              "      <td>1</td>\n",
              "      <td>1</td>\n",
              "      <td>0</td>\n",
              "      <td>0</td>\n",
              "      <td>0</td>\n",
              "      <td>0</td>\n",
              "      <td>0</td>\n",
              "      <td>1</td>\n",
              "      <td>1</td>\n",
              "      <td>0</td>\n",
              "      <td>0</td>\n",
              "      <td>0</td>\n",
              "      <td>0</td>\n",
              "      <td>0</td>\n",
              "      <td>1</td>\n",
              "    </tr>\n",
              "    <tr>\n",
              "      <th>1</th>\n",
              "      <td>1</td>\n",
              "      <td>0</td>\n",
              "      <td>1</td>\n",
              "      <td>1</td>\n",
              "      <td>1</td>\n",
              "      <td>1</td>\n",
              "      <td>0</td>\n",
              "      <td>0</td>\n",
              "      <td>0</td>\n",
              "      <td>1</td>\n",
              "      <td>0</td>\n",
              "      <td>1</td>\n",
              "      <td>2</td>\n",
              "      <td>1</td>\n",
              "      <td>0</td>\n",
              "    </tr>\n",
              "    <tr>\n",
              "      <th>2</th>\n",
              "      <td>0</td>\n",
              "      <td>0</td>\n",
              "      <td>0</td>\n",
              "      <td>0</td>\n",
              "      <td>0</td>\n",
              "      <td>0</td>\n",
              "      <td>3</td>\n",
              "      <td>0</td>\n",
              "      <td>0</td>\n",
              "      <td>1</td>\n",
              "      <td>1</td>\n",
              "      <td>0</td>\n",
              "      <td>0</td>\n",
              "      <td>0</td>\n",
              "      <td>0</td>\n",
              "    </tr>\n",
              "  </tbody>\n",
              "</table>\n",
              "</div>"
            ],
            "text/plain": [
              "   are  bruno  but  cloudy  doing  fine  ...  is  nlp  today  very  we  you\n",
              "0    1      1    0       0      0     0  ...   0    0      0     0   0    1\n",
              "1    1      0    1       1      1     1  ...   1    0      1     2   1    0\n",
              "2    0      0    0       0      0     0  ...   1    1      0     0   0    0\n",
              "\n",
              "[3 rows x 15 columns]"
            ]
          },
          "metadata": {},
          "execution_count": 74
        }
      ]
    },
    {
      "cell_type": "code",
      "metadata": {
        "colab": {
          "base_uri": "https://localhost:8080/"
        },
        "id": "NuvdV9wqST7f",
        "outputId": "43d7bab4-dfa2-4a9d-8bfd-59a0e6f58529"
      },
      "source": [
        "document1.split()"
      ],
      "execution_count": 75,
      "outputs": [
        {
          "output_type": "execute_result",
          "data": {
            "text/plain": [
              "['Hi', 'Bruno,', 'how', 'are', 'you?']"
            ]
          },
          "metadata": {},
          "execution_count": 75
        }
      ]
    },
    {
      "cell_type": "code",
      "metadata": {
        "id": "gbnXKv2yTB0F"
      },
      "source": [
        "#sentence analysis"
      ],
      "execution_count": 76,
      "outputs": []
    },
    {
      "cell_type": "code",
      "metadata": {
        "id": "CvSWlPt5XWC2"
      },
      "source": [
        "import string"
      ],
      "execution_count": 77,
      "outputs": []
    },
    {
      "cell_type": "code",
      "metadata": {
        "colab": {
          "base_uri": "https://localhost:8080/"
        },
        "id": "gNZvUSeyX83C",
        "outputId": "d17c4ad7-984e-45e6-dbaf-76c0891800a2"
      },
      "source": [
        "import nltk\n",
        "nltk.download('stopwords')"
      ],
      "execution_count": 78,
      "outputs": [
        {
          "output_type": "stream",
          "name": "stdout",
          "text": [
            "[nltk_data] Downloading package stopwords to /root/nltk_data...\n",
            "[nltk_data]   Package stopwords is already up-to-date!\n"
          ]
        },
        {
          "output_type": "execute_result",
          "data": {
            "text/plain": [
              "True"
            ]
          },
          "metadata": {},
          "execution_count": 78
        }
      ]
    },
    {
      "cell_type": "code",
      "metadata": {
        "id": "6vN_ZZheXYWt"
      },
      "source": [
        "from nltk.corpus import stopwords"
      ],
      "execution_count": 79,
      "outputs": []
    },
    {
      "cell_type": "code",
      "metadata": {
        "colab": {
          "base_uri": "https://localhost:8080/"
        },
        "id": "8Fo-9_C3XfA-",
        "outputId": "9fb62d04-d70f-434d-8ef3-b92b49bc9184"
      },
      "source": [
        "stopwords.words('english')[0:20]"
      ],
      "execution_count": 80,
      "outputs": [
        {
          "output_type": "execute_result",
          "data": {
            "text/plain": [
              "['i',\n",
              " 'me',\n",
              " 'my',\n",
              " 'myself',\n",
              " 'we',\n",
              " 'our',\n",
              " 'ours',\n",
              " 'ourselves',\n",
              " 'you',\n",
              " \"you're\",\n",
              " \"you've\",\n",
              " \"you'll\",\n",
              " \"you'd\",\n",
              " 'your',\n",
              " 'yours',\n",
              " 'yourself',\n",
              " 'yourselves',\n",
              " 'he',\n",
              " 'him',\n",
              " 'his']"
            ]
          },
          "metadata": {},
          "execution_count": 80
        }
      ]
    },
    {
      "cell_type": "code",
      "metadata": {
        "id": "x--Exzt1Xza1"
      },
      "source": [
        "test_sentence = 'This is my first test sentence. Really !!! How are you? We will be fine ! '"
      ],
      "execution_count": 81,
      "outputs": []
    },
    {
      "cell_type": "code",
      "metadata": {
        "id": "0k7nO6oNYY3k"
      },
      "source": [
        "# remove punctuation\n",
        "no_punct_sentence = [char for char in test_sentence if char not in string.punctuation]"
      ],
      "execution_count": 82,
      "outputs": []
    },
    {
      "cell_type": "code",
      "metadata": {
        "colab": {
          "base_uri": "https://localhost:8080/"
        },
        "id": "uWtRD00bZPvp",
        "outputId": "7626f258-2df0-4a50-db4a-db53d1b9ff5d"
      },
      "source": [
        "no_punct_sentence"
      ],
      "execution_count": 83,
      "outputs": [
        {
          "output_type": "execute_result",
          "data": {
            "text/plain": [
              "['T',\n",
              " 'h',\n",
              " 'i',\n",
              " 's',\n",
              " ' ',\n",
              " 'i',\n",
              " 's',\n",
              " ' ',\n",
              " 'm',\n",
              " 'y',\n",
              " ' ',\n",
              " 'f',\n",
              " 'i',\n",
              " 'r',\n",
              " 's',\n",
              " 't',\n",
              " ' ',\n",
              " 't',\n",
              " 'e',\n",
              " 's',\n",
              " 't',\n",
              " ' ',\n",
              " 's',\n",
              " 'e',\n",
              " 'n',\n",
              " 't',\n",
              " 'e',\n",
              " 'n',\n",
              " 'c',\n",
              " 'e',\n",
              " ' ',\n",
              " 'R',\n",
              " 'e',\n",
              " 'a',\n",
              " 'l',\n",
              " 'l',\n",
              " 'y',\n",
              " ' ',\n",
              " ' ',\n",
              " 'H',\n",
              " 'o',\n",
              " 'w',\n",
              " ' ',\n",
              " 'a',\n",
              " 'r',\n",
              " 'e',\n",
              " ' ',\n",
              " 'y',\n",
              " 'o',\n",
              " 'u',\n",
              " ' ',\n",
              " 'W',\n",
              " 'e',\n",
              " ' ',\n",
              " 'w',\n",
              " 'i',\n",
              " 'l',\n",
              " 'l',\n",
              " ' ',\n",
              " 'b',\n",
              " 'e',\n",
              " ' ',\n",
              " 'f',\n",
              " 'i',\n",
              " 'n',\n",
              " 'e',\n",
              " ' ',\n",
              " ' ']"
            ]
          },
          "metadata": {},
          "execution_count": 83
        }
      ]
    },
    {
      "cell_type": "code",
      "metadata": {
        "id": "e66EWrfpZRiB"
      },
      "source": [
        "no_punct_processed_sentence = ''.join(no_punct_sentence)"
      ],
      "execution_count": 84,
      "outputs": []
    },
    {
      "cell_type": "code",
      "metadata": {
        "colab": {
          "base_uri": "https://localhost:8080/",
          "height": 36
        },
        "id": "PLleq6mKZv3-",
        "outputId": "0747da8f-4533-45a2-86a0-8454a42196a8"
      },
      "source": [
        "no_punct_processed_sentence"
      ],
      "execution_count": 85,
      "outputs": [
        {
          "output_type": "execute_result",
          "data": {
            "application/vnd.google.colaboratory.intrinsic+json": {
              "type": "string"
            },
            "text/plain": [
              "'This is my first test sentence Really  How are you We will be fine  '"
            ]
          },
          "metadata": {},
          "execution_count": 85
        }
      ]
    },
    {
      "cell_type": "code",
      "metadata": {
        "colab": {
          "base_uri": "https://localhost:8080/"
        },
        "id": "Nhq2vv-QaLhV",
        "outputId": "bee01066-523b-4758-97c5-c3df5ddf811a"
      },
      "source": [
        "stopwords.words('english')[0:20]"
      ],
      "execution_count": 86,
      "outputs": [
        {
          "output_type": "execute_result",
          "data": {
            "text/plain": [
              "['i',\n",
              " 'me',\n",
              " 'my',\n",
              " 'myself',\n",
              " 'we',\n",
              " 'our',\n",
              " 'ours',\n",
              " 'ourselves',\n",
              " 'you',\n",
              " \"you're\",\n",
              " \"you've\",\n",
              " \"you'll\",\n",
              " \"you'd\",\n",
              " 'your',\n",
              " 'yours',\n",
              " 'yourself',\n",
              " 'yourselves',\n",
              " 'he',\n",
              " 'him',\n",
              " 'his']"
            ]
          },
          "metadata": {},
          "execution_count": 86
        }
      ]
    },
    {
      "cell_type": "code",
      "metadata": {
        "colab": {
          "base_uri": "https://localhost:8080/"
        },
        "id": "a1aZ_9WtZxFX",
        "outputId": "04c3d7e6-c38f-46a2-ca5d-b42d91fde5d6"
      },
      "source": [
        "no_punct_processed_sentence.split()"
      ],
      "execution_count": 87,
      "outputs": [
        {
          "output_type": "execute_result",
          "data": {
            "text/plain": [
              "['This',\n",
              " 'is',\n",
              " 'my',\n",
              " 'first',\n",
              " 'test',\n",
              " 'sentence',\n",
              " 'Really',\n",
              " 'How',\n",
              " 'are',\n",
              " 'you',\n",
              " 'We',\n",
              " 'will',\n",
              " 'be',\n",
              " 'fine']"
            ]
          },
          "metadata": {},
          "execution_count": 87
        }
      ]
    },
    {
      "cell_type": "code",
      "metadata": {
        "id": "uznOrb93Z3V0"
      },
      "source": [
        "cleaned_sentence = [word for word in test_sentence.split() if word.lower() not in stopwords.words('english')]"
      ],
      "execution_count": 88,
      "outputs": []
    },
    {
      "cell_type": "code",
      "metadata": {
        "colab": {
          "base_uri": "https://localhost:8080/"
        },
        "id": "R-_-Td1jboza",
        "outputId": "6d128fc2-536d-4aaf-dc90-28db54681955"
      },
      "source": [
        "cleaned_sentence"
      ],
      "execution_count": 89,
      "outputs": [
        {
          "output_type": "execute_result",
          "data": {
            "text/plain": [
              "['first', 'test', 'sentence.', 'Really', '!!!', 'you?', 'fine', '!']"
            ]
          },
          "metadata": {},
          "execution_count": 89
        }
      ]
    },
    {
      "cell_type": "code",
      "metadata": {
        "id": "o7ouGfNFbqAN"
      },
      "source": [
        "clearned_sentence_without_punct = [word for word in no_punct_processed_sentence.split() if word.lower() not in stopwords.words('english')]"
      ],
      "execution_count": 90,
      "outputs": []
    },
    {
      "cell_type": "code",
      "metadata": {
        "colab": {
          "base_uri": "https://localhost:8080/"
        },
        "id": "bP4HVhPab-FJ",
        "outputId": "1187d3c9-5ba6-4f5d-9f12-33887f02c7d7"
      },
      "source": [
        "clearned_sentence_without_punct"
      ],
      "execution_count": 91,
      "outputs": [
        {
          "output_type": "execute_result",
          "data": {
            "text/plain": [
              "['first', 'test', 'sentence', 'Really', 'fine']"
            ]
          },
          "metadata": {},
          "execution_count": 91
        }
      ]
    },
    {
      "cell_type": "code",
      "metadata": {
        "id": "QxS20zaib_Nb"
      },
      "source": [
        "#Create a sentence for trial\n",
        "test_sentence2 = 'This trial is by Migdalia for her own''s understanding and assimilation'"
      ],
      "execution_count": 92,
      "outputs": []
    },
    {
      "cell_type": "code",
      "metadata": {
        "id": "cGMlROJFky8Q"
      },
      "source": [
        "# remove punctuation\n",
        "no_punct_sentence2 = [char for char in test_sentence2 if char not in string.punctuation] # for every character in the sentence, if it is not in the puctuation list, add it else ignore it"
      ],
      "execution_count": 93,
      "outputs": []
    },
    {
      "cell_type": "code",
      "metadata": {
        "colab": {
          "base_uri": "https://localhost:8080/"
        },
        "id": "BTRsrmgmmEq5",
        "outputId": "8047ed33-af88-4305-a194-f9b83f64d341"
      },
      "source": [
        "# view list with no puctuations\n",
        "no_punct_sentence2"
      ],
      "execution_count": 94,
      "outputs": [
        {
          "output_type": "execute_result",
          "data": {
            "text/plain": [
              "['T',\n",
              " 'h',\n",
              " 'i',\n",
              " 's',\n",
              " ' ',\n",
              " 't',\n",
              " 'r',\n",
              " 'i',\n",
              " 'a',\n",
              " 'l',\n",
              " ' ',\n",
              " 'i',\n",
              " 's',\n",
              " ' ',\n",
              " 'b',\n",
              " 'y',\n",
              " ' ',\n",
              " 'M',\n",
              " 'i',\n",
              " 'g',\n",
              " 'd',\n",
              " 'a',\n",
              " 'l',\n",
              " 'i',\n",
              " 'a',\n",
              " ' ',\n",
              " 'f',\n",
              " 'o',\n",
              " 'r',\n",
              " ' ',\n",
              " 'h',\n",
              " 'e',\n",
              " 'r',\n",
              " ' ',\n",
              " 'o',\n",
              " 'w',\n",
              " 'n',\n",
              " 's',\n",
              " ' ',\n",
              " 'u',\n",
              " 'n',\n",
              " 'd',\n",
              " 'e',\n",
              " 'r',\n",
              " 's',\n",
              " 't',\n",
              " 'a',\n",
              " 'n',\n",
              " 'd',\n",
              " 'i',\n",
              " 'n',\n",
              " 'g',\n",
              " ' ',\n",
              " 'a',\n",
              " 'n',\n",
              " 'd',\n",
              " ' ',\n",
              " 'a',\n",
              " 's',\n",
              " 's',\n",
              " 'i',\n",
              " 'm',\n",
              " 'i',\n",
              " 'l',\n",
              " 'a',\n",
              " 't',\n",
              " 'i',\n",
              " 'o',\n",
              " 'n']"
            ]
          },
          "metadata": {},
          "execution_count": 94
        }
      ]
    },
    {
      "cell_type": "code",
      "metadata": {
        "colab": {
          "base_uri": "https://localhost:8080/",
          "height": 36
        },
        "id": "UE2bBywcmv2i",
        "outputId": "25ba1b79-d0dc-436e-fdf7-1f42a4a8a2ad"
      },
      "source": [
        "no_punct_processed_sentence2 = ''.join(no_punct_sentence2)\n",
        "no_punct_processed_sentence2"
      ],
      "execution_count": 95,
      "outputs": [
        {
          "output_type": "execute_result",
          "data": {
            "application/vnd.google.colaboratory.intrinsic+json": {
              "type": "string"
            },
            "text/plain": [
              "'This trial is by Migdalia for her owns understanding and assimilation'"
            ]
          },
          "metadata": {},
          "execution_count": 95
        }
      ]
    },
    {
      "cell_type": "code",
      "metadata": {
        "id": "ydsjpWHTxC7Y"
      },
      "source": [
        "#remove stop words using english dictionary\n",
        "cleaned_sentence2 = [word for word in no_punct_processed_sentence2.split() if word.lower() not in stopwords.words('english')]\n"
      ],
      "execution_count": 96,
      "outputs": []
    },
    {
      "cell_type": "code",
      "metadata": {
        "colab": {
          "base_uri": "https://localhost:8080/"
        },
        "id": "3aZEK2pYxRwn",
        "outputId": "7b70588b-4151-4c16-cc04-b7929242c74c"
      },
      "source": [
        "cleaned_sentence2"
      ],
      "execution_count": 97,
      "outputs": [
        {
          "output_type": "execute_result",
          "data": {
            "text/plain": [
              "['trial', 'Migdalia', 'owns', 'understanding', 'assimilation']"
            ]
          },
          "metadata": {},
          "execution_count": 97
        }
      ]
    }
  ]
}