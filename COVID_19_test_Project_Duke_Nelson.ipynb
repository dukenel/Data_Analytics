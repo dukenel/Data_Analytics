{
  "nbformat": 4,
  "nbformat_minor": 0,
  "metadata": {
    "colab": {
      "name": "COVID_19_test_Project_Duke_Nelson.ipynb",
      "provenance": [],
      "collapsed_sections": [],
      "toc_visible": true,
      "include_colab_link": true
    },
    "kernelspec": {
      "name": "python3",
      "display_name": "Python 3"
    },
    "language_info": {
      "name": "python"
    },
    "widgets": {
      "application/vnd.jupyter.widget-state+json": {
        "ea5c5c8b85fd43129f96c5d75f73a57f": {
          "model_module": "@jupyter-widgets/controls",
          "model_name": "HBoxModel",
          "model_module_version": "1.5.0",
          "state": {
            "_view_name": "HBoxView",
            "_dom_classes": [],
            "_model_name": "HBoxModel",
            "_view_module": "@jupyter-widgets/controls",
            "_model_module_version": "1.5.0",
            "_view_count": null,
            "_view_module_version": "1.5.0",
            "box_style": "",
            "layout": "IPY_MODEL_3249d8804e804861acb84ec00b63c85c",
            "_model_module": "@jupyter-widgets/controls",
            "children": [
              "IPY_MODEL_d57280b871cd48a28bc55c0dba3463f1",
              "IPY_MODEL_875197ebeffb40468f9741da0f29719b",
              "IPY_MODEL_a8db9657d9a44763857674b734e2e374"
            ]
          }
        },
        "3249d8804e804861acb84ec00b63c85c": {
          "model_module": "@jupyter-widgets/base",
          "model_name": "LayoutModel",
          "model_module_version": "1.2.0",
          "state": {
            "_view_name": "LayoutView",
            "grid_template_rows": null,
            "right": null,
            "justify_content": null,
            "_view_module": "@jupyter-widgets/base",
            "overflow": null,
            "_model_module_version": "1.2.0",
            "_view_count": null,
            "flex_flow": null,
            "width": null,
            "min_width": null,
            "border": null,
            "align_items": null,
            "bottom": null,
            "_model_module": "@jupyter-widgets/base",
            "top": null,
            "grid_column": null,
            "overflow_y": null,
            "overflow_x": null,
            "grid_auto_flow": null,
            "grid_area": null,
            "grid_template_columns": null,
            "flex": null,
            "_model_name": "LayoutModel",
            "justify_items": null,
            "grid_row": null,
            "max_height": null,
            "align_content": null,
            "visibility": null,
            "align_self": null,
            "height": null,
            "min_height": null,
            "padding": null,
            "grid_auto_rows": null,
            "grid_gap": null,
            "max_width": null,
            "order": null,
            "_view_module_version": "1.2.0",
            "grid_template_areas": null,
            "object_position": null,
            "object_fit": null,
            "grid_auto_columns": null,
            "margin": null,
            "display": null,
            "left": null
          }
        },
        "d57280b871cd48a28bc55c0dba3463f1": {
          "model_module": "@jupyter-widgets/controls",
          "model_name": "HTMLModel",
          "model_module_version": "1.5.0",
          "state": {
            "_view_name": "HTMLView",
            "style": "IPY_MODEL_82efa032bc55473dbbca04543fbec565",
            "_dom_classes": [],
            "description": "",
            "_model_name": "HTMLModel",
            "placeholder": "​",
            "_view_module": "@jupyter-widgets/controls",
            "_model_module_version": "1.5.0",
            "value": "Summarize dataset: ",
            "_view_count": null,
            "_view_module_version": "1.5.0",
            "description_tooltip": null,
            "_model_module": "@jupyter-widgets/controls",
            "layout": "IPY_MODEL_9dbc8587375c473b9ff8553582c4c436"
          }
        },
        "875197ebeffb40468f9741da0f29719b": {
          "model_module": "@jupyter-widgets/controls",
          "model_name": "FloatProgressModel",
          "model_module_version": "1.5.0",
          "state": {
            "_view_name": "ProgressView",
            "style": "IPY_MODEL_3fa74d031d9d47d4b0cbb83a5782eb1e",
            "_dom_classes": [],
            "description": "",
            "_model_name": "FloatProgressModel",
            "bar_style": "success",
            "max": 72,
            "_view_module": "@jupyter-widgets/controls",
            "_model_module_version": "1.5.0",
            "value": 72,
            "_view_count": null,
            "_view_module_version": "1.5.0",
            "orientation": "horizontal",
            "min": 0,
            "description_tooltip": null,
            "_model_module": "@jupyter-widgets/controls",
            "layout": "IPY_MODEL_1aff6aae5abe43adafd040a4bf3c5e0c"
          }
        },
        "a8db9657d9a44763857674b734e2e374": {
          "model_module": "@jupyter-widgets/controls",
          "model_name": "HTMLModel",
          "model_module_version": "1.5.0",
          "state": {
            "_view_name": "HTMLView",
            "style": "IPY_MODEL_4d06a524f2264ef6b0182c04441ec59c",
            "_dom_classes": [],
            "description": "",
            "_model_name": "HTMLModel",
            "placeholder": "​",
            "_view_module": "@jupyter-widgets/controls",
            "_model_module_version": "1.5.0",
            "value": " 74/? [07:26&lt;00:00, 25.36s/it, Completed]",
            "_view_count": null,
            "_view_module_version": "1.5.0",
            "description_tooltip": null,
            "_model_module": "@jupyter-widgets/controls",
            "layout": "IPY_MODEL_dbc075d8029a46fb94bb844fc58de6c1"
          }
        },
        "82efa032bc55473dbbca04543fbec565": {
          "model_module": "@jupyter-widgets/controls",
          "model_name": "DescriptionStyleModel",
          "model_module_version": "1.5.0",
          "state": {
            "_view_name": "StyleView",
            "_model_name": "DescriptionStyleModel",
            "description_width": "",
            "_view_module": "@jupyter-widgets/base",
            "_model_module_version": "1.5.0",
            "_view_count": null,
            "_view_module_version": "1.2.0",
            "_model_module": "@jupyter-widgets/controls"
          }
        },
        "9dbc8587375c473b9ff8553582c4c436": {
          "model_module": "@jupyter-widgets/base",
          "model_name": "LayoutModel",
          "model_module_version": "1.2.0",
          "state": {
            "_view_name": "LayoutView",
            "grid_template_rows": null,
            "right": null,
            "justify_content": null,
            "_view_module": "@jupyter-widgets/base",
            "overflow": null,
            "_model_module_version": "1.2.0",
            "_view_count": null,
            "flex_flow": null,
            "width": null,
            "min_width": null,
            "border": null,
            "align_items": null,
            "bottom": null,
            "_model_module": "@jupyter-widgets/base",
            "top": null,
            "grid_column": null,
            "overflow_y": null,
            "overflow_x": null,
            "grid_auto_flow": null,
            "grid_area": null,
            "grid_template_columns": null,
            "flex": null,
            "_model_name": "LayoutModel",
            "justify_items": null,
            "grid_row": null,
            "max_height": null,
            "align_content": null,
            "visibility": null,
            "align_self": null,
            "height": null,
            "min_height": null,
            "padding": null,
            "grid_auto_rows": null,
            "grid_gap": null,
            "max_width": null,
            "order": null,
            "_view_module_version": "1.2.0",
            "grid_template_areas": null,
            "object_position": null,
            "object_fit": null,
            "grid_auto_columns": null,
            "margin": null,
            "display": null,
            "left": null
          }
        },
        "3fa74d031d9d47d4b0cbb83a5782eb1e": {
          "model_module": "@jupyter-widgets/controls",
          "model_name": "ProgressStyleModel",
          "model_module_version": "1.5.0",
          "state": {
            "_view_name": "StyleView",
            "_model_name": "ProgressStyleModel",
            "description_width": "",
            "_view_module": "@jupyter-widgets/base",
            "_model_module_version": "1.5.0",
            "_view_count": null,
            "_view_module_version": "1.2.0",
            "bar_color": null,
            "_model_module": "@jupyter-widgets/controls"
          }
        },
        "1aff6aae5abe43adafd040a4bf3c5e0c": {
          "model_module": "@jupyter-widgets/base",
          "model_name": "LayoutModel",
          "model_module_version": "1.2.0",
          "state": {
            "_view_name": "LayoutView",
            "grid_template_rows": null,
            "right": null,
            "justify_content": null,
            "_view_module": "@jupyter-widgets/base",
            "overflow": null,
            "_model_module_version": "1.2.0",
            "_view_count": null,
            "flex_flow": null,
            "width": null,
            "min_width": null,
            "border": null,
            "align_items": null,
            "bottom": null,
            "_model_module": "@jupyter-widgets/base",
            "top": null,
            "grid_column": null,
            "overflow_y": null,
            "overflow_x": null,
            "grid_auto_flow": null,
            "grid_area": null,
            "grid_template_columns": null,
            "flex": null,
            "_model_name": "LayoutModel",
            "justify_items": null,
            "grid_row": null,
            "max_height": null,
            "align_content": null,
            "visibility": null,
            "align_self": null,
            "height": null,
            "min_height": null,
            "padding": null,
            "grid_auto_rows": null,
            "grid_gap": null,
            "max_width": null,
            "order": null,
            "_view_module_version": "1.2.0",
            "grid_template_areas": null,
            "object_position": null,
            "object_fit": null,
            "grid_auto_columns": null,
            "margin": null,
            "display": null,
            "left": null
          }
        },
        "4d06a524f2264ef6b0182c04441ec59c": {
          "model_module": "@jupyter-widgets/controls",
          "model_name": "DescriptionStyleModel",
          "model_module_version": "1.5.0",
          "state": {
            "_view_name": "StyleView",
            "_model_name": "DescriptionStyleModel",
            "description_width": "",
            "_view_module": "@jupyter-widgets/base",
            "_model_module_version": "1.5.0",
            "_view_count": null,
            "_view_module_version": "1.2.0",
            "_model_module": "@jupyter-widgets/controls"
          }
        },
        "dbc075d8029a46fb94bb844fc58de6c1": {
          "model_module": "@jupyter-widgets/base",
          "model_name": "LayoutModel",
          "model_module_version": "1.2.0",
          "state": {
            "_view_name": "LayoutView",
            "grid_template_rows": null,
            "right": null,
            "justify_content": null,
            "_view_module": "@jupyter-widgets/base",
            "overflow": null,
            "_model_module_version": "1.2.0",
            "_view_count": null,
            "flex_flow": null,
            "width": null,
            "min_width": null,
            "border": null,
            "align_items": null,
            "bottom": null,
            "_model_module": "@jupyter-widgets/base",
            "top": null,
            "grid_column": null,
            "overflow_y": null,
            "overflow_x": null,
            "grid_auto_flow": null,
            "grid_area": null,
            "grid_template_columns": null,
            "flex": null,
            "_model_name": "LayoutModel",
            "justify_items": null,
            "grid_row": null,
            "max_height": null,
            "align_content": null,
            "visibility": null,
            "align_self": null,
            "height": null,
            "min_height": null,
            "padding": null,
            "grid_auto_rows": null,
            "grid_gap": null,
            "max_width": null,
            "order": null,
            "_view_module_version": "1.2.0",
            "grid_template_areas": null,
            "object_position": null,
            "object_fit": null,
            "grid_auto_columns": null,
            "margin": null,
            "display": null,
            "left": null
          }
        },
        "61dbff57a7b64d9ea35ea861318a23f7": {
          "model_module": "@jupyter-widgets/controls",
          "model_name": "HBoxModel",
          "model_module_version": "1.5.0",
          "state": {
            "_view_name": "HBoxView",
            "_dom_classes": [],
            "_model_name": "HBoxModel",
            "_view_module": "@jupyter-widgets/controls",
            "_model_module_version": "1.5.0",
            "_view_count": null,
            "_view_module_version": "1.5.0",
            "box_style": "",
            "layout": "IPY_MODEL_68b46fc2229546a592b9f445b5646903",
            "_model_module": "@jupyter-widgets/controls",
            "children": [
              "IPY_MODEL_cb0f9deeacde43b1a4f5e573bf4d1bf4",
              "IPY_MODEL_dac93552c67343348ca759a9cdb5f8ff",
              "IPY_MODEL_9a635c61616245fab494c615a8460228"
            ]
          }
        },
        "68b46fc2229546a592b9f445b5646903": {
          "model_module": "@jupyter-widgets/base",
          "model_name": "LayoutModel",
          "model_module_version": "1.2.0",
          "state": {
            "_view_name": "LayoutView",
            "grid_template_rows": null,
            "right": null,
            "justify_content": null,
            "_view_module": "@jupyter-widgets/base",
            "overflow": null,
            "_model_module_version": "1.2.0",
            "_view_count": null,
            "flex_flow": null,
            "width": null,
            "min_width": null,
            "border": null,
            "align_items": null,
            "bottom": null,
            "_model_module": "@jupyter-widgets/base",
            "top": null,
            "grid_column": null,
            "overflow_y": null,
            "overflow_x": null,
            "grid_auto_flow": null,
            "grid_area": null,
            "grid_template_columns": null,
            "flex": null,
            "_model_name": "LayoutModel",
            "justify_items": null,
            "grid_row": null,
            "max_height": null,
            "align_content": null,
            "visibility": null,
            "align_self": null,
            "height": null,
            "min_height": null,
            "padding": null,
            "grid_auto_rows": null,
            "grid_gap": null,
            "max_width": null,
            "order": null,
            "_view_module_version": "1.2.0",
            "grid_template_areas": null,
            "object_position": null,
            "object_fit": null,
            "grid_auto_columns": null,
            "margin": null,
            "display": null,
            "left": null
          }
        },
        "cb0f9deeacde43b1a4f5e573bf4d1bf4": {
          "model_module": "@jupyter-widgets/controls",
          "model_name": "HTMLModel",
          "model_module_version": "1.5.0",
          "state": {
            "_view_name": "HTMLView",
            "style": "IPY_MODEL_aa4bd7277078458f863e6bb91a92e671",
            "_dom_classes": [],
            "description": "",
            "_model_name": "HTMLModel",
            "placeholder": "​",
            "_view_module": "@jupyter-widgets/controls",
            "_model_module_version": "1.5.0",
            "value": "Generate report structure: 100%",
            "_view_count": null,
            "_view_module_version": "1.5.0",
            "description_tooltip": null,
            "_model_module": "@jupyter-widgets/controls",
            "layout": "IPY_MODEL_bf8fc5632f6e48e2bb9ad84795346b72"
          }
        },
        "dac93552c67343348ca759a9cdb5f8ff": {
          "model_module": "@jupyter-widgets/controls",
          "model_name": "FloatProgressModel",
          "model_module_version": "1.5.0",
          "state": {
            "_view_name": "ProgressView",
            "style": "IPY_MODEL_c60925588b1e49a39c092ff33fd32583",
            "_dom_classes": [],
            "description": "",
            "_model_name": "FloatProgressModel",
            "bar_style": "success",
            "max": 1,
            "_view_module": "@jupyter-widgets/controls",
            "_model_module_version": "1.5.0",
            "value": 1,
            "_view_count": null,
            "_view_module_version": "1.5.0",
            "orientation": "horizontal",
            "min": 0,
            "description_tooltip": null,
            "_model_module": "@jupyter-widgets/controls",
            "layout": "IPY_MODEL_80431b4b5fd941019d5c77fed41dd9f2"
          }
        },
        "9a635c61616245fab494c615a8460228": {
          "model_module": "@jupyter-widgets/controls",
          "model_name": "HTMLModel",
          "model_module_version": "1.5.0",
          "state": {
            "_view_name": "HTMLView",
            "style": "IPY_MODEL_a847bca45fdb420ba274319135b2e8fa",
            "_dom_classes": [],
            "description": "",
            "_model_name": "HTMLModel",
            "placeholder": "​",
            "_view_module": "@jupyter-widgets/controls",
            "_model_module_version": "1.5.0",
            "value": " 1/1 [00:28&lt;00:00, 28.89s/it]",
            "_view_count": null,
            "_view_module_version": "1.5.0",
            "description_tooltip": null,
            "_model_module": "@jupyter-widgets/controls",
            "layout": "IPY_MODEL_e9650ef9e156437e98aadf3c78eadd35"
          }
        },
        "aa4bd7277078458f863e6bb91a92e671": {
          "model_module": "@jupyter-widgets/controls",
          "model_name": "DescriptionStyleModel",
          "model_module_version": "1.5.0",
          "state": {
            "_view_name": "StyleView",
            "_model_name": "DescriptionStyleModel",
            "description_width": "",
            "_view_module": "@jupyter-widgets/base",
            "_model_module_version": "1.5.0",
            "_view_count": null,
            "_view_module_version": "1.2.0",
            "_model_module": "@jupyter-widgets/controls"
          }
        },
        "bf8fc5632f6e48e2bb9ad84795346b72": {
          "model_module": "@jupyter-widgets/base",
          "model_name": "LayoutModel",
          "model_module_version": "1.2.0",
          "state": {
            "_view_name": "LayoutView",
            "grid_template_rows": null,
            "right": null,
            "justify_content": null,
            "_view_module": "@jupyter-widgets/base",
            "overflow": null,
            "_model_module_version": "1.2.0",
            "_view_count": null,
            "flex_flow": null,
            "width": null,
            "min_width": null,
            "border": null,
            "align_items": null,
            "bottom": null,
            "_model_module": "@jupyter-widgets/base",
            "top": null,
            "grid_column": null,
            "overflow_y": null,
            "overflow_x": null,
            "grid_auto_flow": null,
            "grid_area": null,
            "grid_template_columns": null,
            "flex": null,
            "_model_name": "LayoutModel",
            "justify_items": null,
            "grid_row": null,
            "max_height": null,
            "align_content": null,
            "visibility": null,
            "align_self": null,
            "height": null,
            "min_height": null,
            "padding": null,
            "grid_auto_rows": null,
            "grid_gap": null,
            "max_width": null,
            "order": null,
            "_view_module_version": "1.2.0",
            "grid_template_areas": null,
            "object_position": null,
            "object_fit": null,
            "grid_auto_columns": null,
            "margin": null,
            "display": null,
            "left": null
          }
        },
        "c60925588b1e49a39c092ff33fd32583": {
          "model_module": "@jupyter-widgets/controls",
          "model_name": "ProgressStyleModel",
          "model_module_version": "1.5.0",
          "state": {
            "_view_name": "StyleView",
            "_model_name": "ProgressStyleModel",
            "description_width": "",
            "_view_module": "@jupyter-widgets/base",
            "_model_module_version": "1.5.0",
            "_view_count": null,
            "_view_module_version": "1.2.0",
            "bar_color": null,
            "_model_module": "@jupyter-widgets/controls"
          }
        },
        "80431b4b5fd941019d5c77fed41dd9f2": {
          "model_module": "@jupyter-widgets/base",
          "model_name": "LayoutModel",
          "model_module_version": "1.2.0",
          "state": {
            "_view_name": "LayoutView",
            "grid_template_rows": null,
            "right": null,
            "justify_content": null,
            "_view_module": "@jupyter-widgets/base",
            "overflow": null,
            "_model_module_version": "1.2.0",
            "_view_count": null,
            "flex_flow": null,
            "width": null,
            "min_width": null,
            "border": null,
            "align_items": null,
            "bottom": null,
            "_model_module": "@jupyter-widgets/base",
            "top": null,
            "grid_column": null,
            "overflow_y": null,
            "overflow_x": null,
            "grid_auto_flow": null,
            "grid_area": null,
            "grid_template_columns": null,
            "flex": null,
            "_model_name": "LayoutModel",
            "justify_items": null,
            "grid_row": null,
            "max_height": null,
            "align_content": null,
            "visibility": null,
            "align_self": null,
            "height": null,
            "min_height": null,
            "padding": null,
            "grid_auto_rows": null,
            "grid_gap": null,
            "max_width": null,
            "order": null,
            "_view_module_version": "1.2.0",
            "grid_template_areas": null,
            "object_position": null,
            "object_fit": null,
            "grid_auto_columns": null,
            "margin": null,
            "display": null,
            "left": null
          }
        },
        "a847bca45fdb420ba274319135b2e8fa": {
          "model_module": "@jupyter-widgets/controls",
          "model_name": "DescriptionStyleModel",
          "model_module_version": "1.5.0",
          "state": {
            "_view_name": "StyleView",
            "_model_name": "DescriptionStyleModel",
            "description_width": "",
            "_view_module": "@jupyter-widgets/base",
            "_model_module_version": "1.5.0",
            "_view_count": null,
            "_view_module_version": "1.2.0",
            "_model_module": "@jupyter-widgets/controls"
          }
        },
        "e9650ef9e156437e98aadf3c78eadd35": {
          "model_module": "@jupyter-widgets/base",
          "model_name": "LayoutModel",
          "model_module_version": "1.2.0",
          "state": {
            "_view_name": "LayoutView",
            "grid_template_rows": null,
            "right": null,
            "justify_content": null,
            "_view_module": "@jupyter-widgets/base",
            "overflow": null,
            "_model_module_version": "1.2.0",
            "_view_count": null,
            "flex_flow": null,
            "width": null,
            "min_width": null,
            "border": null,
            "align_items": null,
            "bottom": null,
            "_model_module": "@jupyter-widgets/base",
            "top": null,
            "grid_column": null,
            "overflow_y": null,
            "overflow_x": null,
            "grid_auto_flow": null,
            "grid_area": null,
            "grid_template_columns": null,
            "flex": null,
            "_model_name": "LayoutModel",
            "justify_items": null,
            "grid_row": null,
            "max_height": null,
            "align_content": null,
            "visibility": null,
            "align_self": null,
            "height": null,
            "min_height": null,
            "padding": null,
            "grid_auto_rows": null,
            "grid_gap": null,
            "max_width": null,
            "order": null,
            "_view_module_version": "1.2.0",
            "grid_template_areas": null,
            "object_position": null,
            "object_fit": null,
            "grid_auto_columns": null,
            "margin": null,
            "display": null,
            "left": null
          }
        },
        "9ee5031afebc4b8dbd277a6e05787015": {
          "model_module": "@jupyter-widgets/controls",
          "model_name": "HBoxModel",
          "model_module_version": "1.5.0",
          "state": {
            "_view_name": "HBoxView",
            "_dom_classes": [],
            "_model_name": "HBoxModel",
            "_view_module": "@jupyter-widgets/controls",
            "_model_module_version": "1.5.0",
            "_view_count": null,
            "_view_module_version": "1.5.0",
            "box_style": "",
            "layout": "IPY_MODEL_27c0ad5de655431d825e72585aaf10ef",
            "_model_module": "@jupyter-widgets/controls",
            "children": [
              "IPY_MODEL_52d871178bd54f7bacbe9c294cefbaae",
              "IPY_MODEL_8955e124cd7444f7b984a616c72d6a77",
              "IPY_MODEL_c0fac75945f64724b46b8d61246ffbc3"
            ]
          }
        },
        "27c0ad5de655431d825e72585aaf10ef": {
          "model_module": "@jupyter-widgets/base",
          "model_name": "LayoutModel",
          "model_module_version": "1.2.0",
          "state": {
            "_view_name": "LayoutView",
            "grid_template_rows": null,
            "right": null,
            "justify_content": null,
            "_view_module": "@jupyter-widgets/base",
            "overflow": null,
            "_model_module_version": "1.2.0",
            "_view_count": null,
            "flex_flow": null,
            "width": null,
            "min_width": null,
            "border": null,
            "align_items": null,
            "bottom": null,
            "_model_module": "@jupyter-widgets/base",
            "top": null,
            "grid_column": null,
            "overflow_y": null,
            "overflow_x": null,
            "grid_auto_flow": null,
            "grid_area": null,
            "grid_template_columns": null,
            "flex": null,
            "_model_name": "LayoutModel",
            "justify_items": null,
            "grid_row": null,
            "max_height": null,
            "align_content": null,
            "visibility": null,
            "align_self": null,
            "height": null,
            "min_height": null,
            "padding": null,
            "grid_auto_rows": null,
            "grid_gap": null,
            "max_width": null,
            "order": null,
            "_view_module_version": "1.2.0",
            "grid_template_areas": null,
            "object_position": null,
            "object_fit": null,
            "grid_auto_columns": null,
            "margin": null,
            "display": null,
            "left": null
          }
        },
        "52d871178bd54f7bacbe9c294cefbaae": {
          "model_module": "@jupyter-widgets/controls",
          "model_name": "HTMLModel",
          "model_module_version": "1.5.0",
          "state": {
            "_view_name": "HTMLView",
            "style": "IPY_MODEL_c91bffcd732940c986dd7748c4e47ee3",
            "_dom_classes": [],
            "description": "",
            "_model_name": "HTMLModel",
            "placeholder": "​",
            "_view_module": "@jupyter-widgets/controls",
            "_model_module_version": "1.5.0",
            "value": "Render HTML: 100%",
            "_view_count": null,
            "_view_module_version": "1.5.0",
            "description_tooltip": null,
            "_model_module": "@jupyter-widgets/controls",
            "layout": "IPY_MODEL_93037248faf54067bf111f808cc50d51"
          }
        },
        "8955e124cd7444f7b984a616c72d6a77": {
          "model_module": "@jupyter-widgets/controls",
          "model_name": "FloatProgressModel",
          "model_module_version": "1.5.0",
          "state": {
            "_view_name": "ProgressView",
            "style": "IPY_MODEL_820583229ee347a097cc9050968a67a3",
            "_dom_classes": [],
            "description": "",
            "_model_name": "FloatProgressModel",
            "bar_style": "success",
            "max": 1,
            "_view_module": "@jupyter-widgets/controls",
            "_model_module_version": "1.5.0",
            "value": 1,
            "_view_count": null,
            "_view_module_version": "1.5.0",
            "orientation": "horizontal",
            "min": 0,
            "description_tooltip": null,
            "_model_module": "@jupyter-widgets/controls",
            "layout": "IPY_MODEL_54a849ea5be24701aee597f1f753be37"
          }
        },
        "c0fac75945f64724b46b8d61246ffbc3": {
          "model_module": "@jupyter-widgets/controls",
          "model_name": "HTMLModel",
          "model_module_version": "1.5.0",
          "state": {
            "_view_name": "HTMLView",
            "style": "IPY_MODEL_e44168187d2c498e93c87a2df84824ca",
            "_dom_classes": [],
            "description": "",
            "_model_name": "HTMLModel",
            "placeholder": "​",
            "_view_module": "@jupyter-widgets/controls",
            "_model_module_version": "1.5.0",
            "value": " 1/1 [00:48&lt;00:00, 48.08s/it]",
            "_view_count": null,
            "_view_module_version": "1.5.0",
            "description_tooltip": null,
            "_model_module": "@jupyter-widgets/controls",
            "layout": "IPY_MODEL_6127a4ce1c9d472688a4f7842bbcf7c7"
          }
        },
        "c91bffcd732940c986dd7748c4e47ee3": {
          "model_module": "@jupyter-widgets/controls",
          "model_name": "DescriptionStyleModel",
          "model_module_version": "1.5.0",
          "state": {
            "_view_name": "StyleView",
            "_model_name": "DescriptionStyleModel",
            "description_width": "",
            "_view_module": "@jupyter-widgets/base",
            "_model_module_version": "1.5.0",
            "_view_count": null,
            "_view_module_version": "1.2.0",
            "_model_module": "@jupyter-widgets/controls"
          }
        },
        "93037248faf54067bf111f808cc50d51": {
          "model_module": "@jupyter-widgets/base",
          "model_name": "LayoutModel",
          "model_module_version": "1.2.0",
          "state": {
            "_view_name": "LayoutView",
            "grid_template_rows": null,
            "right": null,
            "justify_content": null,
            "_view_module": "@jupyter-widgets/base",
            "overflow": null,
            "_model_module_version": "1.2.0",
            "_view_count": null,
            "flex_flow": null,
            "width": null,
            "min_width": null,
            "border": null,
            "align_items": null,
            "bottom": null,
            "_model_module": "@jupyter-widgets/base",
            "top": null,
            "grid_column": null,
            "overflow_y": null,
            "overflow_x": null,
            "grid_auto_flow": null,
            "grid_area": null,
            "grid_template_columns": null,
            "flex": null,
            "_model_name": "LayoutModel",
            "justify_items": null,
            "grid_row": null,
            "max_height": null,
            "align_content": null,
            "visibility": null,
            "align_self": null,
            "height": null,
            "min_height": null,
            "padding": null,
            "grid_auto_rows": null,
            "grid_gap": null,
            "max_width": null,
            "order": null,
            "_view_module_version": "1.2.0",
            "grid_template_areas": null,
            "object_position": null,
            "object_fit": null,
            "grid_auto_columns": null,
            "margin": null,
            "display": null,
            "left": null
          }
        },
        "820583229ee347a097cc9050968a67a3": {
          "model_module": "@jupyter-widgets/controls",
          "model_name": "ProgressStyleModel",
          "model_module_version": "1.5.0",
          "state": {
            "_view_name": "StyleView",
            "_model_name": "ProgressStyleModel",
            "description_width": "",
            "_view_module": "@jupyter-widgets/base",
            "_model_module_version": "1.5.0",
            "_view_count": null,
            "_view_module_version": "1.2.0",
            "bar_color": null,
            "_model_module": "@jupyter-widgets/controls"
          }
        },
        "54a849ea5be24701aee597f1f753be37": {
          "model_module": "@jupyter-widgets/base",
          "model_name": "LayoutModel",
          "model_module_version": "1.2.0",
          "state": {
            "_view_name": "LayoutView",
            "grid_template_rows": null,
            "right": null,
            "justify_content": null,
            "_view_module": "@jupyter-widgets/base",
            "overflow": null,
            "_model_module_version": "1.2.0",
            "_view_count": null,
            "flex_flow": null,
            "width": null,
            "min_width": null,
            "border": null,
            "align_items": null,
            "bottom": null,
            "_model_module": "@jupyter-widgets/base",
            "top": null,
            "grid_column": null,
            "overflow_y": null,
            "overflow_x": null,
            "grid_auto_flow": null,
            "grid_area": null,
            "grid_template_columns": null,
            "flex": null,
            "_model_name": "LayoutModel",
            "justify_items": null,
            "grid_row": null,
            "max_height": null,
            "align_content": null,
            "visibility": null,
            "align_self": null,
            "height": null,
            "min_height": null,
            "padding": null,
            "grid_auto_rows": null,
            "grid_gap": null,
            "max_width": null,
            "order": null,
            "_view_module_version": "1.2.0",
            "grid_template_areas": null,
            "object_position": null,
            "object_fit": null,
            "grid_auto_columns": null,
            "margin": null,
            "display": null,
            "left": null
          }
        },
        "e44168187d2c498e93c87a2df84824ca": {
          "model_module": "@jupyter-widgets/controls",
          "model_name": "DescriptionStyleModel",
          "model_module_version": "1.5.0",
          "state": {
            "_view_name": "StyleView",
            "_model_name": "DescriptionStyleModel",
            "description_width": "",
            "_view_module": "@jupyter-widgets/base",
            "_model_module_version": "1.5.0",
            "_view_count": null,
            "_view_module_version": "1.2.0",
            "_model_module": "@jupyter-widgets/controls"
          }
        },
        "6127a4ce1c9d472688a4f7842bbcf7c7": {
          "model_module": "@jupyter-widgets/base",
          "model_name": "LayoutModel",
          "model_module_version": "1.2.0",
          "state": {
            "_view_name": "LayoutView",
            "grid_template_rows": null,
            "right": null,
            "justify_content": null,
            "_view_module": "@jupyter-widgets/base",
            "overflow": null,
            "_model_module_version": "1.2.0",
            "_view_count": null,
            "flex_flow": null,
            "width": null,
            "min_width": null,
            "border": null,
            "align_items": null,
            "bottom": null,
            "_model_module": "@jupyter-widgets/base",
            "top": null,
            "grid_column": null,
            "overflow_y": null,
            "overflow_x": null,
            "grid_auto_flow": null,
            "grid_area": null,
            "grid_template_columns": null,
            "flex": null,
            "_model_name": "LayoutModel",
            "justify_items": null,
            "grid_row": null,
            "max_height": null,
            "align_content": null,
            "visibility": null,
            "align_self": null,
            "height": null,
            "min_height": null,
            "padding": null,
            "grid_auto_rows": null,
            "grid_gap": null,
            "max_width": null,
            "order": null,
            "_view_module_version": "1.2.0",
            "grid_template_areas": null,
            "object_position": null,
            "object_fit": null,
            "grid_auto_columns": null,
            "margin": null,
            "display": null,
            "left": null
          }
        }
      }
    }
  },
  "cells": [
    {
      "cell_type": "markdown",
      "metadata": {
        "id": "view-in-github",
        "colab_type": "text"
      },
      "source": [
        "<a href=\"https://colab.research.google.com/github/dukenel/Data_Analytics/blob/master/COVID_19_test_Project_Duke_Nelson.ipynb\" target=\"_parent\"><img src=\"https://colab.research.google.com/assets/colab-badge.svg\" alt=\"Open In Colab\"/></a>"
      ]
    },
    {
      "cell_type": "markdown",
      "metadata": {
        "id": "318fCP8DynOm"
      },
      "source": [
        "# **Business Question**"
      ]
    },
    {
      "cell_type": "markdown",
      "metadata": {
        "id": "I3sm6SEtpYbs"
      },
      "source": [
        "The dataset will help us to the make a prediction on COVID 19 testing. Our goal is to **determine if testing for COVID depends on certain attributes from the dataset.** A Linear Regression Model will thus be developed to  answer this Business Question. \n",
        "\n",
        "Dataset is from: https://raw.githubusercontent.com/niteen11/data301_predictive_analytics_machine_learning/main/data/COVID-19_Daily_Testing.csv"
      ]
    },
    {
      "cell_type": "markdown",
      "metadata": {
        "id": "SzLV96uE2Dcg"
      },
      "source": [
        "**We will seek to establish our model using the following structure**"
      ]
    },
    {
      "cell_type": "markdown",
      "metadata": {
        "id": "6F4hhsIOha19"
      },
      "source": [
        "\n",
        "    Environment set up\n",
        "    Data Acquisition\n",
        "    EDA\n",
        "    Can you make a ML model? Don't worry about the approach, just give it a shot. Try Linear regression model and explain your findings.\n",
        "    Conclusion\n",
        "\n",
        "\n"
      ]
    },
    {
      "cell_type": "markdown",
      "metadata": {
        "id": "ErPfuxVkytTC"
      },
      "source": [
        "**Import Libraries**"
      ]
    },
    {
      "cell_type": "code",
      "metadata": {
        "id": "4Gu_4r3Av_9o",
        "colab": {
          "base_uri": "https://localhost:8080/"
        },
        "outputId": "56766167-29da-4cdc-9fdd-1d070fa8eb61"
      },
      "source": [
        "import pandas as pd\n",
        "import numpy as np\n",
        "import seaborn as sns\n",
        "%matplotlib inline\n",
        "import matplotlib.pyplot as plt\n",
        "import statsmodels.api as sm\n",
        "from statsmodels.graphics.gofplots import qqplot\n"
      ],
      "execution_count": null,
      "outputs": [
        {
          "output_type": "stream",
          "name": "stderr",
          "text": [
            "/usr/local/lib/python3.7/dist-packages/statsmodels/tools/_testing.py:19: FutureWarning: pandas.util.testing is deprecated. Use the functions in the public API at pandas.testing instead.\n",
            "  import pandas.util.testing as tm\n"
          ]
        }
      ]
    },
    {
      "cell_type": "markdown",
      "metadata": {
        "id": "kDZxabd8yu7r"
      },
      "source": [
        "# **Data Acquisition**"
      ]
    },
    {
      "cell_type": "code",
      "metadata": {
        "id": "AhjBOMdWwDvW"
      },
      "source": [
        "cvd = pd.read_csv('https://raw.githubusercontent.com/niteen11/data301_predictive_analytics_machine_learning/main/data/COVID-19_Daily_Testing.csv')"
      ],
      "execution_count": null,
      "outputs": []
    },
    {
      "cell_type": "markdown",
      "metadata": {
        "id": "zUjTQOX299rO"
      },
      "source": [
        "# **Data Wrangling**"
      ]
    },
    {
      "cell_type": "code",
      "metadata": {
        "colab": {
          "base_uri": "https://localhost:8080/"
        },
        "id": "rkJpi4KRwQVA",
        "outputId": "3e945dd5-b7be-44bc-a04c-5a725e5bbe90"
      },
      "source": [
        "cvd.shape"
      ],
      "execution_count": null,
      "outputs": [
        {
          "output_type": "execute_result",
          "data": {
            "text/plain": [
              "(89, 59)"
            ]
          },
          "metadata": {},
          "execution_count": 3
        }
      ]
    },
    {
      "cell_type": "code",
      "metadata": {
        "colab": {
          "base_uri": "https://localhost:8080/",
          "height": 330
        },
        "id": "KPcgWiVywifr",
        "outputId": "c51d9e61-30a8-4ebe-f392-13e30c312e69"
      },
      "source": [
        "cvd.head()"
      ],
      "execution_count": null,
      "outputs": [
        {
          "output_type": "execute_result",
          "data": {
            "text/html": [
              "<div>\n",
              "<style scoped>\n",
              "    .dataframe tbody tr th:only-of-type {\n",
              "        vertical-align: middle;\n",
              "    }\n",
              "\n",
              "    .dataframe tbody tr th {\n",
              "        vertical-align: top;\n",
              "    }\n",
              "\n",
              "    .dataframe thead th {\n",
              "        text-align: right;\n",
              "    }\n",
              "</style>\n",
              "<table border=\"1\" class=\"dataframe\">\n",
              "  <thead>\n",
              "    <tr style=\"text-align: right;\">\n",
              "      <th></th>\n",
              "      <th>Date</th>\n",
              "      <th>Day</th>\n",
              "      <th>Tests</th>\n",
              "      <th>Cases</th>\n",
              "      <th>People Not-Positive - Total</th>\n",
              "      <th>People Tested - Age 0-17</th>\n",
              "      <th>People Tested - Age 18-29</th>\n",
              "      <th>People Tested - Age 30-39</th>\n",
              "      <th>People Tested - Age 40-49</th>\n",
              "      <th>People Tested - Age 50-59</th>\n",
              "      <th>People Tested - Age 60-69</th>\n",
              "      <th>People Tested - Age 70-79</th>\n",
              "      <th>People Tested - Age 80+</th>\n",
              "      <th>People Tested - Age Unknown</th>\n",
              "      <th>People Tested - Female</th>\n",
              "      <th>People Tested - Male</th>\n",
              "      <th>People Tested - Gender Unknown</th>\n",
              "      <th>People Tested - Latinx</th>\n",
              "      <th>People Tested - Asian Non-Latinx</th>\n",
              "      <th>People Tested - Black Non-Latinx</th>\n",
              "      <th>People Tested - White Non-Latinx</th>\n",
              "      <th>People Tested - Other Race Non-Latinx</th>\n",
              "      <th>People Tested - Unknown Race/Ethnicity</th>\n",
              "      <th>People Positive - Age 0-17</th>\n",
              "      <th>People Positive - Age 18-29</th>\n",
              "      <th>People Positive - Age 30-30</th>\n",
              "      <th>People Positive - Age 40-49</th>\n",
              "      <th>People Positive - Age 50-59</th>\n",
              "      <th>People Positive - Age 60-69</th>\n",
              "      <th>People Positive - Age 70-79</th>\n",
              "      <th>People Positive - Age 80+</th>\n",
              "      <th>People Positive - Age Unknown</th>\n",
              "      <th>People Positive - Female</th>\n",
              "      <th>People Positive - Male</th>\n",
              "      <th>People Positive - Gender Unknown</th>\n",
              "      <th>People Positive - Latinx</th>\n",
              "      <th>People Positive - Asian Non-Latinx</th>\n",
              "      <th>People Positive - Black Non-Latinx</th>\n",
              "      <th>People Positive - White Non-Latinx</th>\n",
              "      <th>People Positive - Other Race Non-Latinx</th>\n",
              "      <th>People Positive - Unknown Race/Ethnicity</th>\n",
              "      <th>People Not-Positive - Age 0-17</th>\n",
              "      <th>People Not-Positive - Age 18-29</th>\n",
              "      <th>People Not-Positive - Age 30-39</th>\n",
              "      <th>People Not-Positive - Age 40-49</th>\n",
              "      <th>People Not-Positive - Age 50-59</th>\n",
              "      <th>People Not-Positive - Age 60-69</th>\n",
              "      <th>People Not-Positive - Age 70-79</th>\n",
              "      <th>People Not-Positive - Age 80+</th>\n",
              "      <th>People Not-Positive - Age Unknown</th>\n",
              "      <th>People Not-Positive - Female</th>\n",
              "      <th>People Not-Positive - Male</th>\n",
              "      <th>People Not-Positive - Gender Unknown</th>\n",
              "      <th>People Not-Positive - Latinx</th>\n",
              "      <th>People Not-Positive - Asian Non-Latinx</th>\n",
              "      <th>People Not-Positive - Black Non-Latinx</th>\n",
              "      <th>People Not-Positive - White Non-Latinx</th>\n",
              "      <th>People Not-Positive - Other Race Non-Latinx</th>\n",
              "      <th>People Not-Positive - Unknown Race/Ethnicity</th>\n",
              "    </tr>\n",
              "  </thead>\n",
              "  <tbody>\n",
              "    <tr>\n",
              "      <th>0</th>\n",
              "      <td>03-01-20</td>\n",
              "      <td>Sunday</td>\n",
              "      <td>1</td>\n",
              "      <td>0</td>\n",
              "      <td>1</td>\n",
              "      <td>0</td>\n",
              "      <td>0</td>\n",
              "      <td>1</td>\n",
              "      <td>0</td>\n",
              "      <td>0</td>\n",
              "      <td>0</td>\n",
              "      <td>0</td>\n",
              "      <td>0</td>\n",
              "      <td>0</td>\n",
              "      <td>0</td>\n",
              "      <td>1</td>\n",
              "      <td>0</td>\n",
              "      <td>0</td>\n",
              "      <td>0</td>\n",
              "      <td>0</td>\n",
              "      <td>1</td>\n",
              "      <td>0</td>\n",
              "      <td>0</td>\n",
              "      <td>0</td>\n",
              "      <td>0</td>\n",
              "      <td>0</td>\n",
              "      <td>0</td>\n",
              "      <td>0</td>\n",
              "      <td>0</td>\n",
              "      <td>0</td>\n",
              "      <td>0</td>\n",
              "      <td>0</td>\n",
              "      <td>0</td>\n",
              "      <td>0</td>\n",
              "      <td>0</td>\n",
              "      <td>0</td>\n",
              "      <td>0</td>\n",
              "      <td>0</td>\n",
              "      <td>0</td>\n",
              "      <td>0</td>\n",
              "      <td>0</td>\n",
              "      <td>0</td>\n",
              "      <td>0</td>\n",
              "      <td>1</td>\n",
              "      <td>0</td>\n",
              "      <td>0</td>\n",
              "      <td>0</td>\n",
              "      <td>0</td>\n",
              "      <td>0</td>\n",
              "      <td>0</td>\n",
              "      <td>0</td>\n",
              "      <td>1</td>\n",
              "      <td>0</td>\n",
              "      <td>0</td>\n",
              "      <td>0</td>\n",
              "      <td>0</td>\n",
              "      <td>1</td>\n",
              "      <td>0</td>\n",
              "      <td>0</td>\n",
              "    </tr>\n",
              "    <tr>\n",
              "      <th>1</th>\n",
              "      <td>05-02-20</td>\n",
              "      <td>Saturday</td>\n",
              "      <td>2,431</td>\n",
              "      <td>705</td>\n",
              "      <td>1,726</td>\n",
              "      <td>129</td>\n",
              "      <td>470</td>\n",
              "      <td>458</td>\n",
              "      <td>458</td>\n",
              "      <td>412</td>\n",
              "      <td>281</td>\n",
              "      <td>128</td>\n",
              "      <td>94</td>\n",
              "      <td>1</td>\n",
              "      <td>1,238</td>\n",
              "      <td>1,158</td>\n",
              "      <td>35</td>\n",
              "      <td>569</td>\n",
              "      <td>39</td>\n",
              "      <td>376</td>\n",
              "      <td>276</td>\n",
              "      <td>73</td>\n",
              "      <td>1,098</td>\n",
              "      <td>24</td>\n",
              "      <td>141</td>\n",
              "      <td>120</td>\n",
              "      <td>152</td>\n",
              "      <td>137</td>\n",
              "      <td>76</td>\n",
              "      <td>39</td>\n",
              "      <td>16</td>\n",
              "      <td>0</td>\n",
              "      <td>340</td>\n",
              "      <td>361</td>\n",
              "      <td>4</td>\n",
              "      <td>343</td>\n",
              "      <td>9</td>\n",
              "      <td>103</td>\n",
              "      <td>51</td>\n",
              "      <td>22</td>\n",
              "      <td>177</td>\n",
              "      <td>105</td>\n",
              "      <td>329</td>\n",
              "      <td>338</td>\n",
              "      <td>306</td>\n",
              "      <td>275</td>\n",
              "      <td>205</td>\n",
              "      <td>89</td>\n",
              "      <td>78</td>\n",
              "      <td>1</td>\n",
              "      <td>898</td>\n",
              "      <td>797</td>\n",
              "      <td>31</td>\n",
              "      <td>226</td>\n",
              "      <td>30</td>\n",
              "      <td>273</td>\n",
              "      <td>225</td>\n",
              "      <td>51</td>\n",
              "      <td>921</td>\n",
              "    </tr>\n",
              "    <tr>\n",
              "      <th>2</th>\n",
              "      <td>05/14/2020</td>\n",
              "      <td>Thursday</td>\n",
              "      <td>4,098</td>\n",
              "      <td>772</td>\n",
              "      <td>3,326</td>\n",
              "      <td>260</td>\n",
              "      <td>805</td>\n",
              "      <td>833</td>\n",
              "      <td>685</td>\n",
              "      <td>604</td>\n",
              "      <td>471</td>\n",
              "      <td>253</td>\n",
              "      <td>171</td>\n",
              "      <td>16</td>\n",
              "      <td>2,049</td>\n",
              "      <td>1,786</td>\n",
              "      <td>263</td>\n",
              "      <td>848</td>\n",
              "      <td>55</td>\n",
              "      <td>581</td>\n",
              "      <td>510</td>\n",
              "      <td>144</td>\n",
              "      <td>1,960</td>\n",
              "      <td>48</td>\n",
              "      <td>167</td>\n",
              "      <td>153</td>\n",
              "      <td>131</td>\n",
              "      <td>107</td>\n",
              "      <td>95</td>\n",
              "      <td>42</td>\n",
              "      <td>29</td>\n",
              "      <td>0</td>\n",
              "      <td>395</td>\n",
              "      <td>362</td>\n",
              "      <td>15</td>\n",
              "      <td>319</td>\n",
              "      <td>12</td>\n",
              "      <td>151</td>\n",
              "      <td>68</td>\n",
              "      <td>35</td>\n",
              "      <td>187</td>\n",
              "      <td>212</td>\n",
              "      <td>638</td>\n",
              "      <td>680</td>\n",
              "      <td>554</td>\n",
              "      <td>497</td>\n",
              "      <td>376</td>\n",
              "      <td>211</td>\n",
              "      <td>142</td>\n",
              "      <td>16</td>\n",
              "      <td>1,654</td>\n",
              "      <td>1,424</td>\n",
              "      <td>248</td>\n",
              "      <td>529</td>\n",
              "      <td>43</td>\n",
              "      <td>430</td>\n",
              "      <td>442</td>\n",
              "      <td>109</td>\n",
              "      <td>1,773</td>\n",
              "    </tr>\n",
              "    <tr>\n",
              "      <th>3</th>\n",
              "      <td>03-05-20</td>\n",
              "      <td>Thursday</td>\n",
              "      <td>17</td>\n",
              "      <td>1</td>\n",
              "      <td>16</td>\n",
              "      <td>4</td>\n",
              "      <td>2</td>\n",
              "      <td>0</td>\n",
              "      <td>4</td>\n",
              "      <td>3</td>\n",
              "      <td>2</td>\n",
              "      <td>0</td>\n",
              "      <td>2</td>\n",
              "      <td>0</td>\n",
              "      <td>8</td>\n",
              "      <td>9</td>\n",
              "      <td>0</td>\n",
              "      <td>2</td>\n",
              "      <td>0</td>\n",
              "      <td>5</td>\n",
              "      <td>2</td>\n",
              "      <td>1</td>\n",
              "      <td>7</td>\n",
              "      <td>0</td>\n",
              "      <td>0</td>\n",
              "      <td>0</td>\n",
              "      <td>0</td>\n",
              "      <td>1</td>\n",
              "      <td>0</td>\n",
              "      <td>0</td>\n",
              "      <td>0</td>\n",
              "      <td>0</td>\n",
              "      <td>1</td>\n",
              "      <td>0</td>\n",
              "      <td>0</td>\n",
              "      <td>0</td>\n",
              "      <td>0</td>\n",
              "      <td>1</td>\n",
              "      <td>0</td>\n",
              "      <td>0</td>\n",
              "      <td>0</td>\n",
              "      <td>4</td>\n",
              "      <td>2</td>\n",
              "      <td>0</td>\n",
              "      <td>4</td>\n",
              "      <td>2</td>\n",
              "      <td>2</td>\n",
              "      <td>0</td>\n",
              "      <td>2</td>\n",
              "      <td>0</td>\n",
              "      <td>7</td>\n",
              "      <td>9</td>\n",
              "      <td>0</td>\n",
              "      <td>2</td>\n",
              "      <td>0</td>\n",
              "      <td>4</td>\n",
              "      <td>2</td>\n",
              "      <td>1</td>\n",
              "      <td>7</td>\n",
              "    </tr>\n",
              "    <tr>\n",
              "      <th>4</th>\n",
              "      <td>03-06-20</td>\n",
              "      <td>Friday</td>\n",
              "      <td>18</td>\n",
              "      <td>3</td>\n",
              "      <td>15</td>\n",
              "      <td>1</td>\n",
              "      <td>5</td>\n",
              "      <td>1</td>\n",
              "      <td>3</td>\n",
              "      <td>3</td>\n",
              "      <td>2</td>\n",
              "      <td>2</td>\n",
              "      <td>0</td>\n",
              "      <td>1</td>\n",
              "      <td>8</td>\n",
              "      <td>10</td>\n",
              "      <td>0</td>\n",
              "      <td>2</td>\n",
              "      <td>0</td>\n",
              "      <td>1</td>\n",
              "      <td>5</td>\n",
              "      <td>1</td>\n",
              "      <td>9</td>\n",
              "      <td>0</td>\n",
              "      <td>0</td>\n",
              "      <td>0</td>\n",
              "      <td>2</td>\n",
              "      <td>0</td>\n",
              "      <td>1</td>\n",
              "      <td>0</td>\n",
              "      <td>0</td>\n",
              "      <td>0</td>\n",
              "      <td>0</td>\n",
              "      <td>3</td>\n",
              "      <td>0</td>\n",
              "      <td>0</td>\n",
              "      <td>0</td>\n",
              "      <td>0</td>\n",
              "      <td>3</td>\n",
              "      <td>0</td>\n",
              "      <td>0</td>\n",
              "      <td>1</td>\n",
              "      <td>5</td>\n",
              "      <td>1</td>\n",
              "      <td>1</td>\n",
              "      <td>3</td>\n",
              "      <td>1</td>\n",
              "      <td>2</td>\n",
              "      <td>0</td>\n",
              "      <td>1</td>\n",
              "      <td>8</td>\n",
              "      <td>7</td>\n",
              "      <td>0</td>\n",
              "      <td>2</td>\n",
              "      <td>0</td>\n",
              "      <td>1</td>\n",
              "      <td>2</td>\n",
              "      <td>1</td>\n",
              "      <td>9</td>\n",
              "    </tr>\n",
              "  </tbody>\n",
              "</table>\n",
              "</div>"
            ],
            "text/plain": [
              "         Date  ... People Not-Positive - Unknown Race/Ethnicity\n",
              "0    03-01-20  ...                                            0\n",
              "1    05-02-20  ...                                          921\n",
              "2  05/14/2020  ...                                        1,773\n",
              "3    03-05-20  ...                                            7\n",
              "4    03-06-20  ...                                            9\n",
              "\n",
              "[5 rows x 59 columns]"
            ]
          },
          "metadata": {},
          "execution_count": 4
        }
      ]
    },
    {
      "cell_type": "code",
      "metadata": {
        "colab": {
          "base_uri": "https://localhost:8080/"
        },
        "id": "u_DRQrNAw9Bq",
        "outputId": "6d00b2b8-ad0f-4d57-a957-138c1c9e34b7"
      },
      "source": [
        "cvd.isnull().sum()"
      ],
      "execution_count": null,
      "outputs": [
        {
          "output_type": "execute_result",
          "data": {
            "text/plain": [
              "Date                                            1\n",
              "Day                                             1\n",
              "Tests                                           0\n",
              "Cases                                           0\n",
              "People Not-Positive - Total                     0\n",
              "People Tested - Age 0-17                        0\n",
              "People Tested - Age 18-29                       0\n",
              "People Tested - Age 30-39                       0\n",
              "People Tested - Age 40-49                       0\n",
              "People Tested - Age 50-59                       0\n",
              "People Tested - Age 60-69                       0\n",
              "People Tested - Age 70-79                       0\n",
              "People Tested - Age 80+                         0\n",
              "People Tested - Age Unknown                     0\n",
              "People Tested - Female                          0\n",
              "People Tested - Male                            0\n",
              "People Tested - Gender Unknown                  0\n",
              "People Tested - Latinx                          0\n",
              "People Tested - Asian Non-Latinx                0\n",
              "People Tested - Black Non-Latinx                0\n",
              "People Tested - White Non-Latinx                0\n",
              "People Tested - Other Race Non-Latinx           0\n",
              "People Tested - Unknown Race/Ethnicity          0\n",
              "People Positive - Age 0-17                      0\n",
              "People Positive - Age 18-29                     0\n",
              "People Positive - Age 30-30                     0\n",
              "People Positive - Age 40-49                     0\n",
              "People Positive - Age 50-59                     0\n",
              "People Positive - Age 60-69                     0\n",
              "People Positive - Age 70-79                     0\n",
              "People Positive - Age 80+                       0\n",
              "People Positive - Age Unknown                   0\n",
              "People Positive - Female                        0\n",
              "People Positive - Male                          0\n",
              "People Positive - Gender Unknown                0\n",
              "People Positive - Latinx                        0\n",
              "People Positive - Asian Non-Latinx              0\n",
              "People Positive - Black Non-Latinx              0\n",
              "People Positive - White Non-Latinx              0\n",
              "People Positive - Other Race Non-Latinx         0\n",
              "People Positive - Unknown Race/Ethnicity        0\n",
              "People Not-Positive - Age 0-17                  0\n",
              "People Not-Positive - Age 18-29                 0\n",
              "People Not-Positive - Age 30-39                 0\n",
              "People Not-Positive - Age 40-49                 0\n",
              "People Not-Positive - Age 50-59                 0\n",
              "People Not-Positive - Age 60-69                 0\n",
              "People Not-Positive - Age 70-79                 0\n",
              "People Not-Positive - Age 80+                   0\n",
              "People Not-Positive - Age Unknown               0\n",
              "People Not-Positive - Female                    0\n",
              "People Not-Positive - Male                      0\n",
              "People Not-Positive - Gender Unknown            0\n",
              "People Not-Positive - Latinx                    0\n",
              "People Not-Positive - Asian Non-Latinx          0\n",
              "People Not-Positive - Black Non-Latinx          0\n",
              "People Not-Positive - White Non-Latinx          0\n",
              "People Not-Positive - Other Race Non-Latinx     0\n",
              "People Not-Positive - Unknown Race/Ethnicity    0\n",
              "dtype: int64"
            ]
          },
          "metadata": {},
          "execution_count": 5
        }
      ]
    },
    {
      "cell_type": "code",
      "metadata": {
        "colab": {
          "base_uri": "https://localhost:8080/"
        },
        "id": "rqWCjalYxGaw",
        "outputId": "6c19a662-68e3-49b9-dd57-bb3b3dd86754"
      },
      "source": [
        "cvd.isna().any()"
      ],
      "execution_count": null,
      "outputs": [
        {
          "output_type": "execute_result",
          "data": {
            "text/plain": [
              "Date                                             True\n",
              "Day                                              True\n",
              "Tests                                           False\n",
              "Cases                                           False\n",
              "People Not-Positive - Total                     False\n",
              "People Tested - Age 0-17                        False\n",
              "People Tested - Age 18-29                       False\n",
              "People Tested - Age 30-39                       False\n",
              "People Tested - Age 40-49                       False\n",
              "People Tested - Age 50-59                       False\n",
              "People Tested - Age 60-69                       False\n",
              "People Tested - Age 70-79                       False\n",
              "People Tested - Age 80+                         False\n",
              "People Tested - Age Unknown                     False\n",
              "People Tested - Female                          False\n",
              "People Tested - Male                            False\n",
              "People Tested - Gender Unknown                  False\n",
              "People Tested - Latinx                          False\n",
              "People Tested - Asian Non-Latinx                False\n",
              "People Tested - Black Non-Latinx                False\n",
              "People Tested - White Non-Latinx                False\n",
              "People Tested - Other Race Non-Latinx           False\n",
              "People Tested - Unknown Race/Ethnicity          False\n",
              "People Positive - Age 0-17                      False\n",
              "People Positive - Age 18-29                     False\n",
              "People Positive - Age 30-30                     False\n",
              "People Positive - Age 40-49                     False\n",
              "People Positive - Age 50-59                     False\n",
              "People Positive - Age 60-69                     False\n",
              "People Positive - Age 70-79                     False\n",
              "People Positive - Age 80+                       False\n",
              "People Positive - Age Unknown                   False\n",
              "People Positive - Female                        False\n",
              "People Positive - Male                          False\n",
              "People Positive - Gender Unknown                False\n",
              "People Positive - Latinx                        False\n",
              "People Positive - Asian Non-Latinx              False\n",
              "People Positive - Black Non-Latinx              False\n",
              "People Positive - White Non-Latinx              False\n",
              "People Positive - Other Race Non-Latinx         False\n",
              "People Positive - Unknown Race/Ethnicity        False\n",
              "People Not-Positive - Age 0-17                  False\n",
              "People Not-Positive - Age 18-29                 False\n",
              "People Not-Positive - Age 30-39                 False\n",
              "People Not-Positive - Age 40-49                 False\n",
              "People Not-Positive - Age 50-59                 False\n",
              "People Not-Positive - Age 60-69                 False\n",
              "People Not-Positive - Age 70-79                 False\n",
              "People Not-Positive - Age 80+                   False\n",
              "People Not-Positive - Age Unknown               False\n",
              "People Not-Positive - Female                    False\n",
              "People Not-Positive - Male                      False\n",
              "People Not-Positive - Gender Unknown            False\n",
              "People Not-Positive - Latinx                    False\n",
              "People Not-Positive - Asian Non-Latinx          False\n",
              "People Not-Positive - Black Non-Latinx          False\n",
              "People Not-Positive - White Non-Latinx          False\n",
              "People Not-Positive - Other Race Non-Latinx     False\n",
              "People Not-Positive - Unknown Race/Ethnicity    False\n",
              "dtype: bool"
            ]
          },
          "metadata": {},
          "execution_count": 6
        }
      ]
    },
    {
      "cell_type": "code",
      "metadata": {
        "colab": {
          "base_uri": "https://localhost:8080/",
          "height": 499
        },
        "id": "LWxS01c22qjH",
        "outputId": "c59a14af-4dc5-4ac5-f340-1906985d31fa"
      },
      "source": [
        "#Confirm data integrity on null values using heatmap\n",
        "sns.heatmap(cvd.isnull(), yticklabels=False,cbar=False,cmap='viridis')"
      ],
      "execution_count": null,
      "outputs": [
        {
          "output_type": "execute_result",
          "data": {
            "text/plain": [
              "<matplotlib.axes._subplots.AxesSubplot at 0x7fded65f1210>"
            ]
          },
          "metadata": {},
          "execution_count": 7
        },
        {
          "output_type": "display_data",
          "data": {
            "image/png": "[encoded data removed]",
            "text/plain": [
              "<Figure size 432x288 with 1 Axes>"
            ]
          },
          "metadata": {
            "needs_background": "light"
          }
        }
      ]
    },
    {
      "cell_type": "markdown",
      "metadata": {
        "id": "bMTYRp6e23DJ"
      },
      "source": [
        "Heatmap above indicates that our dataset a null entry on \"Date\" and \"Tests\"  attributes.\n",
        "\n"
      ]
    },
    {
      "cell_type": "code",
      "metadata": {
        "id": "Dt4KPSIQsOqT"
      },
      "source": [
        "#Let's check for any duplicates and drop them if exist.\n",
        "cvd.drop_duplicates(subset=None, keep=False, inplace=True)"
      ],
      "execution_count": null,
      "outputs": []
    },
    {
      "cell_type": "code",
      "metadata": {
        "id": "0EM6oP_Is9JO"
      },
      "source": [
        "#Fixing column names\n",
        "cvd.columns = cvd.columns.str.replace('People Positive - Age 30-30', 'People Positive - Age 30-39')"
      ],
      "execution_count": null,
      "outputs": []
    },
    {
      "cell_type": "code",
      "metadata": {
        "id": "5aPuheYGqiHA"
      },
      "source": [
        "#Fixing numerical errors in dataset\n",
        "cvd[\"Tests\"]=cvd[\"Tests\"].str.replace(',','')\n",
        "cvd['Tests'] = pd.to_numeric(cvd['Tests'],errors = 'coerce')\n",
        "cvd[\"Cases\"]=cvd[\"Cases\"].str.replace(',','')\n",
        "cvd['Cases'] = pd.to_numeric(cvd['Cases'],errors = 'coerce')\n",
        "cvd[\"People Not-Positive - Total\"]=cvd[\"People Not-Positive - Total\"].str.replace(',','')\n",
        "cvd['People Not-Positive - Total'] = pd.to_numeric(cvd['People Not-Positive - Total'],errors = 'coerce')\n",
        "cvd[\"People Tested - Age 18-29\"]=cvd[\"People Tested - Age 18-29\"].str.replace(',','')\n",
        "cvd['People Tested - Age 18-29'] = pd.to_numeric(cvd['People Tested - Age 18-29'],errors = 'coerce')\n",
        "cvd[\"People Tested - Age 30-39\"]=cvd[\"People Tested - Age 30-39\"].str.replace(',','')\n",
        "cvd['People Tested - Age 30-39'] = pd.to_numeric(cvd['People Tested - Age 30-39'],errors = 'coerce')\n",
        "cvd[\"People Tested - Female\"]=cvd[\"People Tested - Female\"].str.replace(',','')\n",
        "cvd['People Tested - Female'] = pd.to_numeric(cvd['People Tested - Female'],errors = 'coerce')\n",
        "cvd[\"People Tested - Male\"]=cvd[\"People Tested - Male\"].str.replace(',','')\n",
        "cvd['People Tested - Male'] = pd.to_numeric(cvd['People Tested - Male'],errors = 'coerce')\n",
        "cvd[\"People Tested - Latinx\"]=cvd[\"People Tested - Latinx\"].str.replace(',','')\n",
        "cvd['People Tested - Latinx'] = pd.to_numeric(cvd['People Tested - Latinx'],errors = 'coerce')\n",
        "cvd[\"People Tested - Unknown Race/Ethnicity\"]=cvd[\"People Tested - Unknown Race/Ethnicity\"].str.replace(',','')\n",
        "cvd['People Tested - Unknown Race/Ethnicity'] = pd.to_numeric(cvd['People Tested - Unknown Race/Ethnicity'],errors = 'coerce')\n",
        "cvd[\"People Not-Positive - Age 18-29\"]=cvd[\"People Not-Positive - Age 18-29\"].str.replace(',','')\n",
        "cvd['People Not-Positive - Age 18-29'] = pd.to_numeric(cvd['People Not-Positive - Age 18-29'],errors = 'coerce')\n",
        "cvd[\"People Not-Positive - Female\"]=cvd[\"People Not-Positive - Female\"].str.replace(',','')\n",
        "cvd['People Not-Positive - Female'] = pd.to_numeric(cvd['People Not-Positive - Female'],errors = 'coerce')\n",
        "cvd[\"People Not-Positive - Male\"]=cvd[\"People Not-Positive - Male\"].str.replace(',','')\n",
        "cvd['People Not-Positive - Male'] = pd.to_numeric(cvd['People Not-Positive - Male'],errors = 'coerce')\n",
        "cvd[\"People Not-Positive - Unknown Race/Ethnicity\"]=cvd[\"People Not-Positive - Unknown Race/Ethnicity\"].str.replace(',','')\n",
        "cvd['People Not-Positive - Unknown Race/Ethnicity'] = pd.to_numeric(cvd['People Not-Positive - Unknown Race/Ethnicity'],errors = 'coerce')"
      ],
      "execution_count": null,
      "outputs": []
    },
    {
      "cell_type": "code",
      "metadata": {
        "id": "du5wgNv8683D"
      },
      "source": [
        "#Fix Dates with \"/\" separators\n",
        "cvd[\"Date\"]=cvd[\"Date\"].str.replace('/','-')"
      ],
      "execution_count": null,
      "outputs": []
    },
    {
      "cell_type": "code",
      "metadata": {
        "id": "Sj6qaUqk-6Qk"
      },
      "source": [
        "#Dropping all rows with empty values\n",
        "nan_value = float(\"NaN\") #Convert NaN values to empty string\n",
        "cvd.replace(\"\", nan_value, inplace=True)\n",
        "cvd.dropna(subset = [\"Date\"], inplace=True)"
      ],
      "execution_count": null,
      "outputs": []
    },
    {
      "cell_type": "code",
      "metadata": {
        "colab": {
          "base_uri": "https://localhost:8080/",
          "height": 504
        },
        "id": "zRmhZonH7Kg4",
        "outputId": "6e7fb334-a064-406f-e150-5889f0ebf7e2"
      },
      "source": [
        "cvd.head()"
      ],
      "execution_count": null,
      "outputs": [
        {
          "output_type": "execute_result",
          "data": {
            "text/html": [
              "<div>\n",
              "<style scoped>\n",
              "    .dataframe tbody tr th:only-of-type {\n",
              "        vertical-align: middle;\n",
              "    }\n",
              "\n",
              "    .dataframe tbody tr th {\n",
              "        vertical-align: top;\n",
              "    }\n",
              "\n",
              "    .dataframe thead th {\n",
              "        text-align: right;\n",
              "    }\n",
              "</style>\n",
              "<table border=\"1\" class=\"dataframe\">\n",
              "  <thead>\n",
              "    <tr style=\"text-align: right;\">\n",
              "      <th></th>\n",
              "      <th>Date</th>\n",
              "      <th>Day</th>\n",
              "      <th>Tests</th>\n",
              "      <th>Cases</th>\n",
              "      <th>People Not-Positive - Total</th>\n",
              "      <th>People Tested - Age 0-17</th>\n",
              "      <th>People Tested - Age 18-29</th>\n",
              "      <th>People Tested - Age 30-39</th>\n",
              "      <th>People Tested - Age 40-49</th>\n",
              "      <th>People Tested - Age 50-59</th>\n",
              "      <th>People Tested - Age 60-69</th>\n",
              "      <th>People Tested - Age 70-79</th>\n",
              "      <th>People Tested - Age 80+</th>\n",
              "      <th>People Tested - Age Unknown</th>\n",
              "      <th>People Tested - Female</th>\n",
              "      <th>People Tested - Male</th>\n",
              "      <th>People Tested - Gender Unknown</th>\n",
              "      <th>People Tested - Latinx</th>\n",
              "      <th>People Tested - Asian Non-Latinx</th>\n",
              "      <th>People Tested - Black Non-Latinx</th>\n",
              "      <th>People Tested - White Non-Latinx</th>\n",
              "      <th>People Tested - Other Race Non-Latinx</th>\n",
              "      <th>People Tested - Unknown Race/Ethnicity</th>\n",
              "      <th>People Positive - Age 0-17</th>\n",
              "      <th>People Positive - Age 18-29</th>\n",
              "      <th>People Positive - Age 30-39</th>\n",
              "      <th>People Positive - Age 40-49</th>\n",
              "      <th>People Positive - Age 50-59</th>\n",
              "      <th>People Positive - Age 60-69</th>\n",
              "      <th>People Positive - Age 70-79</th>\n",
              "      <th>People Positive - Age 80+</th>\n",
              "      <th>People Positive - Age Unknown</th>\n",
              "      <th>People Positive - Female</th>\n",
              "      <th>People Positive - Male</th>\n",
              "      <th>People Positive - Gender Unknown</th>\n",
              "      <th>People Positive - Latinx</th>\n",
              "      <th>People Positive - Asian Non-Latinx</th>\n",
              "      <th>People Positive - Black Non-Latinx</th>\n",
              "      <th>People Positive - White Non-Latinx</th>\n",
              "      <th>People Positive - Other Race Non-Latinx</th>\n",
              "      <th>People Positive - Unknown Race/Ethnicity</th>\n",
              "      <th>People Not-Positive - Age 0-17</th>\n",
              "      <th>People Not-Positive - Age 18-29</th>\n",
              "      <th>People Not-Positive - Age 30-39</th>\n",
              "      <th>People Not-Positive - Age 40-49</th>\n",
              "      <th>People Not-Positive - Age 50-59</th>\n",
              "      <th>People Not-Positive - Age 60-69</th>\n",
              "      <th>People Not-Positive - Age 70-79</th>\n",
              "      <th>People Not-Positive - Age 80+</th>\n",
              "      <th>People Not-Positive - Age Unknown</th>\n",
              "      <th>People Not-Positive - Female</th>\n",
              "      <th>People Not-Positive - Male</th>\n",
              "      <th>People Not-Positive - Gender Unknown</th>\n",
              "      <th>People Not-Positive - Latinx</th>\n",
              "      <th>People Not-Positive - Asian Non-Latinx</th>\n",
              "      <th>People Not-Positive - Black Non-Latinx</th>\n",
              "      <th>People Not-Positive - White Non-Latinx</th>\n",
              "      <th>People Not-Positive - Other Race Non-Latinx</th>\n",
              "      <th>People Not-Positive - Unknown Race/Ethnicity</th>\n",
              "    </tr>\n",
              "  </thead>\n",
              "  <tbody>\n",
              "    <tr>\n",
              "      <th>0</th>\n",
              "      <td>03-01-20</td>\n",
              "      <td>Sunday</td>\n",
              "      <td>1</td>\n",
              "      <td>0</td>\n",
              "      <td>1</td>\n",
              "      <td>0</td>\n",
              "      <td>0</td>\n",
              "      <td>1</td>\n",
              "      <td>0</td>\n",
              "      <td>0</td>\n",
              "      <td>0</td>\n",
              "      <td>0</td>\n",
              "      <td>0</td>\n",
              "      <td>0</td>\n",
              "      <td>0</td>\n",
              "      <td>1</td>\n",
              "      <td>0</td>\n",
              "      <td>0</td>\n",
              "      <td>0</td>\n",
              "      <td>0</td>\n",
              "      <td>1</td>\n",
              "      <td>0</td>\n",
              "      <td>0</td>\n",
              "      <td>0</td>\n",
              "      <td>0</td>\n",
              "      <td>0</td>\n",
              "      <td>0</td>\n",
              "      <td>0</td>\n",
              "      <td>0</td>\n",
              "      <td>0</td>\n",
              "      <td>0</td>\n",
              "      <td>0</td>\n",
              "      <td>0</td>\n",
              "      <td>0</td>\n",
              "      <td>0</td>\n",
              "      <td>0</td>\n",
              "      <td>0</td>\n",
              "      <td>0</td>\n",
              "      <td>0</td>\n",
              "      <td>0</td>\n",
              "      <td>0</td>\n",
              "      <td>0</td>\n",
              "      <td>0</td>\n",
              "      <td>1</td>\n",
              "      <td>0</td>\n",
              "      <td>0</td>\n",
              "      <td>0</td>\n",
              "      <td>0</td>\n",
              "      <td>0</td>\n",
              "      <td>0</td>\n",
              "      <td>0</td>\n",
              "      <td>1</td>\n",
              "      <td>0</td>\n",
              "      <td>0</td>\n",
              "      <td>0</td>\n",
              "      <td>0</td>\n",
              "      <td>1</td>\n",
              "      <td>0</td>\n",
              "      <td>0</td>\n",
              "    </tr>\n",
              "    <tr>\n",
              "      <th>1</th>\n",
              "      <td>05-02-20</td>\n",
              "      <td>Saturday</td>\n",
              "      <td>2431</td>\n",
              "      <td>705</td>\n",
              "      <td>1726</td>\n",
              "      <td>129</td>\n",
              "      <td>470</td>\n",
              "      <td>458</td>\n",
              "      <td>458</td>\n",
              "      <td>412</td>\n",
              "      <td>281</td>\n",
              "      <td>128</td>\n",
              "      <td>94</td>\n",
              "      <td>1</td>\n",
              "      <td>1238</td>\n",
              "      <td>1158</td>\n",
              "      <td>35</td>\n",
              "      <td>569</td>\n",
              "      <td>39</td>\n",
              "      <td>376</td>\n",
              "      <td>276</td>\n",
              "      <td>73</td>\n",
              "      <td>1098</td>\n",
              "      <td>24</td>\n",
              "      <td>141</td>\n",
              "      <td>120</td>\n",
              "      <td>152</td>\n",
              "      <td>137</td>\n",
              "      <td>76</td>\n",
              "      <td>39</td>\n",
              "      <td>16</td>\n",
              "      <td>0</td>\n",
              "      <td>340</td>\n",
              "      <td>361</td>\n",
              "      <td>4</td>\n",
              "      <td>343</td>\n",
              "      <td>9</td>\n",
              "      <td>103</td>\n",
              "      <td>51</td>\n",
              "      <td>22</td>\n",
              "      <td>177</td>\n",
              "      <td>105</td>\n",
              "      <td>329</td>\n",
              "      <td>338</td>\n",
              "      <td>306</td>\n",
              "      <td>275</td>\n",
              "      <td>205</td>\n",
              "      <td>89</td>\n",
              "      <td>78</td>\n",
              "      <td>1</td>\n",
              "      <td>898</td>\n",
              "      <td>797</td>\n",
              "      <td>31</td>\n",
              "      <td>226</td>\n",
              "      <td>30</td>\n",
              "      <td>273</td>\n",
              "      <td>225</td>\n",
              "      <td>51</td>\n",
              "      <td>921</td>\n",
              "    </tr>\n",
              "    <tr>\n",
              "      <th>2</th>\n",
              "      <td>05-14-2020</td>\n",
              "      <td>Thursday</td>\n",
              "      <td>4098</td>\n",
              "      <td>772</td>\n",
              "      <td>3326</td>\n",
              "      <td>260</td>\n",
              "      <td>805</td>\n",
              "      <td>833</td>\n",
              "      <td>685</td>\n",
              "      <td>604</td>\n",
              "      <td>471</td>\n",
              "      <td>253</td>\n",
              "      <td>171</td>\n",
              "      <td>16</td>\n",
              "      <td>2049</td>\n",
              "      <td>1786</td>\n",
              "      <td>263</td>\n",
              "      <td>848</td>\n",
              "      <td>55</td>\n",
              "      <td>581</td>\n",
              "      <td>510</td>\n",
              "      <td>144</td>\n",
              "      <td>1960</td>\n",
              "      <td>48</td>\n",
              "      <td>167</td>\n",
              "      <td>153</td>\n",
              "      <td>131</td>\n",
              "      <td>107</td>\n",
              "      <td>95</td>\n",
              "      <td>42</td>\n",
              "      <td>29</td>\n",
              "      <td>0</td>\n",
              "      <td>395</td>\n",
              "      <td>362</td>\n",
              "      <td>15</td>\n",
              "      <td>319</td>\n",
              "      <td>12</td>\n",
              "      <td>151</td>\n",
              "      <td>68</td>\n",
              "      <td>35</td>\n",
              "      <td>187</td>\n",
              "      <td>212</td>\n",
              "      <td>638</td>\n",
              "      <td>680</td>\n",
              "      <td>554</td>\n",
              "      <td>497</td>\n",
              "      <td>376</td>\n",
              "      <td>211</td>\n",
              "      <td>142</td>\n",
              "      <td>16</td>\n",
              "      <td>1654</td>\n",
              "      <td>1424</td>\n",
              "      <td>248</td>\n",
              "      <td>529</td>\n",
              "      <td>43</td>\n",
              "      <td>430</td>\n",
              "      <td>442</td>\n",
              "      <td>109</td>\n",
              "      <td>1773</td>\n",
              "    </tr>\n",
              "    <tr>\n",
              "      <th>3</th>\n",
              "      <td>03-05-20</td>\n",
              "      <td>Thursday</td>\n",
              "      <td>17</td>\n",
              "      <td>1</td>\n",
              "      <td>16</td>\n",
              "      <td>4</td>\n",
              "      <td>2</td>\n",
              "      <td>0</td>\n",
              "      <td>4</td>\n",
              "      <td>3</td>\n",
              "      <td>2</td>\n",
              "      <td>0</td>\n",
              "      <td>2</td>\n",
              "      <td>0</td>\n",
              "      <td>8</td>\n",
              "      <td>9</td>\n",
              "      <td>0</td>\n",
              "      <td>2</td>\n",
              "      <td>0</td>\n",
              "      <td>5</td>\n",
              "      <td>2</td>\n",
              "      <td>1</td>\n",
              "      <td>7</td>\n",
              "      <td>0</td>\n",
              "      <td>0</td>\n",
              "      <td>0</td>\n",
              "      <td>0</td>\n",
              "      <td>1</td>\n",
              "      <td>0</td>\n",
              "      <td>0</td>\n",
              "      <td>0</td>\n",
              "      <td>0</td>\n",
              "      <td>1</td>\n",
              "      <td>0</td>\n",
              "      <td>0</td>\n",
              "      <td>0</td>\n",
              "      <td>0</td>\n",
              "      <td>1</td>\n",
              "      <td>0</td>\n",
              "      <td>0</td>\n",
              "      <td>0</td>\n",
              "      <td>4</td>\n",
              "      <td>2</td>\n",
              "      <td>0</td>\n",
              "      <td>4</td>\n",
              "      <td>2</td>\n",
              "      <td>2</td>\n",
              "      <td>0</td>\n",
              "      <td>2</td>\n",
              "      <td>0</td>\n",
              "      <td>7</td>\n",
              "      <td>9</td>\n",
              "      <td>0</td>\n",
              "      <td>2</td>\n",
              "      <td>0</td>\n",
              "      <td>4</td>\n",
              "      <td>2</td>\n",
              "      <td>1</td>\n",
              "      <td>7</td>\n",
              "    </tr>\n",
              "    <tr>\n",
              "      <th>4</th>\n",
              "      <td>03-06-20</td>\n",
              "      <td>Friday</td>\n",
              "      <td>18</td>\n",
              "      <td>3</td>\n",
              "      <td>15</td>\n",
              "      <td>1</td>\n",
              "      <td>5</td>\n",
              "      <td>1</td>\n",
              "      <td>3</td>\n",
              "      <td>3</td>\n",
              "      <td>2</td>\n",
              "      <td>2</td>\n",
              "      <td>0</td>\n",
              "      <td>1</td>\n",
              "      <td>8</td>\n",
              "      <td>10</td>\n",
              "      <td>0</td>\n",
              "      <td>2</td>\n",
              "      <td>0</td>\n",
              "      <td>1</td>\n",
              "      <td>5</td>\n",
              "      <td>1</td>\n",
              "      <td>9</td>\n",
              "      <td>0</td>\n",
              "      <td>0</td>\n",
              "      <td>0</td>\n",
              "      <td>2</td>\n",
              "      <td>0</td>\n",
              "      <td>1</td>\n",
              "      <td>0</td>\n",
              "      <td>0</td>\n",
              "      <td>0</td>\n",
              "      <td>0</td>\n",
              "      <td>3</td>\n",
              "      <td>0</td>\n",
              "      <td>0</td>\n",
              "      <td>0</td>\n",
              "      <td>0</td>\n",
              "      <td>3</td>\n",
              "      <td>0</td>\n",
              "      <td>0</td>\n",
              "      <td>1</td>\n",
              "      <td>5</td>\n",
              "      <td>1</td>\n",
              "      <td>1</td>\n",
              "      <td>3</td>\n",
              "      <td>1</td>\n",
              "      <td>2</td>\n",
              "      <td>0</td>\n",
              "      <td>1</td>\n",
              "      <td>8</td>\n",
              "      <td>7</td>\n",
              "      <td>0</td>\n",
              "      <td>2</td>\n",
              "      <td>0</td>\n",
              "      <td>1</td>\n",
              "      <td>2</td>\n",
              "      <td>1</td>\n",
              "      <td>9</td>\n",
              "    </tr>\n",
              "  </tbody>\n",
              "</table>\n",
              "</div>"
            ],
            "text/plain": [
              "         Date  ... People Not-Positive - Unknown Race/Ethnicity\n",
              "0    03-01-20  ...                                            0\n",
              "1    05-02-20  ...                                          921\n",
              "2  05-14-2020  ...                                         1773\n",
              "3    03-05-20  ...                                            7\n",
              "4    03-06-20  ...                                            9\n",
              "\n",
              "[5 rows x 59 columns]"
            ]
          },
          "metadata": {},
          "execution_count": 13
        }
      ]
    },
    {
      "cell_type": "code",
      "metadata": {
        "id": "baIQu5XJ_89o",
        "colab": {
          "base_uri": "https://localhost:8080/",
          "height": 499
        },
        "outputId": "17beb7e9-e20d-4567-a5e2-c212dc5423b9"
      },
      "source": [
        "#Confirm data integrity on null values using heatmap\n",
        "sns.heatmap(cvd.isnull(), yticklabels=False,cbar=False,cmap='viridis')"
      ],
      "execution_count": null,
      "outputs": [
        {
          "output_type": "execute_result",
          "data": {
            "text/plain": [
              "<matplotlib.axes._subplots.AxesSubplot at 0x7fdecdd07d10>"
            ]
          },
          "metadata": {},
          "execution_count": 14
        },
        {
          "output_type": "display_data",
          "data": {
            "image/png": "[encoded data removed]",
            "text/plain": [
              "<Figure size 432x288 with 1 Axes>"
            ]
          },
          "metadata": {
            "needs_background": "light"
          }
        }
      ]
    },
    {
      "cell_type": "code",
      "metadata": {
        "colab": {
          "base_uri": "https://localhost:8080/"
        },
        "id": "4bJqXBzx1rtX",
        "outputId": "465626e5-5020-417f-fcc8-07d3525b182e"
      },
      "source": [
        "cvd.info()"
      ],
      "execution_count": null,
      "outputs": [
        {
          "output_type": "stream",
          "name": "stdout",
          "text": [
            "<class 'pandas.core.frame.DataFrame'>\n",
            "Int64Index: 88 entries, 0 to 88\n",
            "Data columns (total 59 columns):\n",
            " #   Column                                        Non-Null Count  Dtype \n",
            "---  ------                                        --------------  ----- \n",
            " 0   Date                                          88 non-null     object\n",
            " 1   Day                                           88 non-null     object\n",
            " 2   Tests                                         88 non-null     int64 \n",
            " 3   Cases                                         88 non-null     int64 \n",
            " 4   People Not-Positive - Total                   88 non-null     int64 \n",
            " 5   People Tested - Age 0-17                      88 non-null     int64 \n",
            " 6   People Tested - Age 18-29                     88 non-null     int64 \n",
            " 7   People Tested - Age 30-39                     88 non-null     int64 \n",
            " 8   People Tested - Age 40-49                     88 non-null     int64 \n",
            " 9   People Tested - Age 50-59                     88 non-null     int64 \n",
            " 10  People Tested - Age 60-69                     88 non-null     int64 \n",
            " 11  People Tested - Age 70-79                     88 non-null     int64 \n",
            " 12  People Tested - Age 80+                       88 non-null     int64 \n",
            " 13  People Tested - Age Unknown                   88 non-null     int64 \n",
            " 14  People Tested - Female                        88 non-null     int64 \n",
            " 15  People Tested - Male                          88 non-null     int64 \n",
            " 16  People Tested - Gender Unknown                88 non-null     int64 \n",
            " 17  People Tested - Latinx                        88 non-null     int64 \n",
            " 18  People Tested - Asian Non-Latinx              88 non-null     int64 \n",
            " 19  People Tested - Black Non-Latinx              88 non-null     int64 \n",
            " 20  People Tested - White Non-Latinx              88 non-null     int64 \n",
            " 21  People Tested - Other Race Non-Latinx         88 non-null     int64 \n",
            " 22  People Tested - Unknown Race/Ethnicity        88 non-null     int64 \n",
            " 23  People Positive - Age 0-17                    88 non-null     int64 \n",
            " 24  People Positive - Age 18-29                   88 non-null     int64 \n",
            " 25  People Positive - Age 30-39                   88 non-null     int64 \n",
            " 26  People Positive - Age 40-49                   88 non-null     int64 \n",
            " 27  People Positive - Age 50-59                   88 non-null     int64 \n",
            " 28  People Positive - Age 60-69                   88 non-null     int64 \n",
            " 29  People Positive - Age 70-79                   88 non-null     int64 \n",
            " 30  People Positive - Age 80+                     88 non-null     int64 \n",
            " 31  People Positive - Age Unknown                 88 non-null     int64 \n",
            " 32  People Positive - Female                      88 non-null     int64 \n",
            " 33  People Positive - Male                        88 non-null     int64 \n",
            " 34  People Positive - Gender Unknown              88 non-null     int64 \n",
            " 35  People Positive - Latinx                      88 non-null     int64 \n",
            " 36  People Positive - Asian Non-Latinx            88 non-null     int64 \n",
            " 37  People Positive - Black Non-Latinx            88 non-null     int64 \n",
            " 38  People Positive - White Non-Latinx            88 non-null     int64 \n",
            " 39  People Positive - Other Race Non-Latinx       88 non-null     int64 \n",
            " 40  People Positive - Unknown Race/Ethnicity      88 non-null     int64 \n",
            " 41  People Not-Positive - Age 0-17                88 non-null     int64 \n",
            " 42  People Not-Positive - Age 18-29               88 non-null     int64 \n",
            " 43  People Not-Positive - Age 30-39               88 non-null     int64 \n",
            " 44  People Not-Positive - Age 40-49               88 non-null     int64 \n",
            " 45  People Not-Positive - Age 50-59               88 non-null     int64 \n",
            " 46  People Not-Positive - Age 60-69               88 non-null     int64 \n",
            " 47  People Not-Positive - Age 70-79               88 non-null     int64 \n",
            " 48  People Not-Positive - Age 80+                 88 non-null     int64 \n",
            " 49  People Not-Positive - Age Unknown             88 non-null     int64 \n",
            " 50  People Not-Positive - Female                  88 non-null     int64 \n",
            " 51  People Not-Positive - Male                    88 non-null     int64 \n",
            " 52  People Not-Positive - Gender Unknown          88 non-null     int64 \n",
            " 53  People Not-Positive - Latinx                  88 non-null     int64 \n",
            " 54  People Not-Positive - Asian Non-Latinx        88 non-null     int64 \n",
            " 55  People Not-Positive - Black Non-Latinx        88 non-null     int64 \n",
            " 56  People Not-Positive - White Non-Latinx        88 non-null     int64 \n",
            " 57  People Not-Positive - Other Race Non-Latinx   88 non-null     int64 \n",
            " 58  People Not-Positive - Unknown Race/Ethnicity  88 non-null     int64 \n",
            "dtypes: int64(57), object(2)\n",
            "memory usage: 41.2+ KB\n"
          ]
        }
      ]
    },
    {
      "cell_type": "code",
      "metadata": {
        "colab": {
          "base_uri": "https://localhost:8080/",
          "height": 407
        },
        "id": "7xePD8dFjoIs",
        "outputId": "2e87c61e-0f5c-4212-cf40-512d62353b46"
      },
      "source": [
        "cvd.describe()"
      ],
      "execution_count": null,
      "outputs": [
        {
          "output_type": "execute_result",
          "data": {
            "text/html": [
              "<div>\n",
              "<style scoped>\n",
              "    .dataframe tbody tr th:only-of-type {\n",
              "        vertical-align: middle;\n",
              "    }\n",
              "\n",
              "    .dataframe tbody tr th {\n",
              "        vertical-align: top;\n",
              "    }\n",
              "\n",
              "    .dataframe thead th {\n",
              "        text-align: right;\n",
              "    }\n",
              "</style>\n",
              "<table border=\"1\" class=\"dataframe\">\n",
              "  <thead>\n",
              "    <tr style=\"text-align: right;\">\n",
              "      <th></th>\n",
              "      <th>Tests</th>\n",
              "      <th>Cases</th>\n",
              "      <th>People Not-Positive - Total</th>\n",
              "      <th>People Tested - Age 0-17</th>\n",
              "      <th>People Tested - Age 18-29</th>\n",
              "      <th>People Tested - Age 30-39</th>\n",
              "      <th>People Tested - Age 40-49</th>\n",
              "      <th>People Tested - Age 50-59</th>\n",
              "      <th>People Tested - Age 60-69</th>\n",
              "      <th>People Tested - Age 70-79</th>\n",
              "      <th>People Tested - Age 80+</th>\n",
              "      <th>People Tested - Age Unknown</th>\n",
              "      <th>People Tested - Female</th>\n",
              "      <th>People Tested - Male</th>\n",
              "      <th>People Tested - Gender Unknown</th>\n",
              "      <th>People Tested - Latinx</th>\n",
              "      <th>People Tested - Asian Non-Latinx</th>\n",
              "      <th>People Tested - Black Non-Latinx</th>\n",
              "      <th>People Tested - White Non-Latinx</th>\n",
              "      <th>People Tested - Other Race Non-Latinx</th>\n",
              "      <th>People Tested - Unknown Race/Ethnicity</th>\n",
              "      <th>People Positive - Age 0-17</th>\n",
              "      <th>People Positive - Age 18-29</th>\n",
              "      <th>People Positive - Age 30-39</th>\n",
              "      <th>People Positive - Age 40-49</th>\n",
              "      <th>People Positive - Age 50-59</th>\n",
              "      <th>People Positive - Age 60-69</th>\n",
              "      <th>People Positive - Age 70-79</th>\n",
              "      <th>People Positive - Age 80+</th>\n",
              "      <th>People Positive - Age Unknown</th>\n",
              "      <th>People Positive - Female</th>\n",
              "      <th>People Positive - Male</th>\n",
              "      <th>People Positive - Gender Unknown</th>\n",
              "      <th>People Positive - Latinx</th>\n",
              "      <th>People Positive - Asian Non-Latinx</th>\n",
              "      <th>People Positive - Black Non-Latinx</th>\n",
              "      <th>People Positive - White Non-Latinx</th>\n",
              "      <th>People Positive - Other Race Non-Latinx</th>\n",
              "      <th>People Positive - Unknown Race/Ethnicity</th>\n",
              "      <th>People Not-Positive - Age 0-17</th>\n",
              "      <th>People Not-Positive - Age 18-29</th>\n",
              "      <th>People Not-Positive - Age 30-39</th>\n",
              "      <th>People Not-Positive - Age 40-49</th>\n",
              "      <th>People Not-Positive - Age 50-59</th>\n",
              "      <th>People Not-Positive - Age 60-69</th>\n",
              "      <th>People Not-Positive - Age 70-79</th>\n",
              "      <th>People Not-Positive - Age 80+</th>\n",
              "      <th>People Not-Positive - Age Unknown</th>\n",
              "      <th>People Not-Positive - Female</th>\n",
              "      <th>People Not-Positive - Male</th>\n",
              "      <th>People Not-Positive - Gender Unknown</th>\n",
              "      <th>People Not-Positive - Latinx</th>\n",
              "      <th>People Not-Positive - Asian Non-Latinx</th>\n",
              "      <th>People Not-Positive - Black Non-Latinx</th>\n",
              "      <th>People Not-Positive - White Non-Latinx</th>\n",
              "      <th>People Not-Positive - Other Race Non-Latinx</th>\n",
              "      <th>People Not-Positive - Unknown Race/Ethnicity</th>\n",
              "    </tr>\n",
              "  </thead>\n",
              "  <tbody>\n",
              "    <tr>\n",
              "      <th>count</th>\n",
              "      <td>88.000000</td>\n",
              "      <td>88.000000</td>\n",
              "      <td>88.000000</td>\n",
              "      <td>88.000000</td>\n",
              "      <td>88.000000</td>\n",
              "      <td>88.000000</td>\n",
              "      <td>88.000000</td>\n",
              "      <td>88.000000</td>\n",
              "      <td>88.000000</td>\n",
              "      <td>88.000000</td>\n",
              "      <td>88.000000</td>\n",
              "      <td>88.000000</td>\n",
              "      <td>88.000000</td>\n",
              "      <td>88.000000</td>\n",
              "      <td>88.000000</td>\n",
              "      <td>88.000000</td>\n",
              "      <td>88.000000</td>\n",
              "      <td>88.000000</td>\n",
              "      <td>88.000000</td>\n",
              "      <td>88.000000</td>\n",
              "      <td>88.000000</td>\n",
              "      <td>88.000000</td>\n",
              "      <td>88.000000</td>\n",
              "      <td>88.000000</td>\n",
              "      <td>88.000000</td>\n",
              "      <td>88.000000</td>\n",
              "      <td>88.000000</td>\n",
              "      <td>88.000000</td>\n",
              "      <td>88.000000</td>\n",
              "      <td>88.000000</td>\n",
              "      <td>88.000000</td>\n",
              "      <td>88.000000</td>\n",
              "      <td>88.000000</td>\n",
              "      <td>88.000000</td>\n",
              "      <td>88.000000</td>\n",
              "      <td>88.000000</td>\n",
              "      <td>88.000000</td>\n",
              "      <td>88.000000</td>\n",
              "      <td>88.000000</td>\n",
              "      <td>88.000000</td>\n",
              "      <td>88.000000</td>\n",
              "      <td>88.000000</td>\n",
              "      <td>88.000000</td>\n",
              "      <td>88.000000</td>\n",
              "      <td>88.000000</td>\n",
              "      <td>88.000000</td>\n",
              "      <td>88.000000</td>\n",
              "      <td>88.000000</td>\n",
              "      <td>88.00000</td>\n",
              "      <td>88.000000</td>\n",
              "      <td>88.000000</td>\n",
              "      <td>88.000000</td>\n",
              "      <td>88.000000</td>\n",
              "      <td>88.000000</td>\n",
              "      <td>88.000000</td>\n",
              "      <td>88.000000</td>\n",
              "      <td>88.000000</td>\n",
              "    </tr>\n",
              "    <tr>\n",
              "      <th>mean</th>\n",
              "      <td>2182.727273</td>\n",
              "      <td>504.125000</td>\n",
              "      <td>1678.602273</td>\n",
              "      <td>112.125000</td>\n",
              "      <td>385.568182</td>\n",
              "      <td>418.386364</td>\n",
              "      <td>364.943182</td>\n",
              "      <td>358.443182</td>\n",
              "      <td>283.204545</td>\n",
              "      <td>152.215909</td>\n",
              "      <td>103.863636</td>\n",
              "      <td>3.977273</td>\n",
              "      <td>1131.409091</td>\n",
              "      <td>985.238636</td>\n",
              "      <td>66.079545</td>\n",
              "      <td>390.965909</td>\n",
              "      <td>39.965909</td>\n",
              "      <td>377.125000</td>\n",
              "      <td>286.681818</td>\n",
              "      <td>81.681818</td>\n",
              "      <td>1006.306818</td>\n",
              "      <td>21.750000</td>\n",
              "      <td>90.261364</td>\n",
              "      <td>89.977273</td>\n",
              "      <td>93.068182</td>\n",
              "      <td>87.659091</td>\n",
              "      <td>62.011364</td>\n",
              "      <td>33.352273</td>\n",
              "      <td>25.943182</td>\n",
              "      <td>0.102273</td>\n",
              "      <td>248.159091</td>\n",
              "      <td>247.011364</td>\n",
              "      <td>8.954545</td>\n",
              "      <td>190.397727</td>\n",
              "      <td>11.375000</td>\n",
              "      <td>120.625000</td>\n",
              "      <td>58.215909</td>\n",
              "      <td>21.159091</td>\n",
              "      <td>102.352273</td>\n",
              "      <td>90.375000</td>\n",
              "      <td>295.306818</td>\n",
              "      <td>328.409091</td>\n",
              "      <td>271.875000</td>\n",
              "      <td>270.784091</td>\n",
              "      <td>221.193182</td>\n",
              "      <td>118.863636</td>\n",
              "      <td>77.920455</td>\n",
              "      <td>3.875000</td>\n",
              "      <td>883.25000</td>\n",
              "      <td>738.227273</td>\n",
              "      <td>57.125000</td>\n",
              "      <td>200.568182</td>\n",
              "      <td>28.590909</td>\n",
              "      <td>256.500000</td>\n",
              "      <td>228.465909</td>\n",
              "      <td>60.522727</td>\n",
              "      <td>903.954545</td>\n",
              "    </tr>\n",
              "    <tr>\n",
              "      <th>std</th>\n",
              "      <td>1738.103886</td>\n",
              "      <td>365.726511</td>\n",
              "      <td>1426.751141</td>\n",
              "      <td>109.201681</td>\n",
              "      <td>328.404250</td>\n",
              "      <td>316.556887</td>\n",
              "      <td>281.000894</td>\n",
              "      <td>275.616127</td>\n",
              "      <td>229.537724</td>\n",
              "      <td>125.984988</td>\n",
              "      <td>91.753440</td>\n",
              "      <td>5.306637</td>\n",
              "      <td>895.496916</td>\n",
              "      <td>771.117967</td>\n",
              "      <td>84.164757</td>\n",
              "      <td>386.294136</td>\n",
              "      <td>26.306089</td>\n",
              "      <td>234.798462</td>\n",
              "      <td>196.286534</td>\n",
              "      <td>60.471813</td>\n",
              "      <td>872.992572</td>\n",
              "      <td>24.349113</td>\n",
              "      <td>73.984387</td>\n",
              "      <td>68.014700</td>\n",
              "      <td>69.803138</td>\n",
              "      <td>62.940016</td>\n",
              "      <td>42.527204</td>\n",
              "      <td>21.488323</td>\n",
              "      <td>21.497585</td>\n",
              "      <td>0.372620</td>\n",
              "      <td>182.999145</td>\n",
              "      <td>174.650883</td>\n",
              "      <td>13.148060</td>\n",
              "      <td>174.418939</td>\n",
              "      <td>7.640353</td>\n",
              "      <td>74.416244</td>\n",
              "      <td>34.355962</td>\n",
              "      <td>17.732940</td>\n",
              "      <td>98.303195</td>\n",
              "      <td>86.040396</td>\n",
              "      <td>261.140221</td>\n",
              "      <td>257.311951</td>\n",
              "      <td>219.908017</td>\n",
              "      <td>225.897670</td>\n",
              "      <td>199.355044</td>\n",
              "      <td>112.571018</td>\n",
              "      <td>79.387631</td>\n",
              "      <td>5.165786</td>\n",
              "      <td>735.59361</td>\n",
              "      <td>626.169485</td>\n",
              "      <td>75.420021</td>\n",
              "      <td>230.175135</td>\n",
              "      <td>21.381933</td>\n",
              "      <td>192.353422</td>\n",
              "      <td>175.937355</td>\n",
              "      <td>44.842759</td>\n",
              "      <td>786.252525</td>\n",
              "    </tr>\n",
              "    <tr>\n",
              "      <th>min</th>\n",
              "      <td>1.000000</td>\n",
              "      <td>0.000000</td>\n",
              "      <td>1.000000</td>\n",
              "      <td>0.000000</td>\n",
              "      <td>0.000000</td>\n",
              "      <td>0.000000</td>\n",
              "      <td>0.000000</td>\n",
              "      <td>0.000000</td>\n",
              "      <td>0.000000</td>\n",
              "      <td>0.000000</td>\n",
              "      <td>0.000000</td>\n",
              "      <td>0.000000</td>\n",
              "      <td>0.000000</td>\n",
              "      <td>1.000000</td>\n",
              "      <td>0.000000</td>\n",
              "      <td>0.000000</td>\n",
              "      <td>0.000000</td>\n",
              "      <td>0.000000</td>\n",
              "      <td>1.000000</td>\n",
              "      <td>0.000000</td>\n",
              "      <td>0.000000</td>\n",
              "      <td>0.000000</td>\n",
              "      <td>0.000000</td>\n",
              "      <td>0.000000</td>\n",
              "      <td>0.000000</td>\n",
              "      <td>0.000000</td>\n",
              "      <td>0.000000</td>\n",
              "      <td>0.000000</td>\n",
              "      <td>0.000000</td>\n",
              "      <td>0.000000</td>\n",
              "      <td>0.000000</td>\n",
              "      <td>0.000000</td>\n",
              "      <td>0.000000</td>\n",
              "      <td>0.000000</td>\n",
              "      <td>0.000000</td>\n",
              "      <td>0.000000</td>\n",
              "      <td>0.000000</td>\n",
              "      <td>0.000000</td>\n",
              "      <td>0.000000</td>\n",
              "      <td>0.000000</td>\n",
              "      <td>0.000000</td>\n",
              "      <td>0.000000</td>\n",
              "      <td>0.000000</td>\n",
              "      <td>0.000000</td>\n",
              "      <td>0.000000</td>\n",
              "      <td>0.000000</td>\n",
              "      <td>0.000000</td>\n",
              "      <td>0.000000</td>\n",
              "      <td>0.00000</td>\n",
              "      <td>1.000000</td>\n",
              "      <td>0.000000</td>\n",
              "      <td>0.000000</td>\n",
              "      <td>0.000000</td>\n",
              "      <td>0.000000</td>\n",
              "      <td>1.000000</td>\n",
              "      <td>0.000000</td>\n",
              "      <td>0.000000</td>\n",
              "    </tr>\n",
              "    <tr>\n",
              "      <th>25%</th>\n",
              "      <td>818.250000</td>\n",
              "      <td>181.750000</td>\n",
              "      <td>572.000000</td>\n",
              "      <td>25.000000</td>\n",
              "      <td>130.500000</td>\n",
              "      <td>169.250000</td>\n",
              "      <td>150.750000</td>\n",
              "      <td>136.750000</td>\n",
              "      <td>112.750000</td>\n",
              "      <td>60.250000</td>\n",
              "      <td>35.250000</td>\n",
              "      <td>0.000000</td>\n",
              "      <td>447.500000</td>\n",
              "      <td>378.500000</td>\n",
              "      <td>5.000000</td>\n",
              "      <td>56.750000</td>\n",
              "      <td>20.000000</td>\n",
              "      <td>218.250000</td>\n",
              "      <td>143.500000</td>\n",
              "      <td>32.750000</td>\n",
              "      <td>342.000000</td>\n",
              "      <td>2.000000</td>\n",
              "      <td>29.750000</td>\n",
              "      <td>33.000000</td>\n",
              "      <td>36.750000</td>\n",
              "      <td>32.250000</td>\n",
              "      <td>26.250000</td>\n",
              "      <td>14.750000</td>\n",
              "      <td>5.750000</td>\n",
              "      <td>0.000000</td>\n",
              "      <td>85.500000</td>\n",
              "      <td>97.000000</td>\n",
              "      <td>0.000000</td>\n",
              "      <td>33.750000</td>\n",
              "      <td>6.000000</td>\n",
              "      <td>66.250000</td>\n",
              "      <td>36.750000</td>\n",
              "      <td>6.250000</td>\n",
              "      <td>19.500000</td>\n",
              "      <td>21.750000</td>\n",
              "      <td>100.000000</td>\n",
              "      <td>125.000000</td>\n",
              "      <td>98.000000</td>\n",
              "      <td>96.250000</td>\n",
              "      <td>75.750000</td>\n",
              "      <td>38.000000</td>\n",
              "      <td>21.750000</td>\n",
              "      <td>0.000000</td>\n",
              "      <td>319.75000</td>\n",
              "      <td>254.250000</td>\n",
              "      <td>4.000000</td>\n",
              "      <td>21.750000</td>\n",
              "      <td>11.750000</td>\n",
              "      <td>108.250000</td>\n",
              "      <td>97.000000</td>\n",
              "      <td>26.500000</td>\n",
              "      <td>318.750000</td>\n",
              "    </tr>\n",
              "    <tr>\n",
              "      <th>50%</th>\n",
              "      <td>1659.500000</td>\n",
              "      <td>461.500000</td>\n",
              "      <td>1179.500000</td>\n",
              "      <td>67.000000</td>\n",
              "      <td>269.000000</td>\n",
              "      <td>332.500000</td>\n",
              "      <td>294.500000</td>\n",
              "      <td>292.500000</td>\n",
              "      <td>222.500000</td>\n",
              "      <td>118.000000</td>\n",
              "      <td>81.500000</td>\n",
              "      <td>1.500000</td>\n",
              "      <td>875.500000</td>\n",
              "      <td>764.000000</td>\n",
              "      <td>17.000000</td>\n",
              "      <td>256.000000</td>\n",
              "      <td>39.500000</td>\n",
              "      <td>384.000000</td>\n",
              "      <td>241.500000</td>\n",
              "      <td>72.500000</td>\n",
              "      <td>684.000000</td>\n",
              "      <td>10.000000</td>\n",
              "      <td>74.500000</td>\n",
              "      <td>76.500000</td>\n",
              "      <td>89.000000</td>\n",
              "      <td>83.500000</td>\n",
              "      <td>61.000000</td>\n",
              "      <td>36.500000</td>\n",
              "      <td>24.000000</td>\n",
              "      <td>0.000000</td>\n",
              "      <td>238.500000</td>\n",
              "      <td>227.000000</td>\n",
              "      <td>4.000000</td>\n",
              "      <td>137.500000</td>\n",
              "      <td>11.000000</td>\n",
              "      <td>135.000000</td>\n",
              "      <td>58.500000</td>\n",
              "      <td>19.000000</td>\n",
              "      <td>67.000000</td>\n",
              "      <td>50.500000</td>\n",
              "      <td>189.500000</td>\n",
              "      <td>254.000000</td>\n",
              "      <td>209.000000</td>\n",
              "      <td>197.500000</td>\n",
              "      <td>152.000000</td>\n",
              "      <td>78.000000</td>\n",
              "      <td>47.500000</td>\n",
              "      <td>1.500000</td>\n",
              "      <td>640.50000</td>\n",
              "      <td>527.500000</td>\n",
              "      <td>13.000000</td>\n",
              "      <td>101.500000</td>\n",
              "      <td>27.000000</td>\n",
              "      <td>226.500000</td>\n",
              "      <td>181.000000</td>\n",
              "      <td>52.000000</td>\n",
              "      <td>613.500000</td>\n",
              "    </tr>\n",
              "    <tr>\n",
              "      <th>75%</th>\n",
              "      <td>3857.250000</td>\n",
              "      <td>769.000000</td>\n",
              "      <td>2873.750000</td>\n",
              "      <td>194.500000</td>\n",
              "      <td>738.500000</td>\n",
              "      <td>707.500000</td>\n",
              "      <td>637.250000</td>\n",
              "      <td>609.750000</td>\n",
              "      <td>484.750000</td>\n",
              "      <td>253.000000</td>\n",
              "      <td>171.500000</td>\n",
              "      <td>6.000000</td>\n",
              "      <td>1942.000000</td>\n",
              "      <td>1683.250000</td>\n",
              "      <td>117.000000</td>\n",
              "      <td>760.750000</td>\n",
              "      <td>63.000000</td>\n",
              "      <td>564.500000</td>\n",
              "      <td>443.500000</td>\n",
              "      <td>130.750000</td>\n",
              "      <td>1858.750000</td>\n",
              "      <td>41.250000</td>\n",
              "      <td>156.500000</td>\n",
              "      <td>134.500000</td>\n",
              "      <td>139.500000</td>\n",
              "      <td>136.250000</td>\n",
              "      <td>92.250000</td>\n",
              "      <td>48.250000</td>\n",
              "      <td>36.500000</td>\n",
              "      <td>0.000000</td>\n",
              "      <td>395.500000</td>\n",
              "      <td>363.000000</td>\n",
              "      <td>11.000000</td>\n",
              "      <td>343.750000</td>\n",
              "      <td>16.000000</td>\n",
              "      <td>182.250000</td>\n",
              "      <td>83.250000</td>\n",
              "      <td>32.750000</td>\n",
              "      <td>179.500000</td>\n",
              "      <td>142.000000</td>\n",
              "      <td>510.250000</td>\n",
              "      <td>519.500000</td>\n",
              "      <td>462.000000</td>\n",
              "      <td>478.250000</td>\n",
              "      <td>366.250000</td>\n",
              "      <td>198.500000</td>\n",
              "      <td>126.500000</td>\n",
              "      <td>6.000000</td>\n",
              "      <td>1557.75000</td>\n",
              "      <td>1228.000000</td>\n",
              "      <td>99.500000</td>\n",
              "      <td>329.750000</td>\n",
              "      <td>44.500000</td>\n",
              "      <td>394.000000</td>\n",
              "      <td>357.250000</td>\n",
              "      <td>98.500000</td>\n",
              "      <td>1620.250000</td>\n",
              "    </tr>\n",
              "    <tr>\n",
              "      <th>max</th>\n",
              "      <td>5971.000000</td>\n",
              "      <td>1285.000000</td>\n",
              "      <td>5237.000000</td>\n",
              "      <td>397.000000</td>\n",
              "      <td>1167.000000</td>\n",
              "      <td>1080.000000</td>\n",
              "      <td>914.000000</td>\n",
              "      <td>957.000000</td>\n",
              "      <td>819.000000</td>\n",
              "      <td>486.000000</td>\n",
              "      <td>391.000000</td>\n",
              "      <td>31.000000</td>\n",
              "      <td>3024.000000</td>\n",
              "      <td>2695.000000</td>\n",
              "      <td>314.000000</td>\n",
              "      <td>1227.000000</td>\n",
              "      <td>114.000000</td>\n",
              "      <td>880.000000</td>\n",
              "      <td>725.000000</td>\n",
              "      <td>253.000000</td>\n",
              "      <td>2896.000000</td>\n",
              "      <td>81.000000</td>\n",
              "      <td>243.000000</td>\n",
              "      <td>228.000000</td>\n",
              "      <td>248.000000</td>\n",
              "      <td>243.000000</td>\n",
              "      <td>156.000000</td>\n",
              "      <td>93.000000</td>\n",
              "      <td>101.000000</td>\n",
              "      <td>2.000000</td>\n",
              "      <td>608.000000</td>\n",
              "      <td>648.000000</td>\n",
              "      <td>64.000000</td>\n",
              "      <td>559.000000</td>\n",
              "      <td>29.000000</td>\n",
              "      <td>295.000000</td>\n",
              "      <td>143.000000</td>\n",
              "      <td>84.000000</td>\n",
              "      <td>327.000000</td>\n",
              "      <td>337.000000</td>\n",
              "      <td>1006.000000</td>\n",
              "      <td>953.000000</td>\n",
              "      <td>773.000000</td>\n",
              "      <td>838.000000</td>\n",
              "      <td>746.000000</td>\n",
              "      <td>446.000000</td>\n",
              "      <td>349.000000</td>\n",
              "      <td>29.000000</td>\n",
              "      <td>2643.00000</td>\n",
              "      <td>2350.000000</td>\n",
              "      <td>251.000000</td>\n",
              "      <td>837.000000</td>\n",
              "      <td>102.000000</td>\n",
              "      <td>776.000000</td>\n",
              "      <td>670.000000</td>\n",
              "      <td>169.000000</td>\n",
              "      <td>2692.000000</td>\n",
              "    </tr>\n",
              "  </tbody>\n",
              "</table>\n",
              "</div>"
            ],
            "text/plain": [
              "             Tests  ...  People Not-Positive - Unknown Race/Ethnicity\n",
              "count    88.000000  ...                                     88.000000\n",
              "mean   2182.727273  ...                                    903.954545\n",
              "std    1738.103886  ...                                    786.252525\n",
              "min       1.000000  ...                                      0.000000\n",
              "25%     818.250000  ...                                    318.750000\n",
              "50%    1659.500000  ...                                    613.500000\n",
              "75%    3857.250000  ...                                   1620.250000\n",
              "max    5971.000000  ...                                   2692.000000\n",
              "\n",
              "[8 rows x 57 columns]"
            ]
          },
          "metadata": {},
          "execution_count": 16
        }
      ]
    },
    {
      "cell_type": "markdown",
      "metadata": {
        "id": "RvP1gGT69NT7"
      },
      "source": [
        "#**Data Visualization (EDA)**"
      ]
    },
    {
      "cell_type": "code",
      "metadata": {
        "id": "W3nP3iBt_Xcg"
      },
      "source": [
        "#Create a copy of the dataframe\n",
        "cvd2 = cvd.copy()"
      ],
      "execution_count": null,
      "outputs": []
    },
    {
      "cell_type": "code",
      "metadata": {
        "colab": {
          "base_uri": "https://localhost:8080/",
          "height": 1000
        },
        "id": "WX4tpzVppfiU",
        "outputId": "0be6c026-48a2-4943-ec74-ceacd20754b9"
      },
      "source": [
        "!pip install pandas-profiling==2.7.1"
      ],
      "execution_count": null,
      "outputs": [
        {
          "output_type": "stream",
          "name": "stdout",
          "text": [
            "Collecting pandas-profiling==2.7.1\n",
            "  Downloading pandas_profiling-2.7.1-py2.py3-none-any.whl (252 kB)\n",
            "\u001b[?25l\r\u001b[K     |█▎                              | 10 kB 23.4 MB/s eta 0:00:01\r\u001b[K     |██▋                             | 20 kB 29.2 MB/s eta 0:00:01\r\u001b[K     |████                            | 30 kB 13.0 MB/s eta 0:00:01\r\u001b[K     |█████▏                          | 40 kB 10.0 MB/s eta 0:00:01\r\u001b[K     |██████▌                         | 51 kB 5.5 MB/s eta 0:00:01\r\u001b[K     |███████▉                        | 61 kB 6.0 MB/s eta 0:00:01\r\u001b[K     |█████████                       | 71 kB 4.9 MB/s eta 0:00:01\r\u001b[K     |██████████▍                     | 81 kB 5.5 MB/s eta 0:00:01\r\u001b[K     |███████████▊                    | 92 kB 4.9 MB/s eta 0:00:01\r\u001b[K     |█████████████                   | 102 kB 5.3 MB/s eta 0:00:01\r\u001b[K     |██████████████▎                 | 112 kB 5.3 MB/s eta 0:00:01\r\u001b[K     |███████████████▋                | 122 kB 5.3 MB/s eta 0:00:01\r\u001b[K     |█████████████████               | 133 kB 5.3 MB/s eta 0:00:01\r\u001b[K     |██████████████████▏             | 143 kB 5.3 MB/s eta 0:00:01\r\u001b[K     |███████████████████▌            | 153 kB 5.3 MB/s eta 0:00:01\r\u001b[K     |████████████████████▉           | 163 kB 5.3 MB/s eta 0:00:01\r\u001b[K     |██████████████████████          | 174 kB 5.3 MB/s eta 0:00:01\r\u001b[K     |███████████████████████▍        | 184 kB 5.3 MB/s eta 0:00:01\r\u001b[K     |████████████████████████▊       | 194 kB 5.3 MB/s eta 0:00:01\r\u001b[K     |██████████████████████████      | 204 kB 5.3 MB/s eta 0:00:01\r\u001b[K     |███████████████████████████▎    | 215 kB 5.3 MB/s eta 0:00:01\r\u001b[K     |████████████████████████████▋   | 225 kB 5.3 MB/s eta 0:00:01\r\u001b[K     |██████████████████████████████  | 235 kB 5.3 MB/s eta 0:00:01\r\u001b[K     |███████████████████████████████▏| 245 kB 5.3 MB/s eta 0:00:01\r\u001b[K     |████████████████████████████████| 252 kB 5.3 MB/s \n",
            "\u001b[?25hRequirement already satisfied: astropy>=4.0 in /usr/local/lib/python3.7/dist-packages (from pandas-profiling==2.7.1) (4.3.1)\n",
            "Requirement already satisfied: requests>=2.23.0 in /usr/local/lib/python3.7/dist-packages (from pandas-profiling==2.7.1) (2.23.0)\n",
            "Requirement already satisfied: ipywidgets>=7.5.1 in /usr/local/lib/python3.7/dist-packages (from pandas-profiling==2.7.1) (7.6.5)\n",
            "Requirement already satisfied: joblib in /usr/local/lib/python3.7/dist-packages (from pandas-profiling==2.7.1) (1.1.0)\n",
            "Requirement already satisfied: missingno>=0.4.2 in /usr/local/lib/python3.7/dist-packages (from pandas-profiling==2.7.1) (0.5.0)\n",
            "Requirement already satisfied: tqdm>=4.43.0 in /usr/local/lib/python3.7/dist-packages (from pandas-profiling==2.7.1) (4.62.3)\n",
            "Requirement already satisfied: pandas!=1.0.0,!=1.0.1,!=1.0.2,>=0.25.3 in /usr/local/lib/python3.7/dist-packages (from pandas-profiling==2.7.1) (1.1.5)\n",
            "Collecting tangled-up-in-unicode>=0.0.4\n",
            "  Downloading tangled_up_in_unicode-0.2.0-py3-none-any.whl (4.7 MB)\n",
            "\u001b[K     |████████████████████████████████| 4.7 MB 33.0 MB/s \n",
            "\u001b[?25hRequirement already satisfied: numpy>=1.16.0 in /usr/local/lib/python3.7/dist-packages (from pandas-profiling==2.7.1) (1.19.5)\n",
            "Requirement already satisfied: matplotlib>=3.2.0 in /usr/local/lib/python3.7/dist-packages (from pandas-profiling==2.7.1) (3.2.2)\n",
            "Collecting confuse>=1.0.0\n",
            "  Downloading confuse-1.7.0-py2.py3-none-any.whl (25 kB)\n",
            "Collecting htmlmin>=0.1.12\n",
            "  Downloading htmlmin-0.1.12.tar.gz (19 kB)\n",
            "Requirement already satisfied: jinja2>=2.11.1 in /usr/local/lib/python3.7/dist-packages (from pandas-profiling==2.7.1) (2.11.3)\n",
            "Requirement already satisfied: scipy>=1.4.1 in /usr/local/lib/python3.7/dist-packages (from pandas-profiling==2.7.1) (1.4.1)\n",
            "Collecting visions[type_image_path]==0.4.1\n",
            "  Downloading visions-0.4.1-py3-none-any.whl (58 kB)\n",
            "\u001b[K     |████████████████████████████████| 58 kB 4.8 MB/s \n",
            "\u001b[?25hCollecting phik>=0.9.10\n",
            "  Downloading phik-0.12.0-cp37-cp37m-manylinux2010_x86_64.whl (675 kB)\n",
            "\u001b[K     |████████████████████████████████| 675 kB 71.5 MB/s \n",
            "\u001b[?25hRequirement already satisfied: attrs>=19.3.0 in /usr/local/lib/python3.7/dist-packages (from visions[type_image_path]==0.4.1->pandas-profiling==2.7.1) (21.2.0)\n",
            "Requirement already satisfied: networkx>=2.4 in /usr/local/lib/python3.7/dist-packages (from visions[type_image_path]==0.4.1->pandas-profiling==2.7.1) (2.6.3)\n",
            "Requirement already satisfied: Pillow in /usr/local/lib/python3.7/dist-packages (from visions[type_image_path]==0.4.1->pandas-profiling==2.7.1) (7.1.2)\n",
            "Collecting imagehash\n",
            "  Downloading ImageHash-4.2.1.tar.gz (812 kB)\n",
            "\u001b[K     |████████████████████████████████| 812 kB 72.7 MB/s \n",
            "\u001b[?25hRequirement already satisfied: importlib-metadata in /usr/local/lib/python3.7/dist-packages (from astropy>=4.0->pandas-profiling==2.7.1) (4.8.2)\n",
            "Requirement already satisfied: pyerfa>=1.7.3 in /usr/local/lib/python3.7/dist-packages (from astropy>=4.0->pandas-profiling==2.7.1) (2.0.0.1)\n",
            "Requirement already satisfied: pyyaml in /usr/local/lib/python3.7/dist-packages (from confuse>=1.0.0->pandas-profiling==2.7.1) (3.13)\n",
            "Requirement already satisfied: traitlets>=4.3.1 in /usr/local/lib/python3.7/dist-packages (from ipywidgets>=7.5.1->pandas-profiling==2.7.1) (5.1.1)\n",
            "Requirement already satisfied: ipython-genutils~=0.2.0 in /usr/local/lib/python3.7/dist-packages (from ipywidgets>=7.5.1->pandas-profiling==2.7.1) (0.2.0)\n",
            "Requirement already satisfied: ipython>=4.0.0 in /usr/local/lib/python3.7/dist-packages (from ipywidgets>=7.5.1->pandas-profiling==2.7.1) (5.5.0)\n",
            "Requirement already satisfied: widgetsnbextension~=3.5.0 in /usr/local/lib/python3.7/dist-packages (from ipywidgets>=7.5.1->pandas-profiling==2.7.1) (3.5.2)\n",
            "Requirement already satisfied: nbformat>=4.2.0 in /usr/local/lib/python3.7/dist-packages (from ipywidgets>=7.5.1->pandas-profiling==2.7.1) (5.1.3)\n",
            "Requirement already satisfied: jupyterlab-widgets>=1.0.0 in /usr/local/lib/python3.7/dist-packages (from ipywidgets>=7.5.1->pandas-profiling==2.7.1) (1.0.2)\n",
            "Requirement already satisfied: ipykernel>=4.5.1 in /usr/local/lib/python3.7/dist-packages (from ipywidgets>=7.5.1->pandas-profiling==2.7.1) (4.10.1)\n",
            "Requirement already satisfied: jupyter-client in /usr/local/lib/python3.7/dist-packages (from ipykernel>=4.5.1->ipywidgets>=7.5.1->pandas-profiling==2.7.1) (5.3.5)\n",
            "Requirement already satisfied: tornado>=4.0 in /usr/local/lib/python3.7/dist-packages (from ipykernel>=4.5.1->ipywidgets>=7.5.1->pandas-profiling==2.7.1) (5.1.1)\n",
            "Requirement already satisfied: decorator in /usr/local/lib/python3.7/dist-packages (from ipython>=4.0.0->ipywidgets>=7.5.1->pandas-profiling==2.7.1) (4.4.2)\n",
            "Requirement already satisfied: prompt-toolkit<2.0.0,>=1.0.4 in /usr/local/lib/python3.7/dist-packages (from ipython>=4.0.0->ipywidgets>=7.5.1->pandas-profiling==2.7.1) (1.0.18)\n",
            "Requirement already satisfied: setuptools>=18.5 in /usr/local/lib/python3.7/dist-packages (from ipython>=4.0.0->ipywidgets>=7.5.1->pandas-profiling==2.7.1) (57.4.0)\n",
            "Requirement already satisfied: pygments in /usr/local/lib/python3.7/dist-packages (from ipython>=4.0.0->ipywidgets>=7.5.1->pandas-profiling==2.7.1) (2.6.1)\n",
            "Requirement already satisfied: simplegeneric>0.8 in /usr/local/lib/python3.7/dist-packages (from ipython>=4.0.0->ipywidgets>=7.5.1->pandas-profiling==2.7.1) (0.8.1)\n",
            "Requirement already satisfied: pexpect in /usr/local/lib/python3.7/dist-packages (from ipython>=4.0.0->ipywidgets>=7.5.1->pandas-profiling==2.7.1) (4.8.0)\n",
            "Requirement already satisfied: pickleshare in /usr/local/lib/python3.7/dist-packages (from ipython>=4.0.0->ipywidgets>=7.5.1->pandas-profiling==2.7.1) (0.7.5)\n",
            "Requirement already satisfied: MarkupSafe>=0.23 in /usr/local/lib/python3.7/dist-packages (from jinja2>=2.11.1->pandas-profiling==2.7.1) (2.0.1)\n",
            "Requirement already satisfied: cycler>=0.10 in /usr/local/lib/python3.7/dist-packages (from matplotlib>=3.2.0->pandas-profiling==2.7.1) (0.11.0)\n",
            "Requirement already satisfied: python-dateutil>=2.1 in /usr/local/lib/python3.7/dist-packages (from matplotlib>=3.2.0->pandas-profiling==2.7.1) (2.8.2)\n",
            "Requirement already satisfied: kiwisolver>=1.0.1 in /usr/local/lib/python3.7/dist-packages (from matplotlib>=3.2.0->pandas-profiling==2.7.1) (1.3.2)\n",
            "Requirement already satisfied: pyparsing!=2.0.4,!=2.1.2,!=2.1.6,>=2.0.1 in /usr/local/lib/python3.7/dist-packages (from matplotlib>=3.2.0->pandas-profiling==2.7.1) (3.0.6)\n",
            "Requirement already satisfied: seaborn in /usr/local/lib/python3.7/dist-packages (from missingno>=0.4.2->pandas-profiling==2.7.1) (0.11.2)\n",
            "Requirement already satisfied: jupyter-core in /usr/local/lib/python3.7/dist-packages (from nbformat>=4.2.0->ipywidgets>=7.5.1->pandas-profiling==2.7.1) (4.9.1)\n",
            "Requirement already satisfied: jsonschema!=2.5.0,>=2.4 in /usr/local/lib/python3.7/dist-packages (from nbformat>=4.2.0->ipywidgets>=7.5.1->pandas-profiling==2.7.1) (2.6.0)\n",
            "Requirement already satisfied: pytz>=2017.2 in /usr/local/lib/python3.7/dist-packages (from pandas!=1.0.0,!=1.0.1,!=1.0.2,>=0.25.3->pandas-profiling==2.7.1) (2018.9)\n",
            "Collecting scipy>=1.4.1\n",
            "  Downloading scipy-1.7.3-cp37-cp37m-manylinux_2_12_x86_64.manylinux2010_x86_64.whl (38.1 MB)\n",
            "\u001b[K     |████████████████████████████████| 38.1 MB 1.2 MB/s \n",
            "\u001b[?25hRequirement already satisfied: wcwidth in /usr/local/lib/python3.7/dist-packages (from prompt-toolkit<2.0.0,>=1.0.4->ipython>=4.0.0->ipywidgets>=7.5.1->pandas-profiling==2.7.1) (0.2.5)\n",
            "Requirement already satisfied: six>=1.9.0 in /usr/local/lib/python3.7/dist-packages (from prompt-toolkit<2.0.0,>=1.0.4->ipython>=4.0.0->ipywidgets>=7.5.1->pandas-profiling==2.7.1) (1.15.0)\n",
            "Requirement already satisfied: certifi>=2017.4.17 in /usr/local/lib/python3.7/dist-packages (from requests>=2.23.0->pandas-profiling==2.7.1) (2021.10.8)\n",
            "Requirement already satisfied: idna<3,>=2.5 in /usr/local/lib/python3.7/dist-packages (from requests>=2.23.0->pandas-profiling==2.7.1) (2.10)\n",
            "Requirement already satisfied: chardet<4,>=3.0.2 in /usr/local/lib/python3.7/dist-packages (from requests>=2.23.0->pandas-profiling==2.7.1) (3.0.4)\n",
            "Requirement already satisfied: urllib3!=1.25.0,!=1.25.1,<1.26,>=1.21.1 in /usr/local/lib/python3.7/dist-packages (from requests>=2.23.0->pandas-profiling==2.7.1) (1.24.3)\n",
            "Requirement already satisfied: notebook>=4.4.1 in /usr/local/lib/python3.7/dist-packages (from widgetsnbextension~=3.5.0->ipywidgets>=7.5.1->pandas-profiling==2.7.1) (5.3.1)\n",
            "Requirement already satisfied: terminado>=0.8.1 in /usr/local/lib/python3.7/dist-packages (from notebook>=4.4.1->widgetsnbextension~=3.5.0->ipywidgets>=7.5.1->pandas-profiling==2.7.1) (0.12.1)\n",
            "Requirement already satisfied: nbconvert in /usr/local/lib/python3.7/dist-packages (from notebook>=4.4.1->widgetsnbextension~=3.5.0->ipywidgets>=7.5.1->pandas-profiling==2.7.1) (5.6.1)\n",
            "Requirement already satisfied: Send2Trash in /usr/local/lib/python3.7/dist-packages (from notebook>=4.4.1->widgetsnbextension~=3.5.0->ipywidgets>=7.5.1->pandas-profiling==2.7.1) (1.8.0)\n",
            "Requirement already satisfied: pyzmq>=13 in /usr/local/lib/python3.7/dist-packages (from jupyter-client->ipykernel>=4.5.1->ipywidgets>=7.5.1->pandas-profiling==2.7.1) (22.3.0)\n",
            "Requirement already satisfied: ptyprocess in /usr/local/lib/python3.7/dist-packages (from terminado>=0.8.1->notebook>=4.4.1->widgetsnbextension~=3.5.0->ipywidgets>=7.5.1->pandas-profiling==2.7.1) (0.7.0)\n",
            "Requirement already satisfied: PyWavelets in /usr/local/lib/python3.7/dist-packages (from imagehash->visions[type_image_path]==0.4.1->pandas-profiling==2.7.1) (1.2.0)\n",
            "Requirement already satisfied: zipp>=0.5 in /usr/local/lib/python3.7/dist-packages (from importlib-metadata->astropy>=4.0->pandas-profiling==2.7.1) (3.6.0)\n",
            "Requirement already satisfied: typing-extensions>=3.6.4 in /usr/local/lib/python3.7/dist-packages (from importlib-metadata->astropy>=4.0->pandas-profiling==2.7.1) (3.10.0.2)\n",
            "Requirement already satisfied: mistune<2,>=0.8.1 in /usr/local/lib/python3.7/dist-packages (from nbconvert->notebook>=4.4.1->widgetsnbextension~=3.5.0->ipywidgets>=7.5.1->pandas-profiling==2.7.1) (0.8.4)\n",
            "Requirement already satisfied: bleach in /usr/local/lib/python3.7/dist-packages (from nbconvert->notebook>=4.4.1->widgetsnbextension~=3.5.0->ipywidgets>=7.5.1->pandas-profiling==2.7.1) (4.1.0)\n",
            "Requirement already satisfied: pandocfilters>=1.4.1 in /usr/local/lib/python3.7/dist-packages (from nbconvert->notebook>=4.4.1->widgetsnbextension~=3.5.0->ipywidgets>=7.5.1->pandas-profiling==2.7.1) (1.5.0)\n",
            "Requirement already satisfied: entrypoints>=0.2.2 in /usr/local/lib/python3.7/dist-packages (from nbconvert->notebook>=4.4.1->widgetsnbextension~=3.5.0->ipywidgets>=7.5.1->pandas-profiling==2.7.1) (0.3)\n",
            "Requirement already satisfied: testpath in /usr/local/lib/python3.7/dist-packages (from nbconvert->notebook>=4.4.1->widgetsnbextension~=3.5.0->ipywidgets>=7.5.1->pandas-profiling==2.7.1) (0.5.0)\n",
            "Requirement already satisfied: defusedxml in /usr/local/lib/python3.7/dist-packages (from nbconvert->notebook>=4.4.1->widgetsnbextension~=3.5.0->ipywidgets>=7.5.1->pandas-profiling==2.7.1) (0.7.1)\n",
            "Requirement already satisfied: webencodings in /usr/local/lib/python3.7/dist-packages (from bleach->nbconvert->notebook>=4.4.1->widgetsnbextension~=3.5.0->ipywidgets>=7.5.1->pandas-profiling==2.7.1) (0.5.1)\n",
            "Requirement already satisfied: packaging in /usr/local/lib/python3.7/dist-packages (from bleach->nbconvert->notebook>=4.4.1->widgetsnbextension~=3.5.0->ipywidgets>=7.5.1->pandas-profiling==2.7.1) (21.3)\n",
            "Building wheels for collected packages: htmlmin, imagehash\n",
            "  Building wheel for htmlmin (setup.py) ... \u001b[?25l\u001b[?25hdone\n",
            "  Created wheel for htmlmin: filename=htmlmin-0.1.12-py3-none-any.whl size=27098 sha256=9de823525d16c46ee89e3bdf19aacf4fffe54e14c93de9aca67575b8366625d7\n",
            "  Stored in directory: /root/.cache/pip/wheels/70/e1/52/5b14d250ba868768823940c3229e9950d201a26d0bd3ee8655\n",
            "  Building wheel for imagehash (setup.py) ... \u001b[?25l\u001b[?25hdone\n",
            "  Created wheel for imagehash: filename=ImageHash-4.2.1-py2.py3-none-any.whl size=295207 sha256=3bf892d021b4bebb03a61b8239f53b911a2eebd0a47ca58bd0ec4a9daaa499ff\n",
            "  Stored in directory: /root/.cache/pip/wheels/4c/d5/59/5e3e297533ddb09407769762985d134135064c6831e29a914e\n",
            "Successfully built htmlmin imagehash\n",
            "Installing collected packages: tangled-up-in-unicode, scipy, visions, imagehash, phik, htmlmin, confuse, pandas-profiling\n",
            "  Attempting uninstall: scipy\n",
            "    Found existing installation: scipy 1.4.1\n",
            "    Uninstalling scipy-1.4.1:\n",
            "      Successfully uninstalled scipy-1.4.1\n",
            "  Attempting uninstall: pandas-profiling\n",
            "    Found existing installation: pandas-profiling 1.4.1\n",
            "    Uninstalling pandas-profiling-1.4.1:\n",
            "      Successfully uninstalled pandas-profiling-1.4.1\n",
            "\u001b[31mERROR: pip's dependency resolver does not currently take into account all the packages that are installed. This behaviour is the source of the following dependency conflicts.\n",
            "albumentations 0.1.12 requires imgaug<0.2.7,>=0.2.5, but you have imgaug 0.2.9 which is incompatible.\u001b[0m\n",
            "Successfully installed confuse-1.7.0 htmlmin-0.1.12 imagehash-4.2.1 pandas-profiling-2.7.1 phik-0.12.0 scipy-1.7.3 tangled-up-in-unicode-0.2.0 visions-0.4.1\n"
          ]
        },
        {
          "output_type": "display_data",
          "data": {
            "application/vnd.colab-display-data+json": {
              "pip_warning": {
                "packages": [
                  "scipy"
                ]
              }
            }
          },
          "metadata": {}
        }
      ]
    },
    {
      "cell_type": "code",
      "metadata": {
        "id": "aJcwJn7dqIe-"
      },
      "source": [
        "import pandas_profiling as pp"
      ],
      "execution_count": null,
      "outputs": []
    },
    {
      "cell_type": "code",
      "metadata": {
        "colab": {
          "base_uri": "https://localhost:8080/",
          "height": 113,
          "referenced_widgets": [
            "ea5c5c8b85fd43129f96c5d75f73a57f",
            "3249d8804e804861acb84ec00b63c85c",
            "d57280b871cd48a28bc55c0dba3463f1",
            "875197ebeffb40468f9741da0f29719b",
            "a8db9657d9a44763857674b734e2e374",
            "82efa032bc55473dbbca04543fbec565",
            "9dbc8587375c473b9ff8553582c4c436",
            "3fa74d031d9d47d4b0cbb83a5782eb1e",
            "1aff6aae5abe43adafd040a4bf3c5e0c",
            "4d06a524f2264ef6b0182c04441ec59c",
            "dbc075d8029a46fb94bb844fc58de6c1",
            "61dbff57a7b64d9ea35ea861318a23f7",
            "68b46fc2229546a592b9f445b5646903",
            "cb0f9deeacde43b1a4f5e573bf4d1bf4",
            "dac93552c67343348ca759a9cdb5f8ff",
            "9a635c61616245fab494c615a8460228",
            "aa4bd7277078458f863e6bb91a92e671",
            "bf8fc5632f6e48e2bb9ad84795346b72",
            "c60925588b1e49a39c092ff33fd32583",
            "80431b4b5fd941019d5c77fed41dd9f2",
            "a847bca45fdb420ba274319135b2e8fa",
            "e9650ef9e156437e98aadf3c78eadd35",
            "9ee5031afebc4b8dbd277a6e05787015",
            "27c0ad5de655431d825e72585aaf10ef",
            "52d871178bd54f7bacbe9c294cefbaae",
            "8955e124cd7444f7b984a616c72d6a77",
            "c0fac75945f64724b46b8d61246ffbc3",
            "c91bffcd732940c986dd7748c4e47ee3",
            "93037248faf54067bf111f808cc50d51",
            "820583229ee347a097cc9050968a67a3",
            "54a849ea5be24701aee597f1f753be37",
            "e44168187d2c498e93c87a2df84824ca",
            "6127a4ce1c9d472688a4f7842bbcf7c7"
          ]
        },
        "id": "f8rCPbQ6qNRb",
        "outputId": "6907158c-c7bd-444d-9fa3-933e4dc02b5a"
      },
      "source": [
        "pp.ProfileReport(cvd2)"
      ],
      "execution_count": null,
      "outputs": [
        {
          "output_type": "display_data",
          "data": {
            "application/vnd.jupyter.widget-view+json": {
              "model_id": "ea5c5c8b85fd43129f96c5d75f73a57f",
              "version_minor": 0,
              "version_major": 2
            },
            "text/plain": [
              "Summarize dataset:   0%|          | 0/72 [00:00<?, ?it/s]"
            ]
          },
          "metadata": {}
        },
        {
          "output_type": "display_data",
          "data": {
            "application/vnd.jupyter.widget-view+json": {
              "model_id": "61dbff57a7b64d9ea35ea861318a23f7",
              "version_minor": 0,
              "version_major": 2
            },
            "text/plain": [
              "Generate report structure:   0%|          | 0/1 [00:00<?, ?it/s]"
            ]
          },
          "metadata": {}
        },
        {
          "output_type": "display_data",
          "data": {
            "application/vnd.jupyter.widget-view+json": {
              "model_id": "9ee5031afebc4b8dbd277a6e05787015",
              "version_minor": 0,
              "version_major": 2
            },
            "text/plain": [
              "Render HTML:   0%|          | 0/1 [00:00<?, ?it/s]"
            ]
          },
          "metadata": {}
        }
      ]
    },
    {
      "cell_type": "code",
      "metadata": {
        "colab": {
          "base_uri": "https://localhost:8080/"
        },
        "id": "eoEtxZws4Il8",
        "outputId": "2b69bdb8-5695-46d2-cc6a-6db7a72b6ea5"
      },
      "source": [
        "cvd2.groupby(['Day'])['Tests'].count()"
      ],
      "execution_count": null,
      "outputs": [
        {
          "output_type": "execute_result",
          "data": {
            "text/plain": [
              "Day\n",
              "Friday       12\n",
              "Monday       13\n",
              "Saturday     11\n",
              "Sunday       14\n",
              "Thursday     12\n",
              "Tuesday      13\n",
              "Wednesday    13\n",
              "Name: Tests, dtype: int64"
            ]
          },
          "metadata": {},
          "execution_count": 22
        }
      ]
    },
    {
      "cell_type": "markdown",
      "metadata": {
        "id": "Pvrto6lc4P4X"
      },
      "source": [
        "##For both genders, we observe that most patients with heart disease do not have a high resting ecg as the cause"
      ]
    },
    {
      "cell_type": "code",
      "metadata": {
        "colab": {
          "base_uri": "https://localhost:8080/",
          "height": 381
        },
        "id": "Ww5pmQlq2WPD",
        "outputId": "286e79c7-fc9f-4a42-ae92-84c85a3c6105"
      },
      "source": [
        "sns.pointplot(x=\"Day\", y=\"Tests\", data = cvd2)"
      ],
      "execution_count": null,
      "outputs": [
        {
          "output_type": "execute_result",
          "data": {
            "text/plain": [
              "<matplotlib.axes._subplots.AxesSubplot at 0x7fde76631190>"
            ]
          },
          "metadata": {},
          "execution_count": 23
        },
        {
          "output_type": "display_data",
          "data": {
            "image/png": "[encoded data removed]",
            "text/plain": [
              "<Figure size 576x396 with 1 Axes>"
            ]
          },
          "metadata": {}
        }
      ]
    },
    {
      "cell_type": "markdown",
      "metadata": {
        "id": "3A3AIibF8dQm"
      },
      "source": [
        "##We observe from the above plot that tests done are higher on weekdays compared to weekends."
      ]
    },
    {
      "cell_type": "code",
      "metadata": {
        "colab": {
          "base_uri": "https://localhost:8080/",
          "height": 397
        },
        "id": "U16HbehWLuR4",
        "outputId": "a74007e7-d79a-4722-a979-22e7b711657d"
      },
      "source": [
        "sns.boxplot(x=\"Day\", y=\"Tests\",data=cvd2)\n",
        "plt.title(\"Total Tests per Weekday\")"
      ],
      "execution_count": null,
      "outputs": [
        {
          "output_type": "execute_result",
          "data": {
            "text/plain": [
              "Text(0.5, 1.0, 'Total Tests per Weekday')"
            ]
          },
          "metadata": {},
          "execution_count": 26
        },
        {
          "output_type": "display_data",
          "data": {
            "image/png": "[encoded data removed]",
            "text/plain": [
              "<Figure size 576x396 with 1 Axes>"
            ]
          },
          "metadata": {}
        }
      ]
    },
    {
      "cell_type": "markdown",
      "metadata": {
        "id": "lgx1I7lGMQjo"
      },
      "source": [
        "##We observe that women have a higher cholesterol level as a cause of their heart disease\n"
      ]
    },
    {
      "cell_type": "code",
      "metadata": {
        "colab": {
          "base_uri": "https://localhost:8080/",
          "height": 312
        },
        "id": "cjNZsxXaM0VA",
        "outputId": "bfd35b44-b7fa-49b5-ed96-793173547513"
      },
      "source": [
        "#Scatterplot with one categorical variable\n",
        "sns.barplot(x=\"fbs\", y=\"target\", hue=\"sex\", data=data2)\n",
        "plt.title(\"Heart Disease and Blood Sugar Level by Gender\")"
      ],
      "execution_count": null,
      "outputs": [
        {
          "output_type": "execute_result",
          "data": {
            "text/plain": [
              "Text(0.5, 1.0, 'Heart Disease and Blood Sugar Level by Gender')"
            ]
          },
          "metadata": {},
          "execution_count": 151
        },
        {
          "output_type": "display_data",
          "data": {
            "image/png": "[encoded data removed]",
            "text/plain": [
              "<Figure size 432x288 with 1 Axes>"
            ]
          },
          "metadata": {
            "needs_background": "light"
          }
        }
      ]
    },
    {
      "cell_type": "markdown",
      "metadata": {
        "id": "diVxTHr1M_da"
      },
      "source": [
        "##For a low fasting blood sugar, women are highly at risk of getting heart disease than men.\n",
        "##For a high fasting blood sugar (>120mg/dl), both genders are fairly at risk of a heart disease."
      ]
    },
    {
      "cell_type": "code",
      "metadata": {
        "colab": {
          "base_uri": "https://localhost:8080/"
        },
        "id": "XZ1Si_mGNWd4",
        "outputId": "f2c76064-4c62-49fc-8c87-0cbb4f80a301"
      },
      "source": [
        "data2.groupby(['target', 'sex'])['age'].mean()"
      ],
      "execution_count": null,
      "outputs": [
        {
          "output_type": "execute_result",
          "data": {
            "text/plain": [
              "target  sex   \n",
              "0       female    59.041667\n",
              "        male      56.087719\n",
              "1       female    54.555556\n",
              "        male      51.186813\n",
              "Name: age, dtype: float64"
            ]
          },
          "metadata": {},
          "execution_count": 152
        }
      ]
    },
    {
      "cell_type": "markdown",
      "metadata": {
        "id": "6S9ucTJINdv3"
      },
      "source": [
        "##Average age for a woman to get a heart disease is 54.\n",
        "##For the Men, the high risk age is averagely 51."
      ]
    },
    {
      "cell_type": "code",
      "metadata": {
        "colab": {
          "base_uri": "https://localhost:8080/",
          "height": 457
        },
        "id": "ss2eANmaOYPr",
        "outputId": "5cf65dfc-5aae-4b48-bf5d-f3a8f37a2954"
      },
      "source": [
        "sns.factorplot(x=\"target\", y=\"age\", hue=\"sex\", data=data2)\n",
        "plt.title(\"Heart Disease vs. Age\")"
      ],
      "execution_count": null,
      "outputs": [
        {
          "output_type": "stream",
          "name": "stderr",
          "text": [
            "/usr/local/lib/python3.7/dist-packages/seaborn/categorical.py:3717: UserWarning: The `factorplot` function has been renamed to `catplot`. The original name will be removed in a future release. Please update your code. Note that the default `kind` in `factorplot` (`'point'`) has changed `'strip'` in `catplot`.\n",
            "  warnings.warn(msg)\n"
          ]
        },
        {
          "output_type": "execute_result",
          "data": {
            "text/plain": [
              "Text(0.5, 1.0, 'Heart Disease vs. Age')"
            ]
          },
          "metadata": {},
          "execution_count": 153
        },
        {
          "output_type": "display_data",
          "data": {
            "image/png": "[encoded data removed]",
            "text/plain": [
              "<Figure size 430.5x360 with 1 Axes>"
            ]
          },
          "metadata": {
            "needs_background": "light"
          }
        }
      ]
    },
    {
      "cell_type": "markdown",
      "metadata": {
        "id": "Ke6SWn3plBfU"
      },
      "source": [
        "# **EDA**\n",
        "Our data contains *301 observation(rows)*  and *14 variables (columns)* and has *no null values and no Duplicates*.\n",
        "\n",
        "The average age for participants is 54.5 years with the lowest age as 29 and the highest as 77.\n",
        "We also observe that there are more males than females in the dataset.\n",
        "\n",
        "Most participants have a cholesterol value between 200 and 300 mg/dl with the higher values occuring in patients between 55 and 70yrs.\n",
        "\n",
        "We also observe that as one ages, the maximum heart rate (thalac) decreases\n",
        "\n",
        "Our **Target Variable** (y) will be \"*Target*\", and it is of type boolean."
      ]
    },
    {
      "cell_type": "code",
      "metadata": {
        "colab": {
          "base_uri": "https://localhost:8080/"
        },
        "id": "tTxOdjrV0NTb",
        "outputId": "5e9afee9-96f1-4caf-c698-8db474202808"
      },
      "source": [
        "data2.info()"
      ],
      "execution_count": null,
      "outputs": [
        {
          "output_type": "stream",
          "name": "stdout",
          "text": [
            "<class 'pandas.core.frame.DataFrame'>\n",
            "Int64Index: 301 entries, 0 to 302\n",
            "Data columns (total 14 columns):\n",
            " #   Column    Non-Null Count  Dtype  \n",
            "---  ------    --------------  -----  \n",
            " 0   age       301 non-null    int64  \n",
            " 1   sex       301 non-null    object \n",
            " 2   cp        301 non-null    object \n",
            " 3   trestbps  301 non-null    int64  \n",
            " 4   chol      301 non-null    int64  \n",
            " 5   fbs       301 non-null    object \n",
            " 6   restecg   301 non-null    object \n",
            " 7   thalach   301 non-null    int64  \n",
            " 8   exang     301 non-null    object \n",
            " 9   oldpeak   301 non-null    float64\n",
            " 10  slope     301 non-null    object \n",
            " 11  ca        301 non-null    int64  \n",
            " 12  thal      301 non-null    object \n",
            " 13  target    301 non-null    int64  \n",
            "dtypes: float64(1), int64(6), object(7)\n",
            "memory usage: 45.3+ KB\n"
          ]
        }
      ]
    },
    {
      "cell_type": "code",
      "metadata": {
        "colab": {
          "base_uri": "https://localhost:8080/",
          "height": 296
        },
        "id": "0h7IA6TB3R6J",
        "outputId": "db6592f9-7d20-4b55-a911-d09f5debaa49"
      },
      "source": [
        "#Checking for Balance Data on the Target Variable\n",
        "sns.set_style('whitegrid')\n",
        "sns.countplot(x='target', data=data_df, palette = 'RdBu_r')"
      ],
      "execution_count": null,
      "outputs": [
        {
          "output_type": "execute_result",
          "data": {
            "text/plain": [
              "<matplotlib.axes._subplots.AxesSubplot at 0x7ff411557190>"
            ]
          },
          "metadata": {},
          "execution_count": 155
        },
        {
          "output_type": "display_data",
          "data": {
            "image/png": "[encoded data removed]",
            "text/plain": [
              "<Figure size 432x288 with 1 Axes>"
            ]
          },
          "metadata": {}
        }
      ]
    },
    {
      "cell_type": "markdown",
      "metadata": {
        "id": "zAwPB91d3RXB"
      },
      "source": [
        "Our Target variable is fairly balanced. We will however proceed with it for the Machine Learning"
      ]
    },
    {
      "cell_type": "markdown",
      "metadata": {
        "id": "wJMZuX6x9bzl"
      },
      "source": [
        "#**ML - Linear Regression**"
      ]
    },
    {
      "cell_type": "markdown",
      "metadata": {
        "id": "5edKcFIylehL"
      },
      "source": [
        "***We will:***\n",
        "\n",
        "**1.Train the dataset**\n",
        "\n",
        "**2.Fit our Model**\n",
        "\n",
        "**3.Predict and**\n",
        "\n",
        "**4.Finally Evaluate**\n"
      ]
    },
    {
      "cell_type": "code",
      "metadata": {
        "colab": {
          "base_uri": "https://localhost:8080/"
        },
        "id": "-pxrKVWnlvgu",
        "outputId": "9a01f07d-f781-4266-b2dd-286393f1945a"
      },
      "source": [
        "cvd.info()"
      ],
      "execution_count": null,
      "outputs": [
        {
          "output_type": "stream",
          "name": "stdout",
          "text": [
            "<class 'pandas.core.frame.DataFrame'>\n",
            "Int64Index: 301 entries, 0 to 302\n",
            "Data columns (total 14 columns):\n",
            " #   Column    Non-Null Count  Dtype  \n",
            "---  ------    --------------  -----  \n",
            " 0   age       301 non-null    int64  \n",
            " 1   sex       301 non-null    int64  \n",
            " 2   cp        301 non-null    int64  \n",
            " 3   trestbps  301 non-null    int64  \n",
            " 4   chol      301 non-null    int64  \n",
            " 5   fbs       301 non-null    int64  \n",
            " 6   restecg   301 non-null    int64  \n",
            " 7   thalach   301 non-null    int64  \n",
            " 8   exang     301 non-null    int64  \n",
            " 9   oldpeak   301 non-null    float64\n",
            " 10  slope     301 non-null    int64  \n",
            " 11  ca        301 non-null    int64  \n",
            " 12  thal      301 non-null    int64  \n",
            " 13  target    301 non-null    int64  \n",
            "dtypes: float64(1), int64(13)\n",
            "memory usage: 45.3 KB\n"
          ]
        }
      ]
    },
    {
      "cell_type": "code",
      "metadata": {
        "id": "8dQt0l4WlVzA"
      },
      "source": [
        "#Let's define our input features\n",
        "X = cvd[['age', 'cp', 'trestbps','chol','fbs', 'restecg', 'thalach','exang','oldpeak', 'slope', 'ca','thal']]"
      ],
      "execution_count": null,
      "outputs": []
    },
    {
      "cell_type": "code",
      "metadata": {
        "colab": {
          "base_uri": "https://localhost:8080/",
          "height": 206
        },
        "id": "28_dnvEYmrpa",
        "outputId": "4f5f5ea9-ce16-44e1-bb33-57b340c105c9"
      },
      "source": [
        "X.head()"
      ],
      "execution_count": null,
      "outputs": [
        {
          "output_type": "execute_result",
          "data": {
            "text/html": [
              "<div>\n",
              "<style scoped>\n",
              "    .dataframe tbody tr th:only-of-type {\n",
              "        vertical-align: middle;\n",
              "    }\n",
              "\n",
              "    .dataframe tbody tr th {\n",
              "        vertical-align: top;\n",
              "    }\n",
              "\n",
              "    .dataframe thead th {\n",
              "        text-align: right;\n",
              "    }\n",
              "</style>\n",
              "<table border=\"1\" class=\"dataframe\">\n",
              "  <thead>\n",
              "    <tr style=\"text-align: right;\">\n",
              "      <th></th>\n",
              "      <th>age</th>\n",
              "      <th>cp</th>\n",
              "      <th>trestbps</th>\n",
              "      <th>chol</th>\n",
              "      <th>fbs</th>\n",
              "      <th>restecg</th>\n",
              "      <th>thalach</th>\n",
              "      <th>exang</th>\n",
              "      <th>oldpeak</th>\n",
              "      <th>slope</th>\n",
              "      <th>ca</th>\n",
              "      <th>thal</th>\n",
              "    </tr>\n",
              "  </thead>\n",
              "  <tbody>\n",
              "    <tr>\n",
              "      <th>0</th>\n",
              "      <td>63</td>\n",
              "      <td>3</td>\n",
              "      <td>145</td>\n",
              "      <td>233</td>\n",
              "      <td>1</td>\n",
              "      <td>0</td>\n",
              "      <td>150</td>\n",
              "      <td>0</td>\n",
              "      <td>2.3</td>\n",
              "      <td>0</td>\n",
              "      <td>0</td>\n",
              "      <td>1</td>\n",
              "    </tr>\n",
              "    <tr>\n",
              "      <th>1</th>\n",
              "      <td>37</td>\n",
              "      <td>2</td>\n",
              "      <td>130</td>\n",
              "      <td>250</td>\n",
              "      <td>0</td>\n",
              "      <td>1</td>\n",
              "      <td>187</td>\n",
              "      <td>0</td>\n",
              "      <td>3.5</td>\n",
              "      <td>0</td>\n",
              "      <td>0</td>\n",
              "      <td>2</td>\n",
              "    </tr>\n",
              "    <tr>\n",
              "      <th>2</th>\n",
              "      <td>41</td>\n",
              "      <td>1</td>\n",
              "      <td>130</td>\n",
              "      <td>204</td>\n",
              "      <td>0</td>\n",
              "      <td>0</td>\n",
              "      <td>172</td>\n",
              "      <td>0</td>\n",
              "      <td>1.4</td>\n",
              "      <td>2</td>\n",
              "      <td>0</td>\n",
              "      <td>2</td>\n",
              "    </tr>\n",
              "    <tr>\n",
              "      <th>3</th>\n",
              "      <td>56</td>\n",
              "      <td>1</td>\n",
              "      <td>120</td>\n",
              "      <td>236</td>\n",
              "      <td>0</td>\n",
              "      <td>1</td>\n",
              "      <td>178</td>\n",
              "      <td>0</td>\n",
              "      <td>0.8</td>\n",
              "      <td>2</td>\n",
              "      <td>0</td>\n",
              "      <td>2</td>\n",
              "    </tr>\n",
              "    <tr>\n",
              "      <th>4</th>\n",
              "      <td>57</td>\n",
              "      <td>0</td>\n",
              "      <td>120</td>\n",
              "      <td>354</td>\n",
              "      <td>0</td>\n",
              "      <td>1</td>\n",
              "      <td>163</td>\n",
              "      <td>1</td>\n",
              "      <td>0.6</td>\n",
              "      <td>2</td>\n",
              "      <td>0</td>\n",
              "      <td>2</td>\n",
              "    </tr>\n",
              "  </tbody>\n",
              "</table>\n",
              "</div>"
            ],
            "text/plain": [
              "   age  cp  trestbps  chol  fbs  ...  exang  oldpeak  slope  ca  thal\n",
              "0   63   3       145   233    1  ...      0      2.3      0   0     1\n",
              "1   37   2       130   250    0  ...      0      3.5      0   0     2\n",
              "2   41   1       130   204    0  ...      0      1.4      2   0     2\n",
              "3   56   1       120   236    0  ...      0      0.8      2   0     2\n",
              "4   57   0       120   354    0  ...      1      0.6      2   0     2\n",
              "\n",
              "[5 rows x 12 columns]"
            ]
          },
          "metadata": {},
          "execution_count": 158
        }
      ]
    },
    {
      "cell_type": "code",
      "metadata": {
        "id": "3GiLwKZpm0vf"
      },
      "source": [
        "#Let's define our target variable (\"target\")\n",
        "y=cvd[['Tests']]"
      ],
      "execution_count": null,
      "outputs": []
    },
    {
      "cell_type": "code",
      "metadata": {
        "colab": {
          "base_uri": "https://localhost:8080/",
          "height": 206
        },
        "id": "C6NyFi-Dm_2R",
        "outputId": "d0059b30-fd60-4158-9f65-af657ad40b2c"
      },
      "source": [
        "y.head()"
      ],
      "execution_count": null,
      "outputs": [
        {
          "output_type": "execute_result",
          "data": {
            "text/html": [
              "<div>\n",
              "<style scoped>\n",
              "    .dataframe tbody tr th:only-of-type {\n",
              "        vertical-align: middle;\n",
              "    }\n",
              "\n",
              "    .dataframe tbody tr th {\n",
              "        vertical-align: top;\n",
              "    }\n",
              "\n",
              "    .dataframe thead th {\n",
              "        text-align: right;\n",
              "    }\n",
              "</style>\n",
              "<table border=\"1\" class=\"dataframe\">\n",
              "  <thead>\n",
              "    <tr style=\"text-align: right;\">\n",
              "      <th></th>\n",
              "      <th>target</th>\n",
              "    </tr>\n",
              "  </thead>\n",
              "  <tbody>\n",
              "    <tr>\n",
              "      <th>0</th>\n",
              "      <td>1</td>\n",
              "    </tr>\n",
              "    <tr>\n",
              "      <th>1</th>\n",
              "      <td>1</td>\n",
              "    </tr>\n",
              "    <tr>\n",
              "      <th>2</th>\n",
              "      <td>1</td>\n",
              "    </tr>\n",
              "    <tr>\n",
              "      <th>3</th>\n",
              "      <td>1</td>\n",
              "    </tr>\n",
              "    <tr>\n",
              "      <th>4</th>\n",
              "      <td>1</td>\n",
              "    </tr>\n",
              "  </tbody>\n",
              "</table>\n",
              "</div>"
            ],
            "text/plain": [
              "   target\n",
              "0       1\n",
              "1       1\n",
              "2       1\n",
              "3       1\n",
              "4       1"
            ]
          },
          "metadata": {},
          "execution_count": 160
        }
      ]
    },
    {
      "cell_type": "markdown",
      "metadata": {
        "id": "A8KXMULKYi8n"
      },
      "source": [
        "# **Builidng the Model**"
      ]
    },
    {
      "cell_type": "code",
      "metadata": {
        "id": "rR2KOIaCnN0Y"
      },
      "source": [
        "from sklearn.linear_model import LogisticRegression"
      ],
      "execution_count": null,
      "outputs": []
    },
    {
      "cell_type": "code",
      "metadata": {
        "id": "SEi1giSinQxO"
      },
      "source": [
        "logReg = LogisticRegression()"
      ],
      "execution_count": null,
      "outputs": []
    },
    {
      "cell_type": "code",
      "metadata": {
        "id": "YOb9LjVoYWee"
      },
      "source": [
        "#CALL THE SKLEARN PACKAGE TO BE USED FOR ANALYSIS\n",
        "from sklearn.model_selection import train_test_split"
      ],
      "execution_count": null,
      "outputs": []
    },
    {
      "cell_type": "code",
      "metadata": {
        "id": "h5fZYlAkYaXV"
      },
      "source": [
        "x_train, x_test, y_train, y_test = train_test_split(X,y, test_size = 0.30, random_state = 101)"
      ],
      "execution_count": null,
      "outputs": []
    },
    {
      "cell_type": "code",
      "metadata": {
        "colab": {
          "base_uri": "https://localhost:8080/"
        },
        "id": "T5UNUOlrYZ3v",
        "outputId": "b54396b6-82ce-4a09-958c-3a56d7f8a202"
      },
      "source": [
        "print(x_train.shape)\n",
        "print(x_test.shape)\n",
        "print(y_train.shape)\n",
        "print(y_test.shape)"
      ],
      "execution_count": null,
      "outputs": [
        {
          "output_type": "stream",
          "name": "stdout",
          "text": [
            "(210, 12)\n",
            "(91, 12)\n",
            "(210, 1)\n",
            "(91, 1)\n"
          ]
        }
      ]
    },
    {
      "cell_type": "code",
      "metadata": {
        "colab": {
          "base_uri": "https://localhost:8080/"
        },
        "id": "kwqmVhqHoNXz",
        "outputId": "5ad50957-ea93-4695-cee4-7d4d3de457dc"
      },
      "source": [
        "logReg.fit(x_train,y_train)"
      ],
      "execution_count": null,
      "outputs": [
        {
          "output_type": "stream",
          "name": "stderr",
          "text": [
            "/usr/local/lib/python3.7/dist-packages/sklearn/utils/validation.py:985: DataConversionWarning: A column-vector y was passed when a 1d array was expected. Please change the shape of y to (n_samples, ), for example using ravel().\n",
            "  y = column_or_1d(y, warn=True)\n",
            "/usr/local/lib/python3.7/dist-packages/sklearn/linear_model/_logistic.py:818: ConvergenceWarning: lbfgs failed to converge (status=1):\n",
            "STOP: TOTAL NO. of ITERATIONS REACHED LIMIT.\n",
            "\n",
            "Increase the number of iterations (max_iter) or scale the data as shown in:\n",
            "    https://scikit-learn.org/stable/modules/preprocessing.html\n",
            "Please also refer to the documentation for alternative solver options:\n",
            "    https://scikit-learn.org/stable/modules/linear_model.html#logistic-regression\n",
            "  extra_warning_msg=_LOGISTIC_SOLVER_CONVERGENCE_MSG,\n"
          ]
        },
        {
          "output_type": "execute_result",
          "data": {
            "text/plain": [
              "LogisticRegression()"
            ]
          },
          "metadata": {},
          "execution_count": 166
        }
      ]
    },
    {
      "cell_type": "code",
      "metadata": {
        "id": "Z99IqtTdoXO-"
      },
      "source": [
        "y_pred = logReg.predict(x_test)"
      ],
      "execution_count": null,
      "outputs": []
    },
    {
      "cell_type": "code",
      "metadata": {
        "colab": {
          "base_uri": "https://localhost:8080/"
        },
        "id": "83_OoTZToZmM",
        "outputId": "d01da5e1-5a8a-4a8f-840e-9b8157362f35"
      },
      "source": [
        "y_pred"
      ],
      "execution_count": null,
      "outputs": [
        {
          "output_type": "execute_result",
          "data": {
            "text/plain": [
              "array([0, 0, 1, 1, 0, 1, 0, 1, 1, 0, 0, 1, 0, 1, 1, 1, 1, 0, 1, 0, 0, 1,\n",
              "       0, 1, 1, 0, 1, 0, 1, 0, 0, 1, 1, 0, 0, 1, 0, 0, 1, 1, 1, 0, 1, 1,\n",
              "       1, 1, 0, 0, 1, 0, 1, 1, 1, 1, 1, 0, 0, 0, 1, 0, 0, 0, 0, 1, 1, 0,\n",
              "       1, 0, 0, 1, 1, 0, 1, 1, 0, 0, 1, 1, 0, 1, 1, 0, 1, 1, 0, 0, 1, 0,\n",
              "       1, 1, 1])"
            ]
          },
          "metadata": {},
          "execution_count": 168
        }
      ]
    },
    {
      "cell_type": "code",
      "metadata": {
        "colab": {
          "base_uri": "https://localhost:8080/"
        },
        "id": "TdbOcbrnoj_8",
        "outputId": "c9ec334a-6a93-4167-ca1c-bc14e5ace817"
      },
      "source": [
        "logReg.score(x_test,y_test)"
      ],
      "execution_count": null,
      "outputs": [
        {
          "output_type": "execute_result",
          "data": {
            "text/plain": [
              "0.8791208791208791"
            ]
          },
          "metadata": {},
          "execution_count": 169
        }
      ]
    },
    {
      "cell_type": "code",
      "metadata": {
        "id": "0Of9hmcYormi"
      },
      "source": [
        "from sklearn.metrics import confusion_matrix"
      ],
      "execution_count": null,
      "outputs": []
    },
    {
      "cell_type": "code",
      "metadata": {
        "colab": {
          "base_uri": "https://localhost:8080/"
        },
        "id": "ct4LdzLpot4o",
        "outputId": "193eaabc-f104-409f-caf3-500f303eb6c9"
      },
      "source": [
        "confusion_matrix(y_test,y_pred)"
      ],
      "execution_count": null,
      "outputs": [
        {
          "output_type": "execute_result",
          "data": {
            "text/plain": [
              "array([[38,  8],\n",
              "       [ 3, 42]])"
            ]
          },
          "metadata": {},
          "execution_count": 171
        }
      ]
    },
    {
      "cell_type": "code",
      "metadata": {
        "id": "rXxg6dboo0Eq"
      },
      "source": [
        "from sklearn.metrics import classification_report"
      ],
      "execution_count": null,
      "outputs": []
    },
    {
      "cell_type": "code",
      "metadata": {
        "colab": {
          "base_uri": "https://localhost:8080/"
        },
        "id": "OVlnOP-Eo2wm",
        "outputId": "aa8eb676-afd4-4a69-c06f-823cce3a898c"
      },
      "source": [
        "print(classification_report(y_test,y_pred))"
      ],
      "execution_count": null,
      "outputs": [
        {
          "output_type": "stream",
          "name": "stdout",
          "text": [
            "              precision    recall  f1-score   support\n",
            "\n",
            "           0       0.93      0.83      0.87        46\n",
            "           1       0.84      0.93      0.88        45\n",
            "\n",
            "    accuracy                           0.88        91\n",
            "   macro avg       0.88      0.88      0.88        91\n",
            "weighted avg       0.88      0.88      0.88        91\n",
            "\n"
          ]
        }
      ]
    },
    {
      "cell_type": "code",
      "metadata": {
        "id": "Pz05l65ff2O_"
      },
      "source": [
        "cm = confusion_matrix(y_test,y_pred)"
      ],
      "execution_count": null,
      "outputs": []
    },
    {
      "cell_type": "code",
      "metadata": {
        "colab": {
          "base_uri": "https://localhost:8080/",
          "height": 297
        },
        "id": "ucDYHJ58f7Il",
        "outputId": "25dc846f-2b58-495b-89b8-3ced88cbb944"
      },
      "source": [
        "sns.heatmap(cm,annot=True,fmt='0.0f');\n",
        "plt.ylabel('actual value');\n",
        "plt.xlabel('predicted value');\n",
        "plt.title('Accuracy Score: {0}'.format(logReg.score(x_test,y_test)) , size = 15);"
      ],
      "execution_count": null,
      "outputs": [
        {
          "output_type": "display_data",
          "data": {
            "image/png": "[encoded data removed]",
            "text/plain": [
              "<Figure size 432x288 with 2 Axes>"
            ]
          },
          "metadata": {}
        }
      ]
    },
    {
      "cell_type": "code",
      "metadata": {
        "id": "fsvny6kLfxOR"
      },
      "source": [
        "import matplotlib.pyplot as plt"
      ],
      "execution_count": null,
      "outputs": []
    },
    {
      "cell_type": "markdown",
      "metadata": {
        "id": "TF5BOGjllsic"
      },
      "source": [
        "#Feature Importance"
      ]
    },
    {
      "cell_type": "code",
      "metadata": {
        "colab": {
          "base_uri": "https://localhost:8080/"
        },
        "id": "3VWq1MROksnw",
        "outputId": "d1237b8a-8043-41b5-e8d7-8baa45a7474c"
      },
      "source": [
        "from matplotlib import pyplot\n",
        "# get importance\n",
        "importance = logReg.coef_[0]\n",
        "print(importance)"
      ],
      "execution_count": null,
      "outputs": [
        {
          "output_type": "stream",
          "name": "stdout",
          "text": [
            "[ 0.00446705  0.6589651  -0.01117284  0.00282204  0.05634723  0.48136273\n",
            "  0.0159258  -0.91424894 -0.495803    0.44436782 -0.87117421 -0.84126211]\n"
          ]
        }
      ]
    },
    {
      "cell_type": "code",
      "metadata": {
        "colab": {
          "base_uri": "https://localhost:8080/",
          "height": 473
        },
        "id": "7_aia_96kxcF",
        "outputId": "3ee9da93-7b4e-4d3c-9436-83c983b06682"
      },
      "source": [
        "for i,v in enumerate(importance):\n",
        "  print('Feature: %0d, Score: %.5f' % (i,v))\n",
        "# plot feature importance\n",
        "pyplot.bar([x for x in range(len(importance))], importance)\n",
        "pyplot.show()"
      ],
      "execution_count": null,
      "outputs": [
        {
          "output_type": "stream",
          "name": "stdout",
          "text": [
            "Feature: 0, Score: 0.00447\n",
            "Feature: 1, Score: 0.65897\n",
            "Feature: 2, Score: -0.01117\n",
            "Feature: 3, Score: 0.00282\n",
            "Feature: 4, Score: 0.05635\n",
            "Feature: 5, Score: 0.48136\n",
            "Feature: 6, Score: 0.01593\n",
            "Feature: 7, Score: -0.91425\n",
            "Feature: 8, Score: -0.49580\n",
            "Feature: 9, Score: 0.44437\n",
            "Feature: 10, Score: -0.87117\n",
            "Feature: 11, Score: -0.84126\n"
          ]
        },
        {
          "output_type": "display_data",
          "data": {
            "image/png": "[encoded data removed]",
            "text/plain": [
              "<Figure size 432x288 with 1 Axes>"
            ]
          },
          "metadata": {}
        }
      ]
    },
    {
      "cell_type": "markdown",
      "metadata": {
        "id": "7cf3ZqsJuqKj"
      },
      "source": [
        "## Evaluation - Using the F1 Score, we observe that our Logistic Regression Model is 88% accurate for predictions."
      ]
    },
    {
      "cell_type": "markdown",
      "metadata": {
        "id": "dXvW3nvQu6O2"
      },
      "source": [
        "# **Conclusion**"
      ]
    },
    {
      "cell_type": "markdown",
      "metadata": {
        "id": "fGoEaPwD6-Eg"
      },
      "source": [
        "For all Three models, we chose a train and test data split as 70% and 30% respectively. In all cases, the target variable \"target\" was used for the classification.\n",
        "\n",
        "From the **Logistic Regression** model, our Accuracy Score is 88%\n",
        "\n",
        "From the **KNN** Model, our Accuracy Score is 82%\n",
        "\n",
        "From the **Decision Tree** model, our Accuracy Score is 79%\n",
        "\n",
        "In all cases, the F1 score was used to compute the accuracy, since we have an imbalaced data and we seek to get a balance between Precision and Recall.\n",
        "\n"
      ]
    },
    {
      "cell_type": "markdown",
      "metadata": {
        "id": "p0HBqh4g8IX-"
      },
      "source": [
        "# **Next Steps**"
      ]
    },
    {
      "cell_type": "markdown",
      "metadata": {
        "id": "qh0tQUmkvJJI"
      },
      "source": [
        "Acquiring more data to strengthen the Accuracy and Robustness of the Model.\n",
        "\n",
        "Balancing the Dataset and then remodeling to verify the performance of each model."
      ]
    }
  ]
}