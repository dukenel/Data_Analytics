{
  "nbformat": 4,
  "nbformat_minor": 0,
  "metadata": {
    "colab": {
      "name": "NLP Machine Learning Model - IMDB Customer Review Sentiment Analysis_Duke.ipynb",
      "provenance": [],
      "toc_visible": true,
      "include_colab_link": true
    },
    "kernelspec": {
      "name": "python3",
      "display_name": "Python 3"
    },
    "language_info": {
      "name": "python"
    }
  },
  "cells": [
    {
      "cell_type": "markdown",
      "metadata": {
        "id": "view-in-github",
        "colab_type": "text"
      },
      "source": [
        "<a href=\"https://colab.research.google.com/github/dukenel/Data_Analytics/blob/master/NLP_Machine_Learning_Model_IMDB_Customer_Review_Sentiment_Analysis_Duke.ipynb\" target=\"_parent\"><img src=\"https://colab.research.google.com/assets/colab-badge.svg\" alt=\"Open In Colab\"/></a>"
      ]
    },
    {
      "cell_type": "markdown",
      "source": [
        "# Business Question\n",
        "\n",
        "Task is to build a model to predict the customer sentiment. \n",
        "\n",
        "    Write a Function to remove punctuation and stopwords\n",
        "    Process the Data\n",
        "    Vectorize\n",
        "    TF-IDF\n",
        "    Model (Multinomial Naive Bayes)\n",
        "\n",
        "Dataset link:\n",
        "https://github.com/niteen11/data301_predictive_analytics_machine_learning/blob/main/data/imdb_labelled.txt"
      ],
      "metadata": {
        "id": "RV6uHgANl5Fh"
      }
    },
    {
      "cell_type": "code",
      "execution_count": 73,
      "metadata": {
        "id": "CU_txmMgcj8K"
      },
      "outputs": [],
      "source": [
        "import pandas as pd"
      ]
    },
    {
      "cell_type": "code",
      "source": [
        "import numpy as np"
      ],
      "metadata": {
        "id": "K9t2n4FEcqvc"
      },
      "execution_count": 74,
      "outputs": []
    },
    {
      "cell_type": "code",
      "source": [
        "email_data_df = pd.read_csv('https://raw.githubusercontent.com/niteen11/data301_predictive_analytics_machine_learning/main/data/imdb_labelled.txt', sep='\\t',names=['comment','sentiment'])"
      ],
      "metadata": {
        "id": "rQZJQsH9eCrp"
      },
      "execution_count": 75,
      "outputs": []
    },
    {
      "cell_type": "code",
      "source": [
        "email_data_df.head()"
      ],
      "metadata": {
        "colab": {
          "base_uri": "https://localhost:8080/",
          "height": 206
        },
        "id": "yA_5OIzeehmw",
        "outputId": "96851860-4259-4789-c311-fd3876afd5c3"
      },
      "execution_count": 76,
      "outputs": [
        {
          "output_type": "execute_result",
          "data": {
            "text/html": [
              "<div>\n",
              "<style scoped>\n",
              "    .dataframe tbody tr th:only-of-type {\n",
              "        vertical-align: middle;\n",
              "    }\n",
              "\n",
              "    .dataframe tbody tr th {\n",
              "        vertical-align: top;\n",
              "    }\n",
              "\n",
              "    .dataframe thead th {\n",
              "        text-align: right;\n",
              "    }\n",
              "</style>\n",
              "<table border=\"1\" class=\"dataframe\">\n",
              "  <thead>\n",
              "    <tr style=\"text-align: right;\">\n",
              "      <th></th>\n",
              "      <th>comment</th>\n",
              "      <th>sentiment</th>\n",
              "    </tr>\n",
              "  </thead>\n",
              "  <tbody>\n",
              "    <tr>\n",
              "      <th>0</th>\n",
              "      <td>A very, very, very slow-moving, aimless movie ...</td>\n",
              "      <td>0</td>\n",
              "    </tr>\n",
              "    <tr>\n",
              "      <th>1</th>\n",
              "      <td>Not sure who was more lost - the flat characte...</td>\n",
              "      <td>0</td>\n",
              "    </tr>\n",
              "    <tr>\n",
              "      <th>2</th>\n",
              "      <td>Attempting artiness with black &amp; white and cle...</td>\n",
              "      <td>0</td>\n",
              "    </tr>\n",
              "    <tr>\n",
              "      <th>3</th>\n",
              "      <td>Very little music or anything to speak of.</td>\n",
              "      <td>0</td>\n",
              "    </tr>\n",
              "    <tr>\n",
              "      <th>4</th>\n",
              "      <td>The best scene in the movie was when Gerardo i...</td>\n",
              "      <td>1</td>\n",
              "    </tr>\n",
              "  </tbody>\n",
              "</table>\n",
              "</div>"
            ],
            "text/plain": [
              "                                             comment  sentiment\n",
              "0  A very, very, very slow-moving, aimless movie ...          0\n",
              "1  Not sure who was more lost - the flat characte...          0\n",
              "2  Attempting artiness with black & white and cle...          0\n",
              "3       Very little music or anything to speak of.            0\n",
              "4  The best scene in the movie was when Gerardo i...          1"
            ]
          },
          "metadata": {},
          "execution_count": 76
        }
      ]
    },
    {
      "cell_type": "code",
      "source": [
        "email_data_df.shape"
      ],
      "metadata": {
        "colab": {
          "base_uri": "https://localhost:8080/"
        },
        "id": "2E8T60DspT-W",
        "outputId": "48bf687c-8692-4b08-c6ac-ae2c52098409"
      },
      "execution_count": 77,
      "outputs": [
        {
          "output_type": "execute_result",
          "data": {
            "text/plain": [
              "(748, 2)"
            ]
          },
          "metadata": {},
          "execution_count": 77
        }
      ]
    },
    {
      "cell_type": "code",
      "source": [
        "email_data_df['comment'][0]"
      ],
      "metadata": {
        "colab": {
          "base_uri": "https://localhost:8080/",
          "height": 36
        },
        "id": "bUKr7jk_ejAj",
        "outputId": "1c3cf8ef-56f0-4df3-b7f2-fc5d267481ac"
      },
      "execution_count": 78,
      "outputs": [
        {
          "output_type": "execute_result",
          "data": {
            "application/vnd.google.colaboratory.intrinsic+json": {
              "type": "string"
            },
            "text/plain": [
              "'A very, very, very slow-moving, aimless movie about a distressed, drifting young man.  '"
            ]
          },
          "metadata": {},
          "execution_count": 78
        }
      ]
    },
    {
      "cell_type": "markdown",
      "source": [
        "**Lenght of longest comment**"
      ],
      "metadata": {
        "id": "b9jZ09Yyp2xq"
      }
    },
    {
      "cell_type": "code",
      "source": [
        "max(email_data_df['comment'].apply(len))"
      ],
      "metadata": {
        "colab": {
          "base_uri": "https://localhost:8080/"
        },
        "id": "YhdlcSAngByV",
        "outputId": "510800b4-266e-493f-b2c9-effb72cf5a40"
      },
      "execution_count": 79,
      "outputs": [
        {
          "output_type": "execute_result",
          "data": {
            "text/plain": [
              "7944"
            ]
          },
          "metadata": {},
          "execution_count": 79
        }
      ]
    },
    {
      "cell_type": "code",
      "source": [
        "msg_7944 = email_data_df[email_data_df['comment'].apply(len)==7944]"
      ],
      "metadata": {
        "id": "7ZsKS8NagUO2"
      },
      "execution_count": 80,
      "outputs": []
    },
    {
      "cell_type": "markdown",
      "source": [
        "**Row with longest comment**"
      ],
      "metadata": {
        "id": "IgJLA_rIp-_e"
      }
    },
    {
      "cell_type": "code",
      "source": [
        "msg_7944"
      ],
      "metadata": {
        "colab": {
          "base_uri": "https://localhost:8080/",
          "height": 81
        },
        "id": "WrAYsiFygsYK",
        "outputId": "d93057fe-73bc-42e6-ed81-29ec4433f4bd"
      },
      "execution_count": 81,
      "outputs": [
        {
          "output_type": "execute_result",
          "data": {
            "text/html": [
              "<div>\n",
              "<style scoped>\n",
              "    .dataframe tbody tr th:only-of-type {\n",
              "        vertical-align: middle;\n",
              "    }\n",
              "\n",
              "    .dataframe tbody tr th {\n",
              "        vertical-align: top;\n",
              "    }\n",
              "\n",
              "    .dataframe thead th {\n",
              "        text-align: right;\n",
              "    }\n",
              "</style>\n",
              "<table border=\"1\" class=\"dataframe\">\n",
              "  <thead>\n",
              "    <tr style=\"text-align: right;\">\n",
              "      <th></th>\n",
              "      <th>comment</th>\n",
              "      <th>sentiment</th>\n",
              "    </tr>\n",
              "  </thead>\n",
              "  <tbody>\n",
              "    <tr>\n",
              "      <th>136</th>\n",
              "      <td>In fact, it's hard to remember that the part ...</td>\n",
              "      <td>0</td>\n",
              "    </tr>\n",
              "  </tbody>\n",
              "</table>\n",
              "</div>"
            ],
            "text/plain": [
              "                                               comment  sentiment\n",
              "136   In fact, it's hard to remember that the part ...          0"
            ]
          },
          "metadata": {},
          "execution_count": 81
        }
      ]
    },
    {
      "cell_type": "markdown",
      "source": [
        "**Reviewing the longest comment on row 135**"
      ],
      "metadata": {
        "id": "A6m1-w29qHLd"
      }
    },
    {
      "cell_type": "code",
      "source": [
        "msg_7944.comment"
      ],
      "metadata": {
        "colab": {
          "base_uri": "https://localhost:8080/"
        },
        "id": "BIdQAuptg2K6",
        "outputId": "4fccdfa4-f259-43be-f60a-00fb661ce2b3"
      },
      "execution_count": 82,
      "outputs": [
        {
          "output_type": "execute_result",
          "data": {
            "text/plain": [
              "136     In fact, it's hard to remember that the part ...\n",
              "Name: comment, dtype: object"
            ]
          },
          "metadata": {},
          "execution_count": 82
        }
      ]
    },
    {
      "cell_type": "code",
      "source": [
        "msg_7944.comment.iloc[0]"
      ],
      "metadata": {
        "colab": {
          "base_uri": "https://localhost:8080/",
          "height": 201
        },
        "id": "pxT4ES_LhCUV",
        "outputId": "8e39cf04-5846-4132-cf74-55e81bd15cf3"
      },
      "execution_count": 83,
      "outputs": [
        {
          "output_type": "execute_result",
          "data": {
            "application/vnd.google.colaboratory.intrinsic+json": {
              "type": "string"
            },
            "text/plain": [
              "' In fact, it\\'s hard to remember that the part of Ray Charles is being acted, and not played by the man himself.  \\t1\\nRay Charles is legendary.  \\t1\\nRay Charles\\' life provided excellent biographical material for the film, which goes well beyond being just another movie about a musician.  \\t1\\nHitchcock is a great director.  \\t1\\nIronically I mostly find his films a total waste of time to watch.  \\t0\\nSecondly, Hitchcock pretty much perfected the thriller and chase movie.  \\t1\\nIt\\'s this pandering to the audience that sabotages most of his films.  \\t0\\nHence the whole story lacks a certain energy.  \\t0\\nThe plot simply rumbles on like a machine, desperately depending on the addition of new scenes.  \\t0\\nThere are the usual Hitchcock logic flaws.  \\t0\\nMishima is extremely uninteresting.  \\t0\\nThis is a chilly, unremarkable movie about an author living/working in a chilly abstruse culture.  \\t0\\nThe flat reenactments don\\'t hold your attention because they are emotionally adrift and stagy.  \\t0\\nAnd the rest of it just sits there being awful... with soldiers singing songs about the masculinity they pledge themselves to, hairsplitting about purity, the admiration of swords, etc.  \\t0\\nHe can bore you to pieces, and kill the momentum of a movie, quicker than anyone else.  \\t0\\nSchrader has made a resume full of lousy, amateurish films.  \\t0\\nWhen I first watched this movie, in the 80s, I loved it.  \\t1\\nI was totally fascinated by the music, the dancing... everything.  \\t1\\nHowever, I recently watched the whole thing again on DVD, and I was completely struck by how extremely stupid the storyline was - how it contained holes, inconsistencies and - frankly - a whole lot of crap - and how horrid the dancing was.  \\t0\\nI mean, in a realistic world, she would NEVER have gotten into that ballet repertory... The whole thing was quite pathetic.  \\t0\\nThe character developments also lacked in depth.  \\t0\\nWoa, talk about awful.  \\t0\\nDo not waste your time.  \\t0\\nIt was just too horrible.  \\t0\\nThe worst, sappiest dialogue... I could go on and on.  \\t0\\nBut what really made it unwatchable was the direction.  \\t0\\nThe poor actors.  \\t0\\nYou can\\'t even tell if they have any talent because they not only have pathetic lines to speak but the director gave them no action.  \\t0\\nIf you check the director\\'s filmography on this site you will see why this film didn\\'t have a chance.  \\t0\\nThis would not even be good as a made for TV flick.  \\t0\\nIf good intentions made a film great, then this film might be one of the greatest films ever made.  \\t1\\nThe film has great actors, a master director, a significant theme--at least a would-be significant theme, undertone of fifties existential world-weariness, aerial scenes that ought to have thrilled both senses and imagination, and characters about which one might deeply care.  \\t1\\nRegrettably, the film fails.  \\t0\\nThe movie lacks visual interest, drama, expression of feeling, and celebration of the very patriotism that underlines the narrative.  \\t0\\nNo actress has been worse used that June Allison in this movie.  \\t0\\nYet, I enjoy watching it.  \\t1\\nUnfortunately, this is a bad movie that is just plain bad.  \\t0\\nBad script, bad direction and horrible acting make this one plain bad!  \\t0\\nThe dialogue sucked.  \\t0\\nThe cinematography-if it can be called that-sucked.  \\t0\\nThe soundtrack sucked.  \\t0\\nThe acting sucked.  \\t0\\nThe concert sequences just sucked.  \\t0\\nThat was nice.  \\t1\\nThat was funny.  \\t1\\nIt was so funny.  \\t1\\nOverall, this movie was cheap trash.  \\t0\\nBut this movie is not funny, considering the ridiculousness of it.  \\t0\\nI came out of it feeling angry.  \\t0\\n***SPOILERS*** Whatever else can (or can\\'t) be said about it, SURFACE is superbly crafted.  \\t1\\nThe cinematography is simply stunning (to say the least) and the fx are nothing if not state-of-the-art.  \\t1\\nConceptually, the show offers a little bit of everything- and for just about everybody (parents, kids, fantasy and/or fx fans).  \\t1\\nAnd there wasn\\'t a single sour note struck acting-wise, either; some surprisingly solid casting, here.  \\t1\\nAll things considered, a job very well done.  \\t1\\nThanks good a movie like this was done and released.  \\t1\\nOne of the best mexican movies ever!, and one of the less understood, even by mexican themselves, no matter how identified the should have felt with it.  \\t1\\nIt ranks highly as a great noir-crime-drama, incredible performances by Belmondo and Lino Ventura.  \\t1\\nThe attention given to every character, and complex psychological portrayals, detailing loyalty, treachery, love, and hope, are tremendous.  \\t1\\nIt is an excellent drama, an excellent thriller, and an excellent film.  \\t1\\nUp there with the best of Melville.  \\t1\\nEverything about this film is simply incredible.  \\t1\\nYou truly take this journey through the eyes and soul of a child.  \\t1\\nBLACK WATER is a thriller that manages to completely transcend it\\'s limitations (it\\'s an indie flick) by continually subverting expectations to emerge as an intense experience.  \\t1\\nThe performances are real and gripping, the crocdodile is extremely well done, indeed if the Black Water website is to be believed that\\'s because they used real crocs and the swamp location is fabulous.  \\t1\\nI thoroughly enjoyed it when Christopher Eccleston took control of the TARDIS and the continuation of the series.  \\t1\\nI\\'m not sure what he was trying to do with this film.  \\t0\\nIf it was to turn my good day feeling into a night of disturbing memories than I guess he succeeded.  \\t0\\nThere is a lot of beautiful places.  \\t1\\nIt was forced, like everything in this movie.  \\t0\\nAgain, lame.  \\t0\\nHere\\'s where the movie really pi**ed me off.  \\t0\\nAnd don\\'t even get me started on the jerky camerawork.  \\t0\\nWhen I saw it in the theater I thought I was going to be sick.  \\t0\\nSummary: The witticisms weren\\'t witty.  \\t0\\nThe plot - well, I said I\\'d let that one go.  \\t0\\nThe acting was bad.  \\t0\\nReally bad.  \\t0\\nEven Billy Bob couldn\\'t rise above the script, which was worse.  \\t0\\nCamerawork - again, bad.  \\t0\\nRating: 1 out of 10.  \\t0\\nAn AMAZING finale to possibly the BEST trilogy of all time!  \\t1\\nKieslowski never ceases to amaze me.  \\t1\\nHe is one of my favourite directors, and one of the most talented directors in the history of cinema.  \\t1\\nHis use of the colours of the French flag in the three films was nothing short of incredible, every shot, every scene was like a work of art.  \\t1\\nThree of the most visually appealing movies i\\'ve ever seen.  \\t1\\nAnd his subtle connections between the three films are awesome.  \\t1\\nI have to mention this and it is a huge SPOILER, i loved the ending, how all the characters of the three films were the remaining survivors of the ferry disaster, with Valentine and the young judge together, and the old man watching it on her TV, solidifying his happiness over the suffering which he dealt with for those many years.  \\t1\\nI couldn\\'t think of a better way to end the film, but a smile on my face, great way to wrap up an amazing film and trilogy!  \\t1\\nI recommend this for EVERYONE who loves film, movies, anything...A Work of Art!  \\t1\\n10 out of 10 for both the movie and trilogy.  \\t1\\nI literally vomited while watching this film.  \\t0\\nI think i was one of the people who found this another one of roth\\'s pearls.  \\t1\\nhis performance, as awarded, was stunning.  \\t1\\nthe story which was told so eloquently by Francis ford Coppola 25 years earlier, really unfolds gradually and leaves room for the characters to develop.  \\t1\\nIn a most wonderful location lies a story of contrast.  \\t1\\nAll in all a beautiful directed film from Nicola\\'s roeg wih a sublime cast.  \\t1\\nI\\'m translating movies for a living and this is the first movie in my 5-year working experience that I found offensive to my intelligence.  \\t0\\nBut when someone strives for greatness and poetry, but delivers a muddled (and often ridiculous) story, a bunch of disparate scenes, pretentious dialogue... Then you get the worst kind of a movie that some other reviewer very accurately defined as pretentious crap\".  '"
            ]
          },
          "metadata": {},
          "execution_count": 83
        }
      ]
    },
    {
      "cell_type": "markdown",
      "source": [
        "# Function to Remove Puctuations and Stopwords\n",
        "### To Automate the text data pre processing part"
      ],
      "metadata": {
        "id": "f02E18-vvbir"
      }
    },
    {
      "cell_type": "code",
      "source": [
        "import string"
      ],
      "metadata": {
        "id": "_T3wsKG_rT-E"
      },
      "execution_count": 84,
      "outputs": []
    },
    {
      "cell_type": "code",
      "source": [
        "import nltk\n",
        "nltk.download('stopwords')"
      ],
      "metadata": {
        "colab": {
          "base_uri": "https://localhost:8080/"
        },
        "id": "h654hA3grVin",
        "outputId": "cbd89009-b622-4b68-d876-e382c201f10a"
      },
      "execution_count": 85,
      "outputs": [
        {
          "output_type": "stream",
          "name": "stdout",
          "text": [
            "[nltk_data] Downloading package stopwords to /root/nltk_data...\n",
            "[nltk_data]   Package stopwords is already up-to-date!\n"
          ]
        },
        {
          "output_type": "execute_result",
          "data": {
            "text/plain": [
              "True"
            ]
          },
          "metadata": {},
          "execution_count": 85
        }
      ]
    },
    {
      "cell_type": "code",
      "source": [
        "from nltk.corpus import stopwords"
      ],
      "metadata": {
        "id": "nHdcEqVrrbLR"
      },
      "execution_count": 86,
      "outputs": []
    },
    {
      "cell_type": "code",
      "source": [
        "def message_text_pre_process(text_message):\n",
        "  remove_punct = [char for char in text_message if char not in string.punctuation]\n",
        "  remove_punct = ''.join(remove_punct)\n",
        "  remove_stopwords = [word for word in remove_punct.split() if word.lower() not in stopwords.words('english')]\n",
        "  return remove_stopwords"
      ],
      "metadata": {
        "id": "L7j3KMRJjs58"
      },
      "execution_count": 87,
      "outputs": []
    },
    {
      "cell_type": "markdown",
      "source": [
        "**Call the above function to remove punctuation and stopwords from the dataset**"
      ],
      "metadata": {
        "id": "JNx_Lf0Jsf2v"
      }
    },
    {
      "cell_type": "code",
      "source": [
        "email_data_df['comment'].apply(message_text_pre_process)"
      ],
      "metadata": {
        "colab": {
          "base_uri": "https://localhost:8080/"
        },
        "id": "3uvlA1wZnVEB",
        "outputId": "a7065c64-f158-43dc-9fc1-f312859e7cea"
      },
      "execution_count": 88,
      "outputs": [
        {
          "output_type": "execute_result",
          "data": {
            "text/plain": [
              "0      [slowmoving, aimless, movie, distressed, drift...\n",
              "1      [sure, lost, flat, characters, audience, nearl...\n",
              "2      [Attempting, artiness, black, white, clever, c...\n",
              "3                       [little, music, anything, speak]\n",
              "4      [best, scene, movie, Gerardo, trying, find, so...\n",
              "                             ...                        \n",
              "743    [got, bored, watching, Jessice, Lange, take, c...\n",
              "744    [Unfortunately, virtue, films, production, wor...\n",
              "745                                 [word, embarrassing]\n",
              "746                                 [Exceptionally, bad]\n",
              "747     [insult, ones, intelligence, huge, waste, money]\n",
              "Name: comment, Length: 748, dtype: object"
            ]
          },
          "metadata": {},
          "execution_count": 88
        }
      ]
    },
    {
      "cell_type": "code",
      "source": [
        "email_data_df.head()"
      ],
      "metadata": {
        "colab": {
          "base_uri": "https://localhost:8080/",
          "height": 206
        },
        "id": "aJ9_xAOvou_m",
        "outputId": "684655bb-1316-4c23-d846-9a365da08000"
      },
      "execution_count": 89,
      "outputs": [
        {
          "output_type": "execute_result",
          "data": {
            "text/html": [
              "<div>\n",
              "<style scoped>\n",
              "    .dataframe tbody tr th:only-of-type {\n",
              "        vertical-align: middle;\n",
              "    }\n",
              "\n",
              "    .dataframe tbody tr th {\n",
              "        vertical-align: top;\n",
              "    }\n",
              "\n",
              "    .dataframe thead th {\n",
              "        text-align: right;\n",
              "    }\n",
              "</style>\n",
              "<table border=\"1\" class=\"dataframe\">\n",
              "  <thead>\n",
              "    <tr style=\"text-align: right;\">\n",
              "      <th></th>\n",
              "      <th>comment</th>\n",
              "      <th>sentiment</th>\n",
              "    </tr>\n",
              "  </thead>\n",
              "  <tbody>\n",
              "    <tr>\n",
              "      <th>0</th>\n",
              "      <td>A very, very, very slow-moving, aimless movie ...</td>\n",
              "      <td>0</td>\n",
              "    </tr>\n",
              "    <tr>\n",
              "      <th>1</th>\n",
              "      <td>Not sure who was more lost - the flat characte...</td>\n",
              "      <td>0</td>\n",
              "    </tr>\n",
              "    <tr>\n",
              "      <th>2</th>\n",
              "      <td>Attempting artiness with black &amp; white and cle...</td>\n",
              "      <td>0</td>\n",
              "    </tr>\n",
              "    <tr>\n",
              "      <th>3</th>\n",
              "      <td>Very little music or anything to speak of.</td>\n",
              "      <td>0</td>\n",
              "    </tr>\n",
              "    <tr>\n",
              "      <th>4</th>\n",
              "      <td>The best scene in the movie was when Gerardo i...</td>\n",
              "      <td>1</td>\n",
              "    </tr>\n",
              "  </tbody>\n",
              "</table>\n",
              "</div>"
            ],
            "text/plain": [
              "                                             comment  sentiment\n",
              "0  A very, very, very slow-moving, aimless movie ...          0\n",
              "1  Not sure who was more lost - the flat characte...          0\n",
              "2  Attempting artiness with black & white and cle...          0\n",
              "3       Very little music or anything to speak of.            0\n",
              "4  The best scene in the movie was when Gerardo i...          1"
            ]
          },
          "metadata": {},
          "execution_count": 89
        }
      ]
    },
    {
      "cell_type": "markdown",
      "source": [
        "# Vectorization\n",
        "This process assigns values to the words in our processed dataset. This process is helpful in identifying word counts and frequency."
      ],
      "metadata": {
        "id": "O3H40qdspwki"
      }
    },
    {
      "cell_type": "code",
      "source": [
        "from sklearn.feature_extraction.text import CountVectorizer"
      ],
      "metadata": {
        "id": "hhqz84IKnjBD"
      },
      "execution_count": 90,
      "outputs": []
    },
    {
      "cell_type": "code",
      "source": [
        "bag_of_words = CountVectorizer(analyzer=message_text_pre_process).fit(email_data_df['comment'])"
      ],
      "metadata": {
        "id": "KtMo_NImoXyw"
      },
      "execution_count": 91,
      "outputs": []
    },
    {
      "cell_type": "code",
      "source": [
        "bag_of_words_trf = bag_of_words.transform(email_data_df['comment'])"
      ],
      "metadata": {
        "id": "RlyoOb-ApXaD"
      },
      "execution_count": 92,
      "outputs": []
    },
    {
      "cell_type": "markdown",
      "source": [
        "# TF-IDF (Transformer)\n",
        "This process creates the bag of words containg the Text data converted into numerical feature vectors with fixed size. From this we can determine the corpus of document."
      ],
      "metadata": {
        "id": "MjRbDF9fp2TZ"
      }
    },
    {
      "cell_type": "code",
      "source": [
        "from sklearn.feature_extraction.text import TfidfTransformer"
      ],
      "metadata": {
        "id": "RKrO5NBOp-dt"
      },
      "execution_count": 93,
      "outputs": []
    },
    {
      "cell_type": "code",
      "source": [
        "tfidf_fit = TfidfTransformer().fit(bag_of_words_trf)"
      ],
      "metadata": {
        "id": "TeEKUp2EqEnJ"
      },
      "execution_count": 94,
      "outputs": []
    },
    {
      "cell_type": "code",
      "source": [
        "tfidf_trf = tfidf_fit.transform(bag_of_words_trf)"
      ],
      "metadata": {
        "id": "o2iXP-vxqQXw"
      },
      "execution_count": 95,
      "outputs": []
    },
    {
      "cell_type": "markdown",
      "source": [
        "# Model Building"
      ],
      "metadata": {
        "id": "wPlFx7Dyq8eo"
      }
    },
    {
      "cell_type": "code",
      "source": [
        "from sklearn.naive_bayes import MultinomialNB"
      ],
      "metadata": {
        "id": "nnhH-Lj5qtkN"
      },
      "execution_count": 96,
      "outputs": []
    },
    {
      "cell_type": "code",
      "source": [
        "spam_detector_model = MultinomialNB().fit(tfidf_trf,email_data_df['sentiment'])"
      ],
      "metadata": {
        "id": "vAcL53NarFpA"
      },
      "execution_count": 97,
      "outputs": []
    },
    {
      "cell_type": "code",
      "source": [
        "test_message = email_data_df['comment'][4]"
      ],
      "metadata": {
        "id": "S68nEsAercCj"
      },
      "execution_count": 98,
      "outputs": []
    },
    {
      "cell_type": "code",
      "source": [
        "# test_message = 'Winner !!! You won 10 million'"
      ],
      "metadata": {
        "id": "MP1JA7rhr-PG"
      },
      "execution_count": 99,
      "outputs": []
    },
    {
      "cell_type": "code",
      "source": [
        "bag_of_words_test_message = bag_of_words.transform([test_message])"
      ],
      "metadata": {
        "id": "xWBvy2usr_bN"
      },
      "execution_count": 100,
      "outputs": []
    },
    {
      "cell_type": "code",
      "source": [
        "tfidf_test_messsge = tfidf_fit.transform(bag_of_words_test_message)"
      ],
      "metadata": {
        "id": "6ZyrlLC_sgn7"
      },
      "execution_count": 101,
      "outputs": []
    },
    {
      "cell_type": "code",
      "source": [
        "spam_detector_model.predict(tfidf_test_messsge)[0]"
      ],
      "metadata": {
        "colab": {
          "base_uri": "https://localhost:8080/"
        },
        "id": "JeiKRWpvtIle",
        "outputId": "b494841a-dc7c-47cf-d100-3b607f07d981"
      },
      "execution_count": 102,
      "outputs": [
        {
          "output_type": "execute_result",
          "data": {
            "text/plain": [
              "1"
            ]
          },
          "metadata": {},
          "execution_count": 102
        }
      ]
    },
    {
      "cell_type": "code",
      "source": [
        "email_data_df['sentiment'][4]"
      ],
      "metadata": {
        "colab": {
          "base_uri": "https://localhost:8080/"
        },
        "id": "tXLoPVCdtT1O",
        "outputId": "e349ae3e-fd6f-479c-97a8-8bdbabe1d1db"
      },
      "execution_count": 103,
      "outputs": [
        {
          "output_type": "execute_result",
          "data": {
            "text/plain": [
              "1"
            ]
          },
          "metadata": {},
          "execution_count": 103
        }
      ]
    },
    {
      "cell_type": "code",
      "source": [
        "email_data_df.head()"
      ],
      "metadata": {
        "colab": {
          "base_uri": "https://localhost:8080/",
          "height": 206
        },
        "id": "q33_GewgtcZl",
        "outputId": "5ef0a103-72aa-47da-ae52-de61bab6b6d6"
      },
      "execution_count": 104,
      "outputs": [
        {
          "output_type": "execute_result",
          "data": {
            "text/html": [
              "<div>\n",
              "<style scoped>\n",
              "    .dataframe tbody tr th:only-of-type {\n",
              "        vertical-align: middle;\n",
              "    }\n",
              "\n",
              "    .dataframe tbody tr th {\n",
              "        vertical-align: top;\n",
              "    }\n",
              "\n",
              "    .dataframe thead th {\n",
              "        text-align: right;\n",
              "    }\n",
              "</style>\n",
              "<table border=\"1\" class=\"dataframe\">\n",
              "  <thead>\n",
              "    <tr style=\"text-align: right;\">\n",
              "      <th></th>\n",
              "      <th>comment</th>\n",
              "      <th>sentiment</th>\n",
              "    </tr>\n",
              "  </thead>\n",
              "  <tbody>\n",
              "    <tr>\n",
              "      <th>0</th>\n",
              "      <td>A very, very, very slow-moving, aimless movie ...</td>\n",
              "      <td>0</td>\n",
              "    </tr>\n",
              "    <tr>\n",
              "      <th>1</th>\n",
              "      <td>Not sure who was more lost - the flat characte...</td>\n",
              "      <td>0</td>\n",
              "    </tr>\n",
              "    <tr>\n",
              "      <th>2</th>\n",
              "      <td>Attempting artiness with black &amp; white and cle...</td>\n",
              "      <td>0</td>\n",
              "    </tr>\n",
              "    <tr>\n",
              "      <th>3</th>\n",
              "      <td>Very little music or anything to speak of.</td>\n",
              "      <td>0</td>\n",
              "    </tr>\n",
              "    <tr>\n",
              "      <th>4</th>\n",
              "      <td>The best scene in the movie was when Gerardo i...</td>\n",
              "      <td>1</td>\n",
              "    </tr>\n",
              "  </tbody>\n",
              "</table>\n",
              "</div>"
            ],
            "text/plain": [
              "                                             comment  sentiment\n",
              "0  A very, very, very slow-moving, aimless movie ...          0\n",
              "1  Not sure who was more lost - the flat characte...          0\n",
              "2  Attempting artiness with black & white and cle...          0\n",
              "3       Very little music or anything to speak of.            0\n",
              "4  The best scene in the movie was when Gerardo i...          1"
            ]
          },
          "metadata": {},
          "execution_count": 104
        }
      ]
    },
    {
      "cell_type": "code",
      "source": [
        "prediction_for_all_messages = spam_detector_model.predict(tfidf_trf)"
      ],
      "metadata": {
        "id": "_rfz9APGuhNN"
      },
      "execution_count": 105,
      "outputs": []
    },
    {
      "cell_type": "code",
      "source": [
        "from sklearn.metrics import classification_report"
      ],
      "metadata": {
        "id": "pIKrL_2Lt9fy"
      },
      "execution_count": 106,
      "outputs": []
    },
    {
      "cell_type": "code",
      "source": [
        "print(classification_report(email_data_df['sentiment'],prediction_for_all_messages))"
      ],
      "metadata": {
        "colab": {
          "base_uri": "https://localhost:8080/"
        },
        "id": "UJBPq1L_uNn-",
        "outputId": "061505e7-dc5c-4865-e104-4ed2a41003dd"
      },
      "execution_count": 107,
      "outputs": [
        {
          "output_type": "stream",
          "name": "stdout",
          "text": [
            "              precision    recall  f1-score   support\n",
            "\n",
            "           0       0.98      0.98      0.98       362\n",
            "           1       0.98      0.98      0.98       386\n",
            "\n",
            "    accuracy                           0.98       748\n",
            "   macro avg       0.98      0.98      0.98       748\n",
            "weighted avg       0.98      0.98      0.98       748\n",
            "\n"
          ]
        }
      ]
    },
    {
      "cell_type": "markdown",
      "source": [
        "# Conclusion"
      ],
      "metadata": {
        "id": "dV3J1DDP07oo"
      }
    },
    {
      "cell_type": "markdown",
      "source": [
        "Our model is able to determine sentiments on a given comment to a movie with a 98% accuracy."
      ],
      "metadata": {
        "id": "V0c7YDrc0rqO"
      }
    }
  ]
}